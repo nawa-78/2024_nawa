{
 "cells": [
  {
   "cell_type": "code",
   "execution_count": 1,
   "id": "0fcbe720-e1f8-4a54-b90e-4042bc038a0b",
   "metadata": {},
   "outputs": [
    {
     "name": "stdout",
     "output_type": "stream",
     "text": [
      "Requirement already satisfied: protobuf==3.20.1 in /usr/local/lib/python3.8/dist-packages (3.20.1)\n",
      "\u001b[33mWARNING: Running pip as the 'root' user can result in broken permissions and conflicting behaviour with the system package manager. It is recommended to use a virtual environment instead: https://pip.pypa.io/warnings/venv\u001b[0m\u001b[33m\n",
      "\u001b[0m\n",
      "\u001b[1m[\u001b[0m\u001b[34;49mnotice\u001b[0m\u001b[1;39;49m]\u001b[0m\u001b[39;49m A new release of pip available: \u001b[0m\u001b[31;49m22.3.1\u001b[0m\u001b[39;49m -> \u001b[0m\u001b[32;49m23.2.1\u001b[0m\n",
      "\u001b[1m[\u001b[0m\u001b[34;49mnotice\u001b[0m\u001b[1;39;49m]\u001b[0m\u001b[39;49m To update, run: \u001b[0m\u001b[32;49mpython3 -m pip install --upgrade pip\u001b[0m\n"
     ]
    }
   ],
   "source": [
    "import google.protobuf\n",
    "!pip install protobuf==3.20.1"
   ]
  },
  {
   "cell_type": "code",
   "execution_count": 2,
   "id": "2b502fe9-380a-4e7d-ad9e-b30e59631dcf",
   "metadata": {},
   "outputs": [
    {
     "name": "stderr",
     "output_type": "stream",
     "text": [
      "2023-10-09 08:16:14.898116: I tensorflow/core/util/util.cc:169] oneDNN custom operations are on. You may see slightly different numerical results due to floating-point round-off errors from different computation orders. To turn them off, set the environment variable `TF_ENABLE_ONEDNN_OPTS=0`.\n"
     ]
    }
   ],
   "source": [
    "import pandas as pd\n",
    "import torch\n",
    "from transformers import AutoTokenizer, AutoModelForSequenceClassification\n",
    "from transformers import AdamW\n",
    "\n"
   ]
  },
  {
   "cell_type": "code",
   "execution_count": 3,
   "id": "4a390ae3-159b-495b-bb67-98bd8bf4149f",
   "metadata": {},
   "outputs": [
    {
     "name": "stdout",
     "output_type": "stream",
     "text": [
      "Requirement already satisfied: transformers in /usr/local/lib/python3.8/dist-packages (4.30.2)\n",
      "Requirement already satisfied: datasets in /usr/local/lib/python3.8/dist-packages (2.4.0)\n",
      "Requirement already satisfied: requests in /usr/local/lib/python3.8/dist-packages (from transformers) (2.28.1)\n",
      "Requirement already satisfied: pyyaml>=5.1 in /usr/local/lib/python3.8/dist-packages (from transformers) (5.4.1)\n",
      "Requirement already satisfied: numpy>=1.17 in /usr/local/lib/python3.8/dist-packages (from transformers) (1.22.4)\n",
      "Requirement already satisfied: safetensors>=0.3.1 in /usr/local/lib/python3.8/dist-packages (from transformers) (0.3.1)\n",
      "Requirement already satisfied: regex!=2019.12.17 in /usr/local/lib/python3.8/dist-packages (from transformers) (2022.8.17)\n",
      "Requirement already satisfied: tqdm>=4.27 in /usr/local/lib/python3.8/dist-packages (from transformers) (4.66.1)\n",
      "Requirement already satisfied: huggingface-hub<1.0,>=0.14.1 in /usr/local/lib/python3.8/dist-packages (from transformers) (0.14.1)\n",
      "Requirement already satisfied: filelock in /usr/local/lib/python3.8/dist-packages (from transformers) (3.8.0)\n",
      "Requirement already satisfied: tokenizers!=0.11.3,<0.14,>=0.11.1 in /usr/local/lib/python3.8/dist-packages (from transformers) (0.13.3)\n",
      "Requirement already satisfied: packaging>=20.0 in /usr/local/lib/python3.8/dist-packages (from transformers) (21.3)\n",
      "Requirement already satisfied: pyarrow>=6.0.0 in /usr/local/lib/python3.8/dist-packages (from datasets) (9.0.0)\n",
      "Requirement already satisfied: responses<0.19 in /usr/local/lib/python3.8/dist-packages (from datasets) (0.18.0)\n",
      "Requirement already satisfied: pandas in /usr/local/lib/python3.8/dist-packages (from datasets) (1.4.3)\n",
      "Requirement already satisfied: dill<0.3.6 in /usr/local/lib/python3.8/dist-packages (from datasets) (0.3.4)\n",
      "Requirement already satisfied: multiprocess in /usr/local/lib/python3.8/dist-packages (from datasets) (0.70.12.2)\n",
      "Requirement already satisfied: fsspec[http]>=2021.11.1 in /usr/local/lib/python3.8/dist-packages (from datasets) (2022.7.1)\n",
      "Requirement already satisfied: aiohttp in /usr/local/lib/python3.8/dist-packages (from datasets) (3.8.5)\n",
      "Requirement already satisfied: xxhash in /usr/local/lib/python3.8/dist-packages (from datasets) (3.0.0)\n",
      "Requirement already satisfied: typing-extensions>=3.7.4.3 in /usr/local/lib/python3.8/dist-packages (from huggingface-hub<1.0,>=0.14.1->transformers) (4.7.1)\n",
      "Requirement already satisfied: pyparsing!=3.0.5,>=2.0.2 in /usr/local/lib/python3.8/dist-packages (from packaging>=20.0->transformers) (3.0.9)\n",
      "Requirement already satisfied: charset-normalizer<3,>=2 in /usr/local/lib/python3.8/dist-packages (from requests->transformers) (2.1.1)\n",
      "Requirement already satisfied: idna<4,>=2.5 in /usr/local/lib/python3.8/dist-packages (from requests->transformers) (3.3)\n",
      "Requirement already satisfied: certifi>=2017.4.17 in /usr/local/lib/python3.8/dist-packages (from requests->transformers) (2022.6.15)\n",
      "Requirement already satisfied: urllib3<1.27,>=1.21.1 in /usr/local/lib/python3.8/dist-packages (from requests->transformers) (1.26.11)\n",
      "Requirement already satisfied: yarl<2.0,>=1.0 in /usr/local/lib/python3.8/dist-packages (from aiohttp->datasets) (1.8.1)\n",
      "Requirement already satisfied: multidict<7.0,>=4.5 in /usr/local/lib/python3.8/dist-packages (from aiohttp->datasets) (6.0.2)\n",
      "Requirement already satisfied: async-timeout<5.0,>=4.0.0a3 in /usr/local/lib/python3.8/dist-packages (from aiohttp->datasets) (4.0.2)\n",
      "Requirement already satisfied: aiosignal>=1.1.2 in /usr/local/lib/python3.8/dist-packages (from aiohttp->datasets) (1.2.0)\n",
      "Requirement already satisfied: frozenlist>=1.1.1 in /usr/local/lib/python3.8/dist-packages (from aiohttp->datasets) (1.3.1)\n",
      "Requirement already satisfied: attrs>=17.3.0 in /usr/local/lib/python3.8/dist-packages (from aiohttp->datasets) (22.1.0)\n",
      "Requirement already satisfied: python-dateutil>=2.8.1 in /usr/local/lib/python3.8/dist-packages (from pandas->datasets) (2.8.2)\n",
      "Requirement already satisfied: pytz>=2020.1 in /usr/local/lib/python3.8/dist-packages (from pandas->datasets) (2022.2.1)\n",
      "Requirement already satisfied: six>=1.5 in /usr/local/lib/python3.8/dist-packages (from python-dateutil>=2.8.1->pandas->datasets) (1.16.0)\n",
      "\u001b[33mWARNING: Running pip as the 'root' user can result in broken permissions and conflicting behaviour with the system package manager. It is recommended to use a virtual environment instead: https://pip.pypa.io/warnings/venv\u001b[0m\u001b[33m\n",
      "\u001b[0m\n",
      "\u001b[1m[\u001b[0m\u001b[34;49mnotice\u001b[0m\u001b[1;39;49m]\u001b[0m\u001b[39;49m A new release of pip available: \u001b[0m\u001b[31;49m22.3.1\u001b[0m\u001b[39;49m -> \u001b[0m\u001b[32;49m23.2.1\u001b[0m\n",
      "\u001b[1m[\u001b[0m\u001b[34;49mnotice\u001b[0m\u001b[1;39;49m]\u001b[0m\u001b[39;49m To update, run: \u001b[0m\u001b[32;49mpython3 -m pip install --upgrade pip\u001b[0m\n",
      "Requirement already satisfied: fugashi in /usr/local/lib/python3.8/dist-packages (1.1.0)\n",
      "Requirement already satisfied: ipadic in /usr/local/lib/python3.8/dist-packages (1.0.0)\n",
      "\u001b[33mWARNING: Running pip as the 'root' user can result in broken permissions and conflicting behaviour with the system package manager. It is recommended to use a virtual environment instead: https://pip.pypa.io/warnings/venv\u001b[0m\u001b[33m\n",
      "\u001b[0m\n",
      "\u001b[1m[\u001b[0m\u001b[34;49mnotice\u001b[0m\u001b[1;39;49m]\u001b[0m\u001b[39;49m A new release of pip available: \u001b[0m\u001b[31;49m22.3.1\u001b[0m\u001b[39;49m -> \u001b[0m\u001b[32;49m23.2.1\u001b[0m\n",
      "\u001b[1m[\u001b[0m\u001b[34;49mnotice\u001b[0m\u001b[1;39;49m]\u001b[0m\u001b[39;49m To update, run: \u001b[0m\u001b[32;49mpython3 -m pip install --upgrade pip\u001b[0m\n"
     ]
    }
   ],
   "source": [
    "! pip install transformers datasets\n",
    "\n",
    "# 東北大学の日本語用BERT使用に必要なパッケージをインストール\n",
    "! pip install fugashi ipadic"
   ]
  },
  {
   "cell_type": "code",
   "execution_count": 4,
   "id": "7a852e33-4675-4df1-b3f3-17216e5d07ed",
   "metadata": {},
   "outputs": [
    {
     "name": "stdout",
     "output_type": "stream",
     "text": [
      "Mon Oct  9 08:17:48 2023       \n",
      "+-----------------------------------------------------------------------------+\n",
      "| NVIDIA-SMI 470.129.06   Driver Version: 470.129.06   CUDA Version: 11.4     |\n",
      "|-------------------------------+----------------------+----------------------+\n",
      "| GPU  Name        Persistence-M| Bus-Id        Disp.A | Volatile Uncorr. ECC |\n",
      "| Fan  Temp  Perf  Pwr:Usage/Cap|         Memory-Usage | GPU-Util  Compute M. |\n",
      "|                               |                      |               MIG M. |\n",
      "|===============================+======================+======================|\n",
      "|   0  NVIDIA GeForce ...  Off  | 00000000:01:00.0 Off |                  N/A |\n",
      "|  0%   45C    P8    19W / 350W |    767MiB / 24234MiB |      0%      Default |\n",
      "|                               |                      |                  N/A |\n",
      "+-------------------------------+----------------------+----------------------+\n",
      "                                                                               \n",
      "+-----------------------------------------------------------------------------+\n",
      "| Processes:                                                                  |\n",
      "|  GPU   GI   CI        PID   Type   Process name                  GPU Memory |\n",
      "|        ID   ID                                                   Usage      |\n",
      "|=============================================================================|\n",
      "+-----------------------------------------------------------------------------+\n"
     ]
    }
   ],
   "source": [
    "!nvidia-smi"
   ]
  },
  {
   "cell_type": "code",
   "execution_count": 5,
   "id": "d8484f58-b2f6-40a8-9c86-3a7821615c98",
   "metadata": {},
   "outputs": [
    {
     "data": {
      "text/plain": [
       "'cuda:0'"
      ]
     },
     "execution_count": 5,
     "metadata": {},
     "output_type": "execute_result"
    }
   ],
   "source": [
    "device = \"cuda:0\" if torch.cuda.is_available() else \"cpu\"\n",
    "device"
   ]
  },
  {
   "cell_type": "code",
   "execution_count": 6,
   "id": "05655a57-bb9b-45d5-9f38-68973209fdad",
   "metadata": {},
   "outputs": [],
   "source": [
    "checkpoint = 'cl-tohoku/bert-base-japanese-whole-word-masking'\n",
    "tokenizer = AutoTokenizer.from_pretrained(checkpoint)"
   ]
  },
  {
   "cell_type": "code",
   "execution_count": 7,
   "id": "7b1be394-a29f-48d7-b917-821bcf782318",
   "metadata": {},
   "outputs": [
    {
     "ename": "NameError",
     "evalue": "name 'train' is not defined",
     "output_type": "error",
     "traceback": [
      "\u001b[0;31m---------------------------------------------------------------------------\u001b[0m",
      "\u001b[0;31mNameError\u001b[0m                                 Traceback (most recent call last)",
      "Input \u001b[0;32mIn [7]\u001b[0m, in \u001b[0;36m<cell line: 14>\u001b[0;34m()\u001b[0m\n\u001b[1;32m     10\u001b[0m \u001b[38;5;66;03m# Transformers用のデータセット形式に変換\u001b[39;00m\n\u001b[1;32m     11\u001b[0m \u001b[38;5;66;03m# pandas.DataFrame -> datasets.Dataset\u001b[39;00m\n\u001b[1;32m     12\u001b[0m target_columns \u001b[38;5;241m=\u001b[39m [\u001b[38;5;124m'\u001b[39m\u001b[38;5;124m発話者\u001b[39m\u001b[38;5;124m'\u001b[39m, \u001b[38;5;124m\"\u001b[39m\u001b[38;5;124m応答者\u001b[39m\u001b[38;5;124m\"\u001b[39m,\u001b[38;5;124m\"\u001b[39m\u001b[38;5;124m対話行為list\u001b[39m\u001b[38;5;124m\"\u001b[39m]\n\u001b[0;32m---> 14\u001b[0m train_dataset \u001b[38;5;241m=\u001b[39m Dataset\u001b[38;5;241m.\u001b[39mfrom_pandas(\u001b[43mtrain\u001b[49m[target_columns])\n\u001b[1;32m     15\u001b[0m val_dataset \u001b[38;5;241m=\u001b[39m Dataset\u001b[38;5;241m.\u001b[39mfrom_pandas(val[target_columns])\n\u001b[1;32m     16\u001b[0m test_dataset \u001b[38;5;241m=\u001b[39m Dataset\u001b[38;5;241m.\u001b[39mfrom_pandas(test[target_columns])\n",
      "\u001b[0;31mNameError\u001b[0m: name 'train' is not defined"
     ]
    }
   ],
   "source": [
    "# 前処理関数: tokenize_function\n",
    "# import numpy as np\n",
    "# from datasets import Dataset\n",
    "# def tokenize_function(batch):\n",
    "#     tokenized_batch = tokenizer(batch['発話者'], batch['応答者'], truncation=True, padding='max_length')\n",
    "#     #tokenized_batch['labels'] = batch['対話行為list']\n",
    "#     tokenized_batch['labels'] = np.argmax(batch['対話行為list'], axis=-1)\n",
    "#     return tokenized_batch\n",
    "\n",
    "# # Transformers用のデータセット形式に変換\n",
    "# # pandas.DataFrame -> datasets.Dataset\n",
    "# target_columns = ['発話者', \"応答者\",\"対話行為list\"]\n",
    "\n",
    "# train_dataset = Dataset.from_pandas(train[target_columns])\n",
    "# val_dataset = Dataset.from_pandas(val[target_columns])\n",
    "# test_dataset = Dataset.from_pandas(test[target_columns])\n",
    "# batch_size = 10\n",
    "# # 前処理（tokenize_function） を適用\n",
    "# train_tokenized_dataset = train_dataset.map(tokenize_function, batched=True)\n",
    "# val_tokenized_dataset = val_dataset.map(tokenize_function, batched=True)\n",
    "# test_tokenized_dataset = test_dataset.map(tokenize_function, batched=True)"
   ]
  },
  {
   "cell_type": "code",
   "execution_count": 8,
   "id": "03105cc7-8751-4612-9ecd-9ef31fe867c0",
   "metadata": {},
   "outputs": [],
   "source": [
    "model = torch.load('dialogueact_weight.pth')"
   ]
  },
  {
   "cell_type": "code",
   "execution_count": 9,
   "id": "4f478284-41d4-4608-a5a0-f71ddf78c39a",
   "metadata": {},
   "outputs": [],
   "source": [
    "dialogue_labels = [\"自己開示\", \"質問(YesNo)\", '質問(What)', '応答(YesNo)', '応答(平叙)', 'あいづち', 'フィラー', '確認', '要求']"
   ]
  },
  {
   "cell_type": "code",
   "execution_count": 10,
   "id": "fbc1acce-1fe2-4b3e-8ad7-cfef1b8c1520",
   "metadata": {},
   "outputs": [
    {
     "data": {
      "text/plain": [
       "'質問(YesNo)'"
      ]
     },
     "execution_count": 10,
     "metadata": {},
     "output_type": "execute_result"
    }
   ],
   "source": [
    "import numpy as np\n",
    "def np_softmax(x):\n",
    "    f_x = np.exp(x) / np.sum(np.exp(x))\n",
    "    return f_x\n",
    "\n",
    "#def analyze_emotion(text, show_fig=False, ret_prob=False):\n",
    "def analyze_emotion(text1, text2):\n",
    "    # 推論モードを有効か\n",
    "    model.eval()\n",
    "\n",
    "    # 入力データ変換 + 推論\n",
    "    tokens = tokenizer(text1, text2, truncation=True, return_tensors=\"pt\")\n",
    "    tokens.to(model.device)\n",
    "    preds = model(**tokens)\n",
    "    #print(preds)\n",
    "    prob = np_softmax(preds.logits.cpu().detach().numpy()[0])\n",
    "    out_dict = {n: p for n, p in zip(dialogue_labels, prob)}\n",
    "    \n",
    "    max_key = max(out_dict, key=out_dict.get)\n",
    "    #print(max_key, out_dict[max_key])\n",
    "\n",
    "    \n",
    "\n",
    "    # 棒グラフを描画\n",
    "    #if show_fig:\n",
    "        #plt.figure(figsize=(8, 3))\n",
    "        #df = pd.DataFrame(out_dict.items(), columns=['name', 'prob'])\n",
    "        #sns.barplot(x='name', y='prob', data=df)\n",
    "        #plt.title('入力文 : ' + text, fontsize=15)\n",
    "\n",
    "    #if ret_prob:\n",
    "        #return out_dict\n",
    "    #return out_dict\n",
    "    return max_key\n",
    "\n",
    "# 動作確認\n",
    "analyze_emotion(\"そうなの！チラッと見たら全然移りが違うの。真剣な表情くっきり！\",\"Aも買っちゃえば？高いかもしれないけど\")"
   ]
  },
  {
   "cell_type": "code",
   "execution_count": 13,
   "id": "e0ccb4e0-3644-4790-ba95-93a98ff918e8",
   "metadata": {},
   "outputs": [
    {
     "data": {
      "text/html": [
       "<div>\n",
       "<style scoped>\n",
       "    .dataframe tbody tr th:only-of-type {\n",
       "        vertical-align: middle;\n",
       "    }\n",
       "\n",
       "    .dataframe tbody tr th {\n",
       "        vertical-align: top;\n",
       "    }\n",
       "\n",
       "    .dataframe thead th {\n",
       "        text-align: right;\n",
       "    }\n",
       "</style>\n",
       "<table border=\"1\" class=\"dataframe\">\n",
       "  <thead>\n",
       "    <tr style=\"text-align: right;\">\n",
       "      <th></th>\n",
       "      <th>ID</th>\n",
       "      <th>A</th>\n",
       "      <th>B</th>\n",
       "      <th>感情</th>\n",
       "    </tr>\n",
       "  </thead>\n",
       "  <tbody>\n",
       "    <tr>\n",
       "      <th>0</th>\n",
       "      <td>1_1</td>\n",
       "      <td>寝ているときに首がもぞもぞしたので、起きて見てみたらムカデがいたの！</td>\n",
       "      <td>きゃーっ！それはびっくりだね。</td>\n",
       "      <td>おどろく</td>\n",
       "    </tr>\n",
       "    <tr>\n",
       "      <th>1</th>\n",
       "      <td>1_2</td>\n",
       "      <td>妹が先日出産しまして。赤ちゃんに会いに病院に行ってきました。</td>\n",
       "      <td>おめでとうございます。男の子、女の子？</td>\n",
       "      <td>わくわくする</td>\n",
       "    </tr>\n",
       "    <tr>\n",
       "      <th>2</th>\n",
       "      <td>1_3</td>\n",
       "      <td>立っていたら、いきなり膝カックンされた！</td>\n",
       "      <td>あはは。油断しちゃったのね。</td>\n",
       "      <td>怒る</td>\n",
       "    </tr>\n",
       "    <tr>\n",
       "      <th>3</th>\n",
       "      <td>1_4</td>\n",
       "      <td>聞いてください、うちの息子がやりました。</td>\n",
       "      <td>何かしでかしたの？</td>\n",
       "      <td>誇りに思う</td>\n",
       "    </tr>\n",
       "    <tr>\n",
       "      <th>4</th>\n",
       "      <td>1_5</td>\n",
       "      <td>あーがっくり。私の親友が、転校してしまいました。</td>\n",
       "      <td>それは、がっくりだね。</td>\n",
       "      <td>悲しい</td>\n",
       "    </tr>\n",
       "  </tbody>\n",
       "</table>\n",
       "</div>"
      ],
      "text/plain": [
       "    ID                                   A                    B      感情\n",
       "0  1_1  寝ているときに首がもぞもぞしたので、起きて見てみたらムカデがいたの！      きゃーっ！それはびっくりだね。    おどろく\n",
       "1  1_2      妹が先日出産しまして。赤ちゃんに会いに病院に行ってきました。  おめでとうございます。男の子、女の子？  わくわくする\n",
       "2  1_3                立っていたら、いきなり膝カックンされた！       あはは。油断しちゃったのね。      怒る\n",
       "3  1_4                聞いてください、うちの息子がやりました。            何かしでかしたの？   誇りに思う\n",
       "4  1_5            あーがっくり。私の親友が、転校してしまいました。          それは、がっくりだね。     悲しい"
      ]
     },
     "execution_count": 13,
     "metadata": {},
     "output_type": "execute_result"
    }
   ],
   "source": [
    "df = pd.read_csv(\"empathetic_bunrui.csv\")\n",
    "df.head()"
   ]
  },
  {
   "cell_type": "code",
   "execution_count": 15,
   "id": "d1fe9d3d-2377-4009-9d6a-6eec09ca8752",
   "metadata": {},
   "outputs": [],
   "source": [
    "hatuwabun_A = df[\"A\"].to_list()\n",
    "hatuwabun_B = df[\"B\"].to_list()"
   ]
  },
  {
   "cell_type": "code",
   "execution_count": 23,
   "id": "20440857-e188-44ff-848c-acadbfd759a9",
   "metadata": {},
   "outputs": [],
   "source": [
    "act = []\n",
    "for i in range(len(hatuwabun_A)):\n",
    "    result = analyze_emotion(hatuwabun_A[i],hatuwabun_B[i])\n",
    "    #print(result,hatuwabun_B[i])\n",
    "    act.append(result)"
   ]
  },
  {
   "cell_type": "code",
   "execution_count": 24,
   "id": "8d0ced8c-f812-48eb-92f5-92a2c8fbe98b",
   "metadata": {},
   "outputs": [],
   "source": [
    "df[\"対話行為\"] = act"
   ]
  },
  {
   "cell_type": "code",
   "execution_count": 27,
   "id": "655d8553-1cd5-4497-9d08-4062292ccee6",
   "metadata": {},
   "outputs": [
    {
     "data": {
      "text/html": [
       "<div>\n",
       "<style scoped>\n",
       "    .dataframe tbody tr th:only-of-type {\n",
       "        vertical-align: middle;\n",
       "    }\n",
       "\n",
       "    .dataframe tbody tr th {\n",
       "        vertical-align: top;\n",
       "    }\n",
       "\n",
       "    .dataframe thead th {\n",
       "        text-align: right;\n",
       "    }\n",
       "</style>\n",
       "<table border=\"1\" class=\"dataframe\">\n",
       "  <thead>\n",
       "    <tr style=\"text-align: right;\">\n",
       "      <th></th>\n",
       "      <th>ID</th>\n",
       "      <th>A</th>\n",
       "      <th>B</th>\n",
       "      <th>感情</th>\n",
       "      <th>対話行為</th>\n",
       "    </tr>\n",
       "  </thead>\n",
       "  <tbody>\n",
       "    <tr>\n",
       "      <th>19995</th>\n",
       "      <td>1_19996</td>\n",
       "      <td>シャッターが下りてる商店街を歩くと、なんだか切なくなる</td>\n",
       "      <td>今は商店街ってよりもスーパーだもんね</td>\n",
       "      <td>感傷的になる</td>\n",
       "      <td>自己開示</td>\n",
       "    </tr>\n",
       "    <tr>\n",
       "      <th>19996</th>\n",
       "      <td>1_19997</td>\n",
       "      <td>今担当してもらってる美容師さん、本当に上手なんだ</td>\n",
       "      <td>理想の髪型にカットしてもらえるの？</td>\n",
       "      <td>信頼する</td>\n",
       "      <td>質問(YesNo)</td>\n",
       "    </tr>\n",
       "    <tr>\n",
       "      <th>19997</th>\n",
       "      <td>1_19998</td>\n",
       "      <td>サークルで学祭の責任者をやったんだけど、力不足でまとめあげられなかったんだよね</td>\n",
       "      <td>そうだったんだ、残念だったねぇ</td>\n",
       "      <td>恥じる</td>\n",
       "      <td>自己開示</td>\n",
       "    </tr>\n",
       "    <tr>\n",
       "      <th>19998</th>\n",
       "      <td>1_19999</td>\n",
       "      <td>来年のオリンピックどうなるのかな？</td>\n",
       "      <td>不安だよね</td>\n",
       "      <td>懸念する</td>\n",
       "      <td>応答(平叙)</td>\n",
       "    </tr>\n",
       "    <tr>\n",
       "      <th>19999</th>\n",
       "      <td>1_20000</td>\n",
       "      <td>日本のため、国民のためって働いてくれている誠実な政治家っているのかね？</td>\n",
       "      <td>いないに一票</td>\n",
       "      <td>誠実な気持ち</td>\n",
       "      <td>応答(平叙)</td>\n",
       "    </tr>\n",
       "  </tbody>\n",
       "</table>\n",
       "</div>"
      ],
      "text/plain": [
       "            ID                                        A                   B  \\\n",
       "19995  1_19996              シャッターが下りてる商店街を歩くと、なんだか切なくなる  今は商店街ってよりもスーパーだもんね   \n",
       "19996  1_19997                 今担当してもらってる美容師さん、本当に上手なんだ   理想の髪型にカットしてもらえるの？   \n",
       "19997  1_19998  サークルで学祭の責任者をやったんだけど、力不足でまとめあげられなかったんだよね     そうだったんだ、残念だったねぇ   \n",
       "19998  1_19999                        来年のオリンピックどうなるのかな？               不安だよね   \n",
       "19999  1_20000      日本のため、国民のためって働いてくれている誠実な政治家っているのかね？              いないに一票   \n",
       "\n",
       "           感情       対話行為  \n",
       "19995  感傷的になる       自己開示  \n",
       "19996    信頼する  質問(YesNo)  \n",
       "19997     恥じる       自己開示  \n",
       "19998    懸念する     応答(平叙)  \n",
       "19999  誠実な気持ち     応答(平叙)  "
      ]
     },
     "execution_count": 27,
     "metadata": {},
     "output_type": "execute_result"
    }
   ],
   "source": [
    "df.tail()"
   ]
  },
  {
   "cell_type": "code",
   "execution_count": 35,
   "id": "fca50998-b97b-49b4-82a8-469b51b32f1e",
   "metadata": {},
   "outputs": [
    {
     "name": "stdout",
     "output_type": "stream",
     "text": [
      "625\n",
      "625\n",
      "625\n",
      "625\n",
      "625\n",
      "625\n",
      "625\n",
      "625\n"
     ]
    }
   ],
   "source": [
    "print(len(df[df[\"感情\"] == \"おどろく\"]))\n",
    "print(len(df[df[\"感情\"] == \"怒る\"]))\n",
    "print(len(df[df[\"感情\"] == \"悲しい\"]))\n",
    "print(len(df[df[\"感情\"] == \"楽しい\"]))\n",
    "print(len(df[df[\"感情\"] == \"期待する\"]))\n",
    "print(len(df[df[\"感情\"] == \"信頼する\"]))\n",
    "print(len(df[df[\"感情\"] == \"嫌悪感を抱く\"]))\n",
    "print(len(df[df[\"感情\"] == \"恐ろしい\"]))"
   ]
  },
  {
   "cell_type": "code",
   "execution_count": 38,
   "id": "cf0eb474-65e7-436a-bfdc-74db375a166d",
   "metadata": {},
   "outputs": [],
   "source": [
    "pair = pd.DataFrame()\n",
    "pair = df[df[\"感情\"] == \"おどろく\"]\n",
    "pair = pd.concat([pair, df[df[\"感情\"] == \"怒る\"]], axis = 0)\n",
    "pair = pd.concat([pair, df[df[\"感情\"] == \"悲しい\"]], axis = 0)\n",
    "pair = pd.concat([pair, df[df[\"感情\"] == \"楽しい\"]], axis = 0)\n",
    "pair = pd.concat([pair, df[df[\"感情\"] == \"期待する\"]], axis = 0)\n",
    "pair = pd.concat([pair, df[df[\"感情\"] == \"信頼する\"]], axis = 0)\n",
    "pair = pd.concat([pair, df[df[\"感情\"] == \"嫌悪感を抱く\"]], axis = 0)\n",
    "pair = pd.concat([pair, df[df[\"感情\"] == \"恐ろしい\"]], axis = 0)"
   ]
  },
  {
   "cell_type": "code",
   "execution_count": 42,
   "id": "24fd83b1-0ee8-4fbd-baed-7ac659f5a0a0",
   "metadata": {},
   "outputs": [],
   "source": [
    "pair.to_csv(\"dialogueact_huyo.csv\", index = False)"
   ]
  },
  {
   "cell_type": "code",
   "execution_count": 41,
   "id": "52a245b5-44d5-4f5f-9c74-4f8eee087d35",
   "metadata": {},
   "outputs": [
    {
     "data": {
      "text/html": [
       "<div>\n",
       "<style scoped>\n",
       "    .dataframe tbody tr th:only-of-type {\n",
       "        vertical-align: middle;\n",
       "    }\n",
       "\n",
       "    .dataframe tbody tr th {\n",
       "        vertical-align: top;\n",
       "    }\n",
       "\n",
       "    .dataframe thead th {\n",
       "        text-align: right;\n",
       "    }\n",
       "</style>\n",
       "<table border=\"1\" class=\"dataframe\">\n",
       "  <thead>\n",
       "    <tr style=\"text-align: right;\">\n",
       "      <th></th>\n",
       "      <th>ID</th>\n",
       "      <th>A</th>\n",
       "      <th>B</th>\n",
       "      <th>感情</th>\n",
       "      <th>対話行為</th>\n",
       "    </tr>\n",
       "  </thead>\n",
       "  <tbody>\n",
       "    <tr>\n",
       "      <th>0</th>\n",
       "      <td>1_1</td>\n",
       "      <td>寝ているときに首がもぞもぞしたので、起きて見てみたらムカデがいたの！</td>\n",
       "      <td>きゃーっ！それはびっくりだね。</td>\n",
       "      <td>おどろく</td>\n",
       "      <td>応答(平叙)</td>\n",
       "    </tr>\n",
       "    <tr>\n",
       "      <th>32</th>\n",
       "      <td>1_33</td>\n",
       "      <td>そういえば聞いた？あの子プロポーズされたらしいよ。</td>\n",
       "      <td>ええっ、そんな気全然なかったよね。</td>\n",
       "      <td>おどろく</td>\n",
       "      <td>自己開示</td>\n",
       "    </tr>\n",
       "    <tr>\n",
       "      <th>64</th>\n",
       "      <td>1_65</td>\n",
       "      <td>昨日、私の誕生日だったんです。娘がケーキを買ってきてくれました。</td>\n",
       "      <td>おめでとうございます。どんなケーキだったんですか。</td>\n",
       "      <td>おどろく</td>\n",
       "      <td>自己開示</td>\n",
       "    </tr>\n",
       "    <tr>\n",
       "      <th>96</th>\n",
       "      <td>1_97</td>\n",
       "      <td>先月の私の誕生日にさ、営業部のみんながケーキ買って祝ってくれたの！</td>\n",
       "      <td>へぇ！　いい職場だね。</td>\n",
       "      <td>おどろく</td>\n",
       "      <td>応答(平叙)</td>\n",
       "    </tr>\n",
       "    <tr>\n",
       "      <th>128</th>\n",
       "      <td>1_129</td>\n",
       "      <td>ベランダにセミが落ちてたんだよね、お腹を上にしてるから死んでると思ったんだけど。</td>\n",
       "      <td>そんな、季節だね。</td>\n",
       "      <td>おどろく</td>\n",
       "      <td>自己開示</td>\n",
       "    </tr>\n",
       "    <tr>\n",
       "      <th>...</th>\n",
       "      <td>...</td>\n",
       "      <td>...</td>\n",
       "      <td>...</td>\n",
       "      <td>...</td>\n",
       "      <td>...</td>\n",
       "    </tr>\n",
       "    <tr>\n",
       "      <th>19849</th>\n",
       "      <td>1_19850</td>\n",
       "      <td>ゲームセンターにVRでお化け屋敷の体験ができるコーナーがあってやってみたんだ。</td>\n",
       "      <td>VRだとかなりリアルそうだね。</td>\n",
       "      <td>恐ろしい</td>\n",
       "      <td>自己開示</td>\n",
       "    </tr>\n",
       "    <tr>\n",
       "      <th>19881</th>\n",
       "      <td>1_19882</td>\n",
       "      <td>この間の豪雨でこっから50メートルぐらいのところが浸水したんだよね</td>\n",
       "      <td>近いところで浸水しちゃったんだね</td>\n",
       "      <td>恐ろしい</td>\n",
       "      <td>自己開示</td>\n",
       "    </tr>\n",
       "    <tr>\n",
       "      <th>19913</th>\n",
       "      <td>1_19914</td>\n",
       "      <td>友達に誘われてケーキバイキングに行ってしまった</td>\n",
       "      <td>美味しかった？</td>\n",
       "      <td>恐ろしい</td>\n",
       "      <td>質問(YesNo)</td>\n",
       "    </tr>\n",
       "    <tr>\n",
       "      <th>19945</th>\n",
       "      <td>1_19946</td>\n",
       "      <td>昔話って結構恐ろしい内容多いよね？</td>\n",
       "      <td>例えば？</td>\n",
       "      <td>恐ろしい</td>\n",
       "      <td>質問(YesNo)</td>\n",
       "    </tr>\n",
       "    <tr>\n",
       "      <th>19977</th>\n",
       "      <td>1_19978</td>\n",
       "      <td>昔ね、母親がソースの缶詰を開けたら大きな死んだゴキブリが出てきたんだって</td>\n",
       "      <td>なにそれ、怖すぎる！</td>\n",
       "      <td>恐ろしい</td>\n",
       "      <td>質問(What)</td>\n",
       "    </tr>\n",
       "  </tbody>\n",
       "</table>\n",
       "<p>5000 rows × 5 columns</p>\n",
       "</div>"
      ],
      "text/plain": [
       "            ID                                         A  \\\n",
       "0          1_1        寝ているときに首がもぞもぞしたので、起きて見てみたらムカデがいたの！   \n",
       "32        1_33                 そういえば聞いた？あの子プロポーズされたらしいよ。   \n",
       "64        1_65          昨日、私の誕生日だったんです。娘がケーキを買ってきてくれました。   \n",
       "96        1_97         先月の私の誕生日にさ、営業部のみんながケーキ買って祝ってくれたの！   \n",
       "128      1_129  ベランダにセミが落ちてたんだよね、お腹を上にしてるから死んでると思ったんだけど。   \n",
       "...        ...                                       ...   \n",
       "19849  1_19850   ゲームセンターにVRでお化け屋敷の体験ができるコーナーがあってやってみたんだ。   \n",
       "19881  1_19882         この間の豪雨でこっから50メートルぐらいのところが浸水したんだよね   \n",
       "19913  1_19914                   友達に誘われてケーキバイキングに行ってしまった   \n",
       "19945  1_19946                         昔話って結構恐ろしい内容多いよね？   \n",
       "19977  1_19978      昔ね、母親がソースの缶詰を開けたら大きな死んだゴキブリが出てきたんだって   \n",
       "\n",
       "                               B    感情       対話行為  \n",
       "0                きゃーっ！それはびっくりだね。  おどろく     応答(平叙)  \n",
       "32             ええっ、そんな気全然なかったよね。  おどろく       自己開示  \n",
       "64     おめでとうございます。どんなケーキだったんですか。  おどろく       自己開示  \n",
       "96                   へぇ！　いい職場だね。  おどろく     応答(平叙)  \n",
       "128                    そんな、季節だね。  おどろく       自己開示  \n",
       "...                          ...   ...        ...  \n",
       "19849            VRだとかなりリアルそうだね。  恐ろしい       自己開示  \n",
       "19881           近いところで浸水しちゃったんだね  恐ろしい       自己開示  \n",
       "19913                    美味しかった？  恐ろしい  質問(YesNo)  \n",
       "19945                       例えば？  恐ろしい  質問(YesNo)  \n",
       "19977                 なにそれ、怖すぎる！  恐ろしい   質問(What)  \n",
       "\n",
       "[5000 rows x 5 columns]"
      ]
     },
     "execution_count": 41,
     "metadata": {},
     "output_type": "execute_result"
    }
   ],
   "source": [
    "pair"
   ]
  },
  {
   "cell_type": "code",
   "execution_count": null,
   "id": "7052f317-f752-4087-8874-6c84d0515ce6",
   "metadata": {},
   "outputs": [],
   "source": []
  }
 ],
 "metadata": {
  "kernelspec": {
   "display_name": "Python 3 (ipykernel)",
   "language": "python",
   "name": "python3"
  },
  "language_info": {
   "codemirror_mode": {
    "name": "ipython",
    "version": 3
   },
   "file_extension": ".py",
   "mimetype": "text/x-python",
   "name": "python",
   "nbconvert_exporter": "python",
   "pygments_lexer": "ipython3",
   "version": "3.8.10"
  }
 },
 "nbformat": 4,
 "nbformat_minor": 5
}
