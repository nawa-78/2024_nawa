{
 "cells": [
  {
   "cell_type": "code",
   "execution_count": 2,
   "id": "9ac83a0a-4414-4b79-89df-5edfb2a9e900",
   "metadata": {},
   "outputs": [],
   "source": [
    "import pandas as pd\n",
    "# import torch\n",
    "# from transformers import AutoTokenizer, AutoModelForSequenceClassification\n",
    "# from transformers import AdamW\n"
   ]
  },
  {
   "cell_type": "code",
   "execution_count": 2,
   "id": "6d99d5d0-1579-4662-a690-5e177ebef21b",
   "metadata": {},
   "outputs": [
    {
     "name": "stdout",
     "output_type": "stream",
     "text": [
      "Requirement already satisfied: transformers in /usr/local/lib/python3.8/dist-packages (4.30.2)\n",
      "Requirement already satisfied: datasets in /usr/local/lib/python3.8/dist-packages (2.4.0)\n",
      "Requirement already satisfied: filelock in /usr/local/lib/python3.8/dist-packages (from transformers) (3.8.0)\n",
      "Requirement already satisfied: huggingface-hub<1.0,>=0.14.1 in /usr/local/lib/python3.8/dist-packages (from transformers) (0.14.1)\n",
      "Requirement already satisfied: numpy>=1.17 in /usr/local/lib/python3.8/dist-packages (from transformers) (1.22.4)\n",
      "Requirement already satisfied: packaging>=20.0 in /usr/local/lib/python3.8/dist-packages (from transformers) (21.3)\n",
      "Requirement already satisfied: pyyaml>=5.1 in /usr/local/lib/python3.8/dist-packages (from transformers) (5.4.1)\n",
      "Requirement already satisfied: regex!=2019.12.17 in /usr/local/lib/python3.8/dist-packages (from transformers) (2022.8.17)\n",
      "Requirement already satisfied: requests in /usr/local/lib/python3.8/dist-packages (from transformers) (2.28.1)\n",
      "Requirement already satisfied: tokenizers!=0.11.3,<0.14,>=0.11.1 in /usr/local/lib/python3.8/dist-packages (from transformers) (0.13.3)\n",
      "Requirement already satisfied: safetensors>=0.3.1 in /usr/local/lib/python3.8/dist-packages (from transformers) (0.3.1)\n",
      "Requirement already satisfied: tqdm>=4.27 in /usr/local/lib/python3.8/dist-packages (from transformers) (4.66.1)\n",
      "Requirement already satisfied: pyarrow>=6.0.0 in /usr/local/lib/python3.8/dist-packages (from datasets) (9.0.0)\n",
      "Requirement already satisfied: dill<0.3.6 in /usr/local/lib/python3.8/dist-packages (from datasets) (0.3.4)\n",
      "Requirement already satisfied: pandas in /usr/local/lib/python3.8/dist-packages (from datasets) (1.4.3)\n",
      "Requirement already satisfied: xxhash in /usr/local/lib/python3.8/dist-packages (from datasets) (3.0.0)\n",
      "Requirement already satisfied: multiprocess in /usr/local/lib/python3.8/dist-packages (from datasets) (0.70.12.2)\n",
      "Requirement already satisfied: fsspec>=2021.11.1 in /usr/local/lib/python3.8/dist-packages (from fsspec[http]>=2021.11.1->datasets) (2022.7.1)\n",
      "Requirement already satisfied: aiohttp in /usr/local/lib/python3.8/dist-packages (from datasets) (3.8.5)\n",
      "Requirement already satisfied: responses<0.19 in /usr/local/lib/python3.8/dist-packages (from datasets) (0.18.0)\n",
      "Requirement already satisfied: typing-extensions>=3.7.4.3 in /usr/local/lib/python3.8/dist-packages (from huggingface-hub<1.0,>=0.14.1->transformers) (4.7.1)\n",
      "Requirement already satisfied: pyparsing!=3.0.5,>=2.0.2 in /usr/local/lib/python3.8/dist-packages (from packaging>=20.0->transformers) (3.0.9)\n",
      "Requirement already satisfied: charset-normalizer<3,>=2 in /usr/local/lib/python3.8/dist-packages (from requests->transformers) (2.1.1)\n",
      "Requirement already satisfied: idna<4,>=2.5 in /usr/local/lib/python3.8/dist-packages (from requests->transformers) (3.3)\n",
      "Requirement already satisfied: urllib3<1.27,>=1.21.1 in /usr/local/lib/python3.8/dist-packages (from requests->transformers) (1.26.11)\n",
      "Requirement already satisfied: certifi>=2017.4.17 in /usr/local/lib/python3.8/dist-packages (from requests->transformers) (2022.6.15)\n",
      "Requirement already satisfied: attrs>=17.3.0 in /usr/local/lib/python3.8/dist-packages (from aiohttp->datasets) (22.1.0)\n",
      "Requirement already satisfied: multidict<7.0,>=4.5 in /usr/local/lib/python3.8/dist-packages (from aiohttp->datasets) (6.0.2)\n",
      "Requirement already satisfied: async-timeout<5.0,>=4.0.0a3 in /usr/local/lib/python3.8/dist-packages (from aiohttp->datasets) (4.0.2)\n",
      "Requirement already satisfied: yarl<2.0,>=1.0 in /usr/local/lib/python3.8/dist-packages (from aiohttp->datasets) (1.8.1)\n",
      "Requirement already satisfied: frozenlist>=1.1.1 in /usr/local/lib/python3.8/dist-packages (from aiohttp->datasets) (1.3.1)\n",
      "Requirement already satisfied: aiosignal>=1.1.2 in /usr/local/lib/python3.8/dist-packages (from aiohttp->datasets) (1.2.0)\n",
      "Requirement already satisfied: python-dateutil>=2.8.1 in /usr/local/lib/python3.8/dist-packages (from pandas->datasets) (2.8.2)\n",
      "Requirement already satisfied: pytz>=2020.1 in /usr/local/lib/python3.8/dist-packages (from pandas->datasets) (2022.2.1)\n",
      "Requirement already satisfied: six>=1.5 in /usr/local/lib/python3.8/dist-packages (from python-dateutil>=2.8.1->pandas->datasets) (1.16.0)\n",
      "\u001b[33mDEPRECATION: pytorch-lightning 1.6.1 has a non-standard dependency specifier torch>=1.8.*. pip 24.0 will enforce this behaviour change. A possible replacement is to upgrade to a newer version of pytorch-lightning or contact the author to suggest that they release a version with a conforming dependency specifiers. Discussion can be found at https://github.com/pypa/pip/issues/12063\u001b[0m\u001b[33m\n",
      "\u001b[0m\u001b[33mWARNING: Running pip as the 'root' user can result in broken permissions and conflicting behaviour with the system package manager. It is recommended to use a virtual environment instead: https://pip.pypa.io/warnings/venv\u001b[0m\u001b[33m\n",
      "\u001b[0mRequirement already satisfied: fugashi in /usr/local/lib/python3.8/dist-packages (1.1.0)\n",
      "Requirement already satisfied: ipadic in /usr/local/lib/python3.8/dist-packages (1.0.0)\n",
      "\u001b[33mDEPRECATION: pytorch-lightning 1.6.1 has a non-standard dependency specifier torch>=1.8.*. pip 24.0 will enforce this behaviour change. A possible replacement is to upgrade to a newer version of pytorch-lightning or contact the author to suggest that they release a version with a conforming dependency specifiers. Discussion can be found at https://github.com/pypa/pip/issues/12063\u001b[0m\u001b[33m\n",
      "\u001b[0m\u001b[33mWARNING: Running pip as the 'root' user can result in broken permissions and conflicting behaviour with the system package manager. It is recommended to use a virtual environment instead: https://pip.pypa.io/warnings/venv\u001b[0m\u001b[33m\n",
      "\u001b[0m"
     ]
    }
   ],
   "source": [
    "! pip install transformers datasets\n",
    "\n",
    "# 東北大学の日本語用BERT使用に必要なパッケージをインストール\n",
    "! pip install fugashi ipadic"
   ]
  },
  {
   "cell_type": "code",
   "execution_count": 3,
   "id": "9c41ee31-5fe4-44d9-bf0f-52f98a671746",
   "metadata": {},
   "outputs": [
    {
     "name": "stdout",
     "output_type": "stream",
     "text": [
      "Sat Jan 13 13:10:22 2024       \n",
      "+-----------------------------------------------------------------------------+\n",
      "| NVIDIA-SMI 470.129.06   Driver Version: 470.129.06   CUDA Version: 11.4     |\n",
      "|-------------------------------+----------------------+----------------------+\n",
      "| GPU  Name        Persistence-M| Bus-Id        Disp.A | Volatile Uncorr. ECC |\n",
      "| Fan  Temp  Perf  Pwr:Usage/Cap|         Memory-Usage | GPU-Util  Compute M. |\n",
      "|                               |                      |               MIG M. |\n",
      "|===============================+======================+======================|\n",
      "|   0  NVIDIA GeForce ...  Off  | 00000000:01:00.0  On |                  N/A |\n",
      "|  0%   42C    P8    21W / 350W |   9532MiB / 24234MiB |      0%      Default |\n",
      "|                               |                      |                  N/A |\n",
      "+-------------------------------+----------------------+----------------------+\n",
      "                                                                               \n",
      "+-----------------------------------------------------------------------------+\n",
      "| Processes:                                                                  |\n",
      "|  GPU   GI   CI        PID   Type   Process name                  GPU Memory |\n",
      "|        ID   ID                                                   Usage      |\n",
      "|=============================================================================|\n",
      "+-----------------------------------------------------------------------------+\n"
     ]
    }
   ],
   "source": [
    "!nvidia-smi"
   ]
  },
  {
   "cell_type": "code",
   "execution_count": 3,
   "id": "7a3a738c-e34a-4567-a19c-5a41e5846588",
   "metadata": {},
   "outputs": [
    {
     "data": {
      "text/html": [
       "<div>\n",
       "<style scoped>\n",
       "    .dataframe tbody tr th:only-of-type {\n",
       "        vertical-align: middle;\n",
       "    }\n",
       "\n",
       "    .dataframe tbody tr th {\n",
       "        vertical-align: top;\n",
       "    }\n",
       "\n",
       "    .dataframe thead th {\n",
       "        text-align: right;\n",
       "    }\n",
       "</style>\n",
       "<table border=\"1\" class=\"dataframe\">\n",
       "  <thead>\n",
       "    <tr style=\"text-align: right;\">\n",
       "      <th></th>\n",
       "      <th>発話者</th>\n",
       "      <th>応答者</th>\n",
       "      <th>対話行為</th>\n",
       "      <th>自己開示</th>\n",
       "      <th>質問(YesNo)</th>\n",
       "      <th>質問(What)</th>\n",
       "      <th>応答(YesNo)</th>\n",
       "      <th>応答(平叙)</th>\n",
       "      <th>あいづち</th>\n",
       "      <th>フィラー</th>\n",
       "      <th>確認</th>\n",
       "      <th>要求</th>\n",
       "      <th>共感</th>\n",
       "    </tr>\n",
       "  </thead>\n",
       "  <tbody>\n",
       "    <tr>\n",
       "      <th>0</th>\n",
       "      <td>うん。かわいい、かわいい。</td>\n",
       "      <td>こ、これもいいでしょ。</td>\n",
       "      <td>自己開示</td>\n",
       "      <td>1</td>\n",
       "      <td>0</td>\n",
       "      <td>0</td>\n",
       "      <td>0</td>\n",
       "      <td>0</td>\n",
       "      <td>0</td>\n",
       "      <td>0</td>\n",
       "      <td>0</td>\n",
       "      <td>0</td>\n",
       "      <td>0</td>\n",
       "    </tr>\n",
       "    <tr>\n",
       "      <th>1</th>\n",
       "      <td>俺から言わせりゃ向こうが連絡しない。</td>\n",
       "      <td>忙しいのよ。今大学４年生なんだから。卒論だし。</td>\n",
       "      <td>自己開示</td>\n",
       "      <td>1</td>\n",
       "      <td>0</td>\n",
       "      <td>0</td>\n",
       "      <td>0</td>\n",
       "      <td>0</td>\n",
       "      <td>0</td>\n",
       "      <td>0</td>\n",
       "      <td>0</td>\n",
       "      <td>0</td>\n",
       "      <td>0</td>\n",
       "    </tr>\n",
       "    <tr>\n",
       "      <th>2</th>\n",
       "      <td>あんなの見せかけだもん。うちの一族俳優と女優で固めてあるもん。</td>\n",
       "      <td>そうなんだー。</td>\n",
       "      <td>あいづち</td>\n",
       "      <td>0</td>\n",
       "      <td>0</td>\n",
       "      <td>0</td>\n",
       "      <td>0</td>\n",
       "      <td>0</td>\n",
       "      <td>1</td>\n",
       "      <td>0</td>\n",
       "      <td>0</td>\n",
       "      <td>0</td>\n",
       "      <td>0</td>\n",
       "    </tr>\n",
       "    <tr>\n",
       "      <th>3</th>\n",
       "      <td>創作フランス料理はいいんだけどさ、お刺身に氷がつかってたり、ローストビーフに海老のソースをか...</td>\n",
       "      <td>どれがオードブルで、どれがメインで。</td>\n",
       "      <td>質問(What)</td>\n",
       "      <td>0</td>\n",
       "      <td>0</td>\n",
       "      <td>1</td>\n",
       "      <td>0</td>\n",
       "      <td>0</td>\n",
       "      <td>0</td>\n",
       "      <td>0</td>\n",
       "      <td>0</td>\n",
       "      <td>0</td>\n",
       "      <td>0</td>\n",
       "    </tr>\n",
       "    <tr>\n",
       "      <th>4</th>\n",
       "      <td>あー、はいはい。</td>\n",
       "      <td>で買ったやつなの。で聞いてー、どうやってやんのって言ったら、ここにランプが、なんかここって言...</td>\n",
       "      <td>自己開示</td>\n",
       "      <td>1</td>\n",
       "      <td>0</td>\n",
       "      <td>0</td>\n",
       "      <td>0</td>\n",
       "      <td>0</td>\n",
       "      <td>0</td>\n",
       "      <td>0</td>\n",
       "      <td>0</td>\n",
       "      <td>0</td>\n",
       "      <td>0</td>\n",
       "    </tr>\n",
       "    <tr>\n",
       "      <th>...</th>\n",
       "      <td>...</td>\n",
       "      <td>...</td>\n",
       "      <td>...</td>\n",
       "      <td>...</td>\n",
       "      <td>...</td>\n",
       "      <td>...</td>\n",
       "      <td>...</td>\n",
       "      <td>...</td>\n",
       "      <td>...</td>\n",
       "      <td>...</td>\n",
       "      <td>...</td>\n",
       "      <td>...</td>\n",
       "      <td>...</td>\n",
       "    </tr>\n",
       "    <tr>\n",
       "      <th>20876</th>\n",
       "      <td>ふーん、じゃ、学部が</td>\n",
       "      <td>うん、Ｍ。</td>\n",
       "      <td>応答(平叙)</td>\n",
       "      <td>0</td>\n",
       "      <td>0</td>\n",
       "      <td>0</td>\n",
       "      <td>0</td>\n",
       "      <td>1</td>\n",
       "      <td>0</td>\n",
       "      <td>0</td>\n",
       "      <td>0</td>\n",
       "      <td>0</td>\n",
       "      <td>0</td>\n",
       "    </tr>\n",
       "    <tr>\n",
       "      <th>20877</th>\n",
       "      <td>こういう、和紙人形とかは絶対に機械でできないからさ。人の作業だもんね。手作業だもんね。</td>\n",
       "      <td>人形のケース、１つはあるけどね。こういうの。</td>\n",
       "      <td>自己開示</td>\n",
       "      <td>1</td>\n",
       "      <td>0</td>\n",
       "      <td>0</td>\n",
       "      <td>0</td>\n",
       "      <td>0</td>\n",
       "      <td>0</td>\n",
       "      <td>0</td>\n",
       "      <td>0</td>\n",
       "      <td>0</td>\n",
       "      <td>0</td>\n",
       "    </tr>\n",
       "    <tr>\n",
       "      <th>20878</th>\n",
       "      <td>だけど大変だった。ドマーニのさ、あれものっすごいあのガソリン食うのよね。</td>\n",
       "      <td>そうなの、わたし乗ったことないから。</td>\n",
       "      <td>自己開示</td>\n",
       "      <td>1</td>\n",
       "      <td>0</td>\n",
       "      <td>0</td>\n",
       "      <td>0</td>\n",
       "      <td>0</td>\n",
       "      <td>0</td>\n",
       "      <td>0</td>\n",
       "      <td>0</td>\n",
       "      <td>0</td>\n",
       "      <td>0</td>\n",
       "    </tr>\n",
       "    <tr>\n",
       "      <th>20879</th>\n",
       "      <td>すごくない？うん、なんか、落ちそうな生徒は先生の部屋に行って、紙をもらって、物を買ってくると...</td>\n",
       "      <td>なんかきっとおもしろくない先生なんだろうねー。こう、しゃれのつもりでやってみたんだけど、まだ...</td>\n",
       "      <td>自己開示</td>\n",
       "      <td>1</td>\n",
       "      <td>0</td>\n",
       "      <td>0</td>\n",
       "      <td>0</td>\n",
       "      <td>0</td>\n",
       "      <td>0</td>\n",
       "      <td>0</td>\n",
       "      <td>0</td>\n",
       "      <td>0</td>\n",
       "      <td>0</td>\n",
       "    </tr>\n",
       "    <tr>\n",
       "      <th>20880</th>\n",
       "      <td>こんな直前でも大変なんだ。</td>\n",
       "      <td>そうだねー。あたしだって全然旅行の準備とかしてなかったからさ。</td>\n",
       "      <td>自己開示</td>\n",
       "      <td>1</td>\n",
       "      <td>0</td>\n",
       "      <td>0</td>\n",
       "      <td>0</td>\n",
       "      <td>0</td>\n",
       "      <td>0</td>\n",
       "      <td>0</td>\n",
       "      <td>0</td>\n",
       "      <td>0</td>\n",
       "      <td>0</td>\n",
       "    </tr>\n",
       "  </tbody>\n",
       "</table>\n",
       "<p>20881 rows × 13 columns</p>\n",
       "</div>"
      ],
      "text/plain": [
       "                                                     発話者  \\\n",
       "0                                          うん。かわいい、かわいい。   \n",
       "1                                     俺から言わせりゃ向こうが連絡しない。   \n",
       "2                        あんなの見せかけだもん。うちの一族俳優と女優で固めてあるもん。   \n",
       "3      創作フランス料理はいいんだけどさ、お刺身に氷がつかってたり、ローストビーフに海老のソースをか...   \n",
       "4                                               あー、はいはい。   \n",
       "...                                                  ...   \n",
       "20876                                         ふーん、じゃ、学部が   \n",
       "20877        こういう、和紙人形とかは絶対に機械でできないからさ。人の作業だもんね。手作業だもんね。   \n",
       "20878               だけど大変だった。ドマーニのさ、あれものっすごいあのガソリン食うのよね。   \n",
       "20879  すごくない？うん、なんか、落ちそうな生徒は先生の部屋に行って、紙をもらって、物を買ってくると...   \n",
       "20880                                      こんな直前でも大変なんだ。   \n",
       "\n",
       "                                                     応答者      対話行為  自己開示  \\\n",
       "0                                            こ、これもいいでしょ。      自己開示     1   \n",
       "1                                忙しいのよ。今大学４年生なんだから。卒論だし。      自己開示     1   \n",
       "2                                                そうなんだー。      あいづち     0   \n",
       "3                                     どれがオードブルで、どれがメインで。  質問(What)     0   \n",
       "4      で買ったやつなの。で聞いてー、どうやってやんのって言ったら、ここにランプが、なんかここって言...      自己開示     1   \n",
       "...                                                  ...       ...   ...   \n",
       "20876                                              うん、Ｍ。    応答(平叙)     0   \n",
       "20877                             人形のケース、１つはあるけどね。こういうの。      自己開示     1   \n",
       "20878                                 そうなの、わたし乗ったことないから。      自己開示     1   \n",
       "20879  なんかきっとおもしろくない先生なんだろうねー。こう、しゃれのつもりでやってみたんだけど、まだ...      自己開示     1   \n",
       "20880                    そうだねー。あたしだって全然旅行の準備とかしてなかったからさ。      自己開示     1   \n",
       "\n",
       "       質問(YesNo)  質問(What)  応答(YesNo)  応答(平叙)  あいづち  フィラー  確認  要求  共感  \n",
       "0              0         0          0       0     0     0   0   0   0  \n",
       "1              0         0          0       0     0     0   0   0   0  \n",
       "2              0         0          0       0     1     0   0   0   0  \n",
       "3              0         1          0       0     0     0   0   0   0  \n",
       "4              0         0          0       0     0     0   0   0   0  \n",
       "...          ...       ...        ...     ...   ...   ...  ..  ..  ..  \n",
       "20876          0         0          0       1     0     0   0   0   0  \n",
       "20877          0         0          0       0     0     0   0   0   0  \n",
       "20878          0         0          0       0     0     0   0   0   0  \n",
       "20879          0         0          0       0     0     0   0   0   0  \n",
       "20880          0         0          0       0     0     0   0   0   0  \n",
       "\n",
       "[20881 rows x 13 columns]"
      ]
     },
     "execution_count": 3,
     "metadata": {},
     "output_type": "execute_result"
    }
   ],
   "source": [
    "df_train = pd.read_excel(\"../2_dialogueact_data_train.xlsx\",engine = \"openpyxl\")\n",
    "df_train"
   ]
  },
  {
   "cell_type": "code",
   "execution_count": 6,
   "id": "7abea24d-8b11-420d-97f3-15b9e7ee6138",
   "metadata": {},
   "outputs": [
    {
     "data": {
      "text/plain": [
       "自己開示                   11321\n",
       "質問(YesNo)               1909\n",
       "応答(平叙)                  1722\n",
       "あいづち                    1606\n",
       "質問(What)                1114\n",
       "確認                      1094\n",
       "フィラー                     778\n",
       "共感                       728\n",
       "応答(YesNo)                355\n",
       "要求                       176\n",
       "*                         77\n",
       "応答(YesNo)/質問(YesNo)        1\n",
       "Name: 対話行為, dtype: int64"
      ]
     },
     "execution_count": 6,
     "metadata": {},
     "output_type": "execute_result"
    }
   ],
   "source": [
    "\n",
    "# value_counts = df_train['対話行為'].value_counts()\n",
    "# value_counts"
   ]
  },
  {
   "cell_type": "code",
   "execution_count": 10,
   "id": "309e5433-5c53-4063-b321-5c480cc8aa80",
   "metadata": {},
   "outputs": [
    {
     "data": {
      "image/png": "[encoded data removed]",
      "text/plain": [
       "<Figure size 1000x600 with 1 Axes>"
      ]
     },
     "metadata": {},
     "output_type": "display_data"
    }
   ],
   "source": [
    "import matplotlib.pyplot as plt\n",
    "\n",
    "# データを辞書として作成\n",
    "data = {\n",
    "    'カテゴリ': ['Self-disclosure', 'question(YesNo)', 'response(Declarative)', 'Backchannel','question(What)', 'Confirmation', 'response(YesNo)', \n",
    "                    ' Filler', \"empathcy\",'Request'],\n",
    "    '数': [11321, 1909, 1722, 1606, 1114, 1094, 778, 728, 355, 176]\n",
    "}\n",
    "\n",
    "# データフレームを作成\n",
    "df = pd.DataFrame(data)\n",
    "\n",
    "# 棒グラフを描画\n",
    "plt.figure(figsize=(10, 6))\n",
    "plt.bar(df['カテゴリ'], df['数'], color='blue')\n",
    "# plt.title('')\n",
    "plt.xlabel('class label')\n",
    "plt.ylabel('number of data')\n",
    "plt.xticks(rotation=45, ha='right')  # カテゴリ名を45度傾けて表示\n",
    "plt.tight_layout()\n",
    "# plt.savefig('bar_10_taiwkoui.png')\n",
    "# グラフを表示\n",
    "plt.show()"
   ]
  },
  {
   "cell_type": "code",
   "execution_count": 5,
   "id": "d6c1addf-6004-4b5e-b805-fb189fd8cb2b",
   "metadata": {},
   "outputs": [
    {
     "data": {
      "text/html": [
       "<div>\n",
       "<style scoped>\n",
       "    .dataframe tbody tr th:only-of-type {\n",
       "        vertical-align: middle;\n",
       "    }\n",
       "\n",
       "    .dataframe tbody tr th {\n",
       "        vertical-align: top;\n",
       "    }\n",
       "\n",
       "    .dataframe thead th {\n",
       "        text-align: right;\n",
       "    }\n",
       "</style>\n",
       "<table border=\"1\" class=\"dataframe\">\n",
       "  <thead>\n",
       "    <tr style=\"text-align: right;\">\n",
       "      <th></th>\n",
       "      <th>発話者</th>\n",
       "      <th>応答者</th>\n",
       "      <th>対話行為</th>\n",
       "      <th>自己開示</th>\n",
       "      <th>質問(YesNo)</th>\n",
       "      <th>質問(What)</th>\n",
       "      <th>応答(YesNo)</th>\n",
       "      <th>応答(平叙)</th>\n",
       "      <th>あいづち</th>\n",
       "      <th>フィラー</th>\n",
       "      <th>確認</th>\n",
       "      <th>要求</th>\n",
       "      <th>共感</th>\n",
       "    </tr>\n",
       "  </thead>\n",
       "  <tbody>\n",
       "    <tr>\n",
       "      <th>0</th>\n",
       "      <td>大葉とのり、すてき、組み合わせ。</td>\n",
       "      <td>すてきだね、私も好き。</td>\n",
       "      <td>自己開示</td>\n",
       "      <td>1</td>\n",
       "      <td>0</td>\n",
       "      <td>0</td>\n",
       "      <td>0</td>\n",
       "      <td>0</td>\n",
       "      <td>0</td>\n",
       "      <td>0</td>\n",
       "      <td>0</td>\n",
       "      <td>0</td>\n",
       "      <td>0</td>\n",
       "    </tr>\n",
       "    <tr>\n",
       "      <th>1</th>\n",
       "      <td>あー、そっかー。</td>\n",
       "      <td>でも向こうの方が車で通ってるから通勤時間は短いじゃん。で、同じぐらいに終わっても向こうの方が...</td>\n",
       "      <td>自己開示</td>\n",
       "      <td>1</td>\n",
       "      <td>0</td>\n",
       "      <td>0</td>\n",
       "      <td>0</td>\n",
       "      <td>0</td>\n",
       "      <td>0</td>\n",
       "      <td>0</td>\n",
       "      <td>0</td>\n",
       "      <td>0</td>\n",
       "      <td>0</td>\n",
       "    </tr>\n",
       "    <tr>\n",
       "      <th>2</th>\n",
       "      <td>うん、Ｚに、まで、じゃ、一番向こうっかたまで行ってみようかって、そいでそのときに、お、お金を...</td>\n",
       "      <td>なんだかおもしろい。え？あー、はい、わかった。</td>\n",
       "      <td>自己開示</td>\n",
       "      <td>1</td>\n",
       "      <td>0</td>\n",
       "      <td>0</td>\n",
       "      <td>0</td>\n",
       "      <td>0</td>\n",
       "      <td>0</td>\n",
       "      <td>0</td>\n",
       "      <td>0</td>\n",
       "      <td>0</td>\n",
       "      <td>0</td>\n",
       "    </tr>\n",
       "    <tr>\n",
       "      <th>3</th>\n",
       "      <td>その高校の校長先生、スペイン出身だけど、日本語ももちろんしゃべれるんだよね。</td>\n",
       "      <td>うん、話せるみたい。</td>\n",
       "      <td>応答(平叙)</td>\n",
       "      <td>0</td>\n",
       "      <td>0</td>\n",
       "      <td>0</td>\n",
       "      <td>0</td>\n",
       "      <td>1</td>\n",
       "      <td>0</td>\n",
       "      <td>0</td>\n",
       "      <td>0</td>\n",
       "      <td>0</td>\n",
       "      <td>0</td>\n",
       "    </tr>\n",
       "    <tr>\n",
       "      <th>4</th>\n",
       "      <td>国際免許とったの、まーじでー。</td>\n",
       "      <td>乗る気満々。</td>\n",
       "      <td>応答(平叙)</td>\n",
       "      <td>0</td>\n",
       "      <td>0</td>\n",
       "      <td>0</td>\n",
       "      <td>0</td>\n",
       "      <td>1</td>\n",
       "      <td>0</td>\n",
       "      <td>0</td>\n",
       "      <td>0</td>\n",
       "      <td>0</td>\n",
       "      <td>0</td>\n",
       "    </tr>\n",
       "    <tr>\n",
       "      <th>...</th>\n",
       "      <td>...</td>\n",
       "      <td>...</td>\n",
       "      <td>...</td>\n",
       "      <td>...</td>\n",
       "      <td>...</td>\n",
       "      <td>...</td>\n",
       "      <td>...</td>\n",
       "      <td>...</td>\n",
       "      <td>...</td>\n",
       "      <td>...</td>\n",
       "      <td>...</td>\n",
       "      <td>...</td>\n",
       "      <td>...</td>\n",
       "    </tr>\n",
       "    <tr>\n",
       "      <th>2605</th>\n",
       "      <td>今度４人で、会う時は映画見にいくんでしょうとか、言われたんだけど、知らないよ、そんな話あったっけ？</td>\n",
       "      <td>たぶん、だから、４人で再会するんだったら、映画がいいんじゃないっていう話をしてて。</td>\n",
       "      <td>応答(平叙)</td>\n",
       "      <td>0</td>\n",
       "      <td>0</td>\n",
       "      <td>0</td>\n",
       "      <td>0</td>\n",
       "      <td>1</td>\n",
       "      <td>0</td>\n",
       "      <td>0</td>\n",
       "      <td>0</td>\n",
       "      <td>0</td>\n",
       "      <td>0</td>\n",
       "    </tr>\n",
       "    <tr>\n",
       "      <th>2606</th>\n",
       "      <td>台湾のご飯っておいしいしねー。</td>\n",
       "      <td>ねー、やっぱそれだよねー。うん。</td>\n",
       "      <td>共感</td>\n",
       "      <td>0</td>\n",
       "      <td>0</td>\n",
       "      <td>0</td>\n",
       "      <td>0</td>\n",
       "      <td>0</td>\n",
       "      <td>0</td>\n",
       "      <td>0</td>\n",
       "      <td>0</td>\n",
       "      <td>0</td>\n",
       "      <td>1</td>\n",
       "    </tr>\n",
       "    <tr>\n",
       "      <th>2607</th>\n",
       "      <td>まだあそこの映画館、営業してるよねー。</td>\n",
       "      <td>あ、そうなんだ。私１回も行ったことなくて。</td>\n",
       "      <td>自己開示</td>\n",
       "      <td>1</td>\n",
       "      <td>0</td>\n",
       "      <td>0</td>\n",
       "      <td>0</td>\n",
       "      <td>0</td>\n",
       "      <td>0</td>\n",
       "      <td>0</td>\n",
       "      <td>0</td>\n",
       "      <td>0</td>\n",
       "      <td>0</td>\n",
       "    </tr>\n",
       "    <tr>\n",
       "      <th>2608</th>\n",
       "      <td>でも、私、そのＦＴＰのやつ、見よっか？</td>\n",
       "      <td>うん？</td>\n",
       "      <td>あいづち</td>\n",
       "      <td>0</td>\n",
       "      <td>0</td>\n",
       "      <td>0</td>\n",
       "      <td>0</td>\n",
       "      <td>0</td>\n",
       "      <td>1</td>\n",
       "      <td>0</td>\n",
       "      <td>0</td>\n",
       "      <td>0</td>\n",
       "      <td>0</td>\n",
       "    </tr>\n",
       "    <tr>\n",
       "      <th>2609</th>\n",
       "      <td>ほんと？</td>\n",
       "      <td>ってか言わないとさー、今度自分が所長に怒られるから、やっぱ譲れないとこは譲れない。だから結構...</td>\n",
       "      <td>自己開示</td>\n",
       "      <td>1</td>\n",
       "      <td>0</td>\n",
       "      <td>0</td>\n",
       "      <td>0</td>\n",
       "      <td>0</td>\n",
       "      <td>0</td>\n",
       "      <td>0</td>\n",
       "      <td>0</td>\n",
       "      <td>0</td>\n",
       "      <td>0</td>\n",
       "    </tr>\n",
       "  </tbody>\n",
       "</table>\n",
       "<p>2610 rows × 13 columns</p>\n",
       "</div>"
      ],
      "text/plain": [
       "                                                    発話者  \\\n",
       "0                                      大葉とのり、すてき、組み合わせ。   \n",
       "1                                              あー、そっかー。   \n",
       "2     うん、Ｚに、まで、じゃ、一番向こうっかたまで行ってみようかって、そいでそのときに、お、お金を...   \n",
       "3                その高校の校長先生、スペイン出身だけど、日本語ももちろんしゃべれるんだよね。   \n",
       "4                                       国際免許とったの、まーじでー。   \n",
       "...                                                 ...   \n",
       "2605  今度４人で、会う時は映画見にいくんでしょうとか、言われたんだけど、知らないよ、そんな話あったっけ？   \n",
       "2606                                    台湾のご飯っておいしいしねー。   \n",
       "2607                                まだあそこの映画館、営業してるよねー。   \n",
       "2608                                でも、私、そのＦＴＰのやつ、見よっか？   \n",
       "2609                                               ほんと？   \n",
       "\n",
       "                                                    応答者    対話行為  自己開示  \\\n",
       "0                                           すてきだね、私も好き。    自己開示     1   \n",
       "1     でも向こうの方が車で通ってるから通勤時間は短いじゃん。で、同じぐらいに終わっても向こうの方が...    自己開示     1   \n",
       "2                               なんだかおもしろい。え？あー、はい、わかった。    自己開示     1   \n",
       "3                                            うん、話せるみたい。  応答(平叙)     0   \n",
       "4                                                乗る気満々。  応答(平叙)     0   \n",
       "...                                                 ...     ...   ...   \n",
       "2605          たぶん、だから、４人で再会するんだったら、映画がいいんじゃないっていう話をしてて。  応答(平叙)     0   \n",
       "2606                                   ねー、やっぱそれだよねー。うん。      共感     0   \n",
       "2607                              あ、そうなんだ。私１回も行ったことなくて。    自己開示     1   \n",
       "2608                                                うん？    あいづち     0   \n",
       "2609  ってか言わないとさー、今度自分が所長に怒られるから、やっぱ譲れないとこは譲れない。だから結構...    自己開示     1   \n",
       "\n",
       "      質問(YesNo)  質問(What)  応答(YesNo)  応答(平叙)  あいづち  フィラー  確認  要求  共感  \n",
       "0             0         0          0       0     0     0   0   0   0  \n",
       "1             0         0          0       0     0     0   0   0   0  \n",
       "2             0         0          0       0     0     0   0   0   0  \n",
       "3             0         0          0       1     0     0   0   0   0  \n",
       "4             0         0          0       1     0     0   0   0   0  \n",
       "...         ...       ...        ...     ...   ...   ...  ..  ..  ..  \n",
       "2605          0         0          0       1     0     0   0   0   0  \n",
       "2606          0         0          0       0     0     0   0   0   1  \n",
       "2607          0         0          0       0     0     0   0   0   0  \n",
       "2608          0         0          0       0     1     0   0   0   0  \n",
       "2609          0         0          0       0     0     0   0   0   0  \n",
       "\n",
       "[2610 rows x 13 columns]"
      ]
     },
     "execution_count": 5,
     "metadata": {},
     "output_type": "execute_result"
    }
   ],
   "source": [
    "df_val = pd.read_excel(\"../2_dialogueact_data_val.xlsx\",engine = \"openpyxl\")\n",
    "df_val"
   ]
  },
  {
   "cell_type": "code",
   "execution_count": 6,
   "id": "14de7a1b-2f35-455b-8032-f222457bd834",
   "metadata": {},
   "outputs": [],
   "source": [
    "train_docs1 = df_train[\"発話者\"]\n",
    "train_docs2 = df_train[\"応答者\"]\n",
    "\n",
    "train_label1= df_train[\"自己開示\"].tolist()\n",
    "train_label2 = df_train[\"質問(YesNo)\"].tolist()\n",
    "train_label3 = df_train[\"質問(What)\"].tolist()\n",
    "train_label4 = df_train[\"応答(YesNo)\"].tolist()\n",
    "train_label5 = df_train[\"応答(平叙)\"].tolist()\n",
    "train_label6 = df_train[\"あいづち\"].tolist()\n",
    "train_label7 = df_train[\"フィラー\"].tolist()\n",
    "train_label8 = df_train[\"確認\"].tolist()\n",
    "train_label9 = df_train[\"要求\"].tolist()\n",
    "#print(len(train_docs1))"
   ]
  },
  {
   "cell_type": "code",
   "execution_count": 12,
   "id": "e5da1902-6fb5-4eac-8c01-a989fc253724",
   "metadata": {},
   "outputs": [
    {
     "data": {
      "text/plain": [
       "20881"
      ]
     },
     "execution_count": 12,
     "metadata": {},
     "output_type": "execute_result"
    }
   ],
   "source": [
    "train_labels = df_train[['自己開示', '質問(YesNo)', '質問(What)', '応答(YesNo)', '応答(平叙)', 'あいづち', 'フィラー', '確認', '要求', '共感']].values.tolist()\n",
    "len(train_labels)"
   ]
  },
  {
   "cell_type": "code",
   "execution_count": 8,
   "id": "c872fe58-8338-42d9-bc3c-093b5ac15aa1",
   "metadata": {},
   "outputs": [],
   "source": [
    "val_docs1 = df_val[\"発話者\"]\n",
    "val_docs2 = df_val[\"応答者\"]\n",
    "\n",
    "val_label1= df_val[\"自己開示\"].tolist()\n",
    "val_label2 = df_val[\"質問(YesNo)\"].tolist()\n",
    "val_label3 = df_val[\"質問(What)\"].tolist()\n",
    "val_label4 = df_val[\"応答(YesNo)\"].tolist()\n",
    "val_label5 = df_val[\"応答(平叙)\"].tolist()\n",
    "val_label6 = df_val[\"あいづち\"].tolist()\n",
    "val_label7 = df_val[\"フィラー\"].tolist()\n",
    "val_label8 = df_val[\"確認\"].tolist()\n",
    "val_label9 = df_val[\"要求\"].tolist()\n",
    "#print(len(val_docs1))"
   ]
  },
  {
   "cell_type": "code",
   "execution_count": 11,
   "id": "b606b6e4-e572-4fa4-9751-dcc1d3745d6e",
   "metadata": {},
   "outputs": [
    {
     "data": {
      "text/plain": [
       "2610"
      ]
     },
     "execution_count": 11,
     "metadata": {},
     "output_type": "execute_result"
    }
   ],
   "source": [
    "val_labels = df_val[['自己開示', '質問(YesNo)', '質問(What)', '応答(YesNo)', '応答(平叙)', 'あいづち', 'フィラー', '確認', '要求', '共感']].values.tolist()\n",
    "len(val_labels)"
   ]
  },
  {
   "cell_type": "code",
   "execution_count": 10,
   "id": "bbe3bd67-911e-454f-ade0-c0d53271c781",
   "metadata": {},
   "outputs": [],
   "source": [
    "#自己開示,質問(YesNo),質問(What),応答(YesNo),応答(平叙),あいづち,フィラー,確認,要求"
   ]
  },
  {
   "cell_type": "code",
   "execution_count": 6,
   "id": "57a9c779-39d5-4272-9126-1f30619baefb",
   "metadata": {},
   "outputs": [
    {
     "data": {
      "text/html": [
       "<div>\n",
       "<style scoped>\n",
       "    .dataframe tbody tr th:only-of-type {\n",
       "        vertical-align: middle;\n",
       "    }\n",
       "\n",
       "    .dataframe tbody tr th {\n",
       "        vertical-align: top;\n",
       "    }\n",
       "\n",
       "    .dataframe thead th {\n",
       "        text-align: right;\n",
       "    }\n",
       "</style>\n",
       "<table border=\"1\" class=\"dataframe\">\n",
       "  <thead>\n",
       "    <tr style=\"text-align: right;\">\n",
       "      <th></th>\n",
       "      <th>発話者</th>\n",
       "      <th>応答者</th>\n",
       "      <th>対話行為</th>\n",
       "      <th>自己開示</th>\n",
       "      <th>質問(YesNo)</th>\n",
       "      <th>質問(What)</th>\n",
       "      <th>応答(YesNo)</th>\n",
       "      <th>応答(平叙)</th>\n",
       "      <th>あいづち</th>\n",
       "      <th>フィラー</th>\n",
       "      <th>確認</th>\n",
       "      <th>要求</th>\n",
       "      <th>共感</th>\n",
       "    </tr>\n",
       "  </thead>\n",
       "  <tbody>\n",
       "    <tr>\n",
       "      <th>0</th>\n",
       "      <td>食事中</td>\n",
       "      <td>食事中のこのぽつぽつという会話も録っといた方が</td>\n",
       "      <td>自己開示</td>\n",
       "      <td>1</td>\n",
       "      <td>0</td>\n",
       "      <td>0</td>\n",
       "      <td>0</td>\n",
       "      <td>0</td>\n",
       "      <td>0</td>\n",
       "      <td>0</td>\n",
       "      <td>0</td>\n",
       "      <td>0</td>\n",
       "      <td>0</td>\n",
       "    </tr>\n",
       "    <tr>\n",
       "      <th>1</th>\n",
       "      <td>ラフランスと生ハムが出てきたお店は、ちょっとフランス料理風のところらしいんだけど。でも、なん...</td>\n",
       "      <td>ちょっと、創作フランス料理なんや。</td>\n",
       "      <td>自己開示</td>\n",
       "      <td>1</td>\n",
       "      <td>0</td>\n",
       "      <td>0</td>\n",
       "      <td>0</td>\n",
       "      <td>0</td>\n",
       "      <td>0</td>\n",
       "      <td>0</td>\n",
       "      <td>0</td>\n",
       "      <td>0</td>\n",
       "      <td>0</td>\n",
       "    </tr>\n",
       "    <tr>\n",
       "      <th>2</th>\n",
       "      <td>まじで？女？男？管理人。</td>\n",
       "      <td>結構、オヤジなんだけどね。</td>\n",
       "      <td>応答(平叙)</td>\n",
       "      <td>0</td>\n",
       "      <td>0</td>\n",
       "      <td>0</td>\n",
       "      <td>0</td>\n",
       "      <td>1</td>\n",
       "      <td>0</td>\n",
       "      <td>0</td>\n",
       "      <td>0</td>\n",
       "      <td>0</td>\n",
       "      <td>0</td>\n",
       "    </tr>\n",
       "    <tr>\n",
       "      <th>3</th>\n",
       "      <td>でもね、女の子が言うとね、ちょっと、ま、ちょっとマニアックな言い方だけど、ちょ、かわいいとき...</td>\n",
       "      <td>ええー？何か、男っぽすぎるっていうか。</td>\n",
       "      <td>自己開示</td>\n",
       "      <td>1</td>\n",
       "      <td>0</td>\n",
       "      <td>0</td>\n",
       "      <td>0</td>\n",
       "      <td>0</td>\n",
       "      <td>0</td>\n",
       "      <td>0</td>\n",
       "      <td>0</td>\n",
       "      <td>0</td>\n",
       "      <td>0</td>\n",
       "    </tr>\n",
       "    <tr>\n",
       "      <th>4</th>\n",
       "      <td>うん。それを思ったら、お母さんて偉いよね。</td>\n",
       "      <td>偉いよね。ほんと、から、ちょっと、何か、気持ち悪いけど、体から出てくるものが大きすぎるよね。</td>\n",
       "      <td>自己開示</td>\n",
       "      <td>1</td>\n",
       "      <td>0</td>\n",
       "      <td>0</td>\n",
       "      <td>0</td>\n",
       "      <td>0</td>\n",
       "      <td>0</td>\n",
       "      <td>0</td>\n",
       "      <td>0</td>\n",
       "      <td>0</td>\n",
       "      <td>0</td>\n",
       "    </tr>\n",
       "    <tr>\n",
       "      <th>...</th>\n",
       "      <td>...</td>\n",
       "      <td>...</td>\n",
       "      <td>...</td>\n",
       "      <td>...</td>\n",
       "      <td>...</td>\n",
       "      <td>...</td>\n",
       "      <td>...</td>\n",
       "      <td>...</td>\n",
       "      <td>...</td>\n",
       "      <td>...</td>\n",
       "      <td>...</td>\n",
       "      <td>...</td>\n",
       "      <td>...</td>\n",
       "    </tr>\n",
       "    <tr>\n",
       "      <th>2606</th>\n",
       "      <td>だめなんだ。</td>\n",
       "      <td>うーん。まあ日本だって逆は、息子さんをくださいってことはないもんねえ。</td>\n",
       "      <td>確認</td>\n",
       "      <td>0</td>\n",
       "      <td>0</td>\n",
       "      <td>0</td>\n",
       "      <td>0</td>\n",
       "      <td>0</td>\n",
       "      <td>0</td>\n",
       "      <td>0</td>\n",
       "      <td>1</td>\n",
       "      <td>0</td>\n",
       "      <td>0</td>\n",
       "    </tr>\n",
       "    <tr>\n",
       "      <th>2607</th>\n",
       "      <td>でも先生も言ってたよ。最終的に筆力だって。なんかこう、いきなりがーっと長くなったり、一挙に短...</td>\n",
       "      <td>そうかあー。文章力ねえ。でも私、卒論のときなんてあとから見たら、わーすごい何書いてんだかみた...</td>\n",
       "      <td>質問(What)</td>\n",
       "      <td>0</td>\n",
       "      <td>0</td>\n",
       "      <td>1</td>\n",
       "      <td>0</td>\n",
       "      <td>0</td>\n",
       "      <td>0</td>\n",
       "      <td>0</td>\n",
       "      <td>0</td>\n",
       "      <td>0</td>\n",
       "      <td>0</td>\n",
       "    </tr>\n",
       "    <tr>\n",
       "      <th>2608</th>\n",
       "      <td>何、何とか海道。</td>\n",
       "      <td>それ尾道の方から上ってる？</td>\n",
       "      <td>質問(YesNo)</td>\n",
       "      <td>0</td>\n",
       "      <td>1</td>\n",
       "      <td>0</td>\n",
       "      <td>0</td>\n",
       "      <td>0</td>\n",
       "      <td>0</td>\n",
       "      <td>0</td>\n",
       "      <td>0</td>\n",
       "      <td>0</td>\n",
       "      <td>0</td>\n",
       "    </tr>\n",
       "    <tr>\n",
       "      <th>2609</th>\n",
       "      <td>えー、いいですね、ちょっと。</td>\n",
       "      <td>うん。ねえ。</td>\n",
       "      <td>フィラー</td>\n",
       "      <td>0</td>\n",
       "      <td>0</td>\n",
       "      <td>0</td>\n",
       "      <td>0</td>\n",
       "      <td>0</td>\n",
       "      <td>0</td>\n",
       "      <td>1</td>\n",
       "      <td>0</td>\n",
       "      <td>0</td>\n",
       "      <td>0</td>\n",
       "    </tr>\n",
       "    <tr>\n",
       "      <th>2610</th>\n",
       "      <td>人並み、人並みかどうかっていうの、わかんないじゃないすか。</td>\n",
       "      <td>そうかなあ。</td>\n",
       "      <td>自己開示</td>\n",
       "      <td>1</td>\n",
       "      <td>0</td>\n",
       "      <td>0</td>\n",
       "      <td>0</td>\n",
       "      <td>0</td>\n",
       "      <td>0</td>\n",
       "      <td>0</td>\n",
       "      <td>0</td>\n",
       "      <td>0</td>\n",
       "      <td>0</td>\n",
       "    </tr>\n",
       "  </tbody>\n",
       "</table>\n",
       "<p>2611 rows × 13 columns</p>\n",
       "</div>"
      ],
      "text/plain": [
       "                                                    発話者  \\\n",
       "0                                                   食事中   \n",
       "1     ラフランスと生ハムが出てきたお店は、ちょっとフランス料理風のところらしいんだけど。でも、なん...   \n",
       "2                                          まじで？女？男？管理人。   \n",
       "3     でもね、女の子が言うとね、ちょっと、ま、ちょっとマニアックな言い方だけど、ちょ、かわいいとき...   \n",
       "4                                 うん。それを思ったら、お母さんて偉いよね。   \n",
       "...                                                 ...   \n",
       "2606                                             だめなんだ。   \n",
       "2607  でも先生も言ってたよ。最終的に筆力だって。なんかこう、いきなりがーっと長くなったり、一挙に短...   \n",
       "2608                                           何、何とか海道。   \n",
       "2609                                     えー、いいですね、ちょっと。   \n",
       "2610                      人並み、人並みかどうかっていうの、わかんないじゃないすか。   \n",
       "\n",
       "                                                    応答者       対話行為  自己開示  \\\n",
       "0                               食事中のこのぽつぽつという会話も録っといた方が       自己開示     1   \n",
       "1                                     ちょっと、創作フランス料理なんや。       自己開示     1   \n",
       "2                                         結構、オヤジなんだけどね。     応答(平叙)     0   \n",
       "3                                   ええー？何か、男っぽすぎるっていうか。       自己開示     1   \n",
       "4        偉いよね。ほんと、から、ちょっと、何か、気持ち悪いけど、体から出てくるものが大きすぎるよね。       自己開示     1   \n",
       "...                                                 ...        ...   ...   \n",
       "2606                うーん。まあ日本だって逆は、息子さんをくださいってことはないもんねえ。         確認     0   \n",
       "2607  そうかあー。文章力ねえ。でも私、卒論のときなんてあとから見たら、わーすごい何書いてんだかみた...   質問(What)     0   \n",
       "2608                                      それ尾道の方から上ってる？  質問(YesNo)     0   \n",
       "2609                                             うん。ねえ。       フィラー     0   \n",
       "2610                                             そうかなあ。       自己開示     1   \n",
       "\n",
       "      質問(YesNo)  質問(What)  応答(YesNo)  応答(平叙)  あいづち  フィラー  確認  要求  共感  \n",
       "0             0         0          0       0     0     0   0   0   0  \n",
       "1             0         0          0       0     0     0   0   0   0  \n",
       "2             0         0          0       1     0     0   0   0   0  \n",
       "3             0         0          0       0     0     0   0   0   0  \n",
       "4             0         0          0       0     0     0   0   0   0  \n",
       "...         ...       ...        ...     ...   ...   ...  ..  ..  ..  \n",
       "2606          0         0          0       0     0     0   1   0   0  \n",
       "2607          0         1          0       0     0     0   0   0   0  \n",
       "2608          1         0          0       0     0     0   0   0   0  \n",
       "2609          0         0          0       0     0     1   0   0   0  \n",
       "2610          0         0          0       0     0     0   0   0   0  \n",
       "\n",
       "[2611 rows x 13 columns]"
      ]
     },
     "execution_count": 6,
     "metadata": {},
     "output_type": "execute_result"
    }
   ],
   "source": [
    "df_test = pd.read_excel(\"../2_dialogueact_data_test.xlsx\",engine = \"openpyxl\")\n",
    "df_test"
   ]
  },
  {
   "cell_type": "code",
   "execution_count": 12,
   "id": "db41ba76-d48a-47a0-954e-1ea1d67cf6e3",
   "metadata": {},
   "outputs": [],
   "source": [
    "test_docs1 = df_test[\"発話者\"]\n",
    "test_docs2 = df_test[\"応答者\"]\n",
    "\n",
    "test_label1= df_test[\"自己開示\"].tolist()\n",
    "test_label2 = df_test[\"質問(YesNo)\"].tolist()\n",
    "test_label3 = df_test[\"質問(What)\"].tolist()\n",
    "test_label4 = df_test[\"応答(YesNo)\"].tolist()\n",
    "test_label5 = df_test[\"応答(平叙)\"].tolist()\n",
    "test_label6 = df_test[\"あいづち\"].tolist()\n",
    "test_label7 = df_test[\"フィラー\"].tolist()\n",
    "test_label8 = df_test[\"確認\"].tolist()\n",
    "test_label9 = df_test[\"要求\"].tolist()\n",
    "#print(len(train_docs1))"
   ]
  },
  {
   "cell_type": "code",
   "execution_count": 13,
   "id": "b734179b-ddc9-4dd9-bdeb-3240e1f4b35b",
   "metadata": {},
   "outputs": [
    {
     "data": {
      "text/plain": [
       "2611"
      ]
     },
     "execution_count": 13,
     "metadata": {},
     "output_type": "execute_result"
    }
   ],
   "source": [
    "test_labels = df_test[['自己開示', '質問(YesNo)', '質問(What)', '応答(YesNo)', '応答(平叙)', 'あいづち', 'フィラー', '確認', '要求', '共感']].values.tolist()\n",
    "len(test_labels)"
   ]
  },
  {
   "cell_type": "code",
   "execution_count": 14,
   "id": "2576f029-2eb0-44da-943d-1bb9d3165d19",
   "metadata": {},
   "outputs": [
    {
     "data": {
      "text/plain": [
       "0        [1, 0, 0, 0, 0, 0, 0, 0, 0, 0]\n",
       "1        [1, 0, 0, 0, 0, 0, 0, 0, 0, 0]\n",
       "2        [0, 0, 0, 0, 0, 1, 0, 0, 0, 0]\n",
       "3        [0, 0, 1, 0, 0, 0, 0, 0, 0, 0]\n",
       "4        [1, 0, 0, 0, 0, 0, 0, 0, 0, 0]\n",
       "                      ...              \n",
       "20876    [0, 0, 0, 0, 1, 0, 0, 0, 0, 0]\n",
       "20877    [1, 0, 0, 0, 0, 0, 0, 0, 0, 0]\n",
       "20878    [1, 0, 0, 0, 0, 0, 0, 0, 0, 0]\n",
       "20879    [1, 0, 0, 0, 0, 0, 0, 0, 0, 0]\n",
       "20880    [1, 0, 0, 0, 0, 0, 0, 0, 0, 0]\n",
       "Name: 対話行為list, Length: 20881, dtype: object"
      ]
     },
     "execution_count": 14,
     "metadata": {},
     "output_type": "execute_result"
    }
   ],
   "source": [
    "train = pd.DataFrame()\n",
    "df_train[\"対話行為list\"] = train_labels\n",
    "train = pd.concat([df_train[\"発話者\"].astype(str),df_train[\"応答者\"].astype(str)], axis = 1)\n",
    "train = pd.concat([train,df_train[\"対話行為list\"]], axis = 1)\n",
    "train[\"対話行為list\"]"
   ]
  },
  {
   "cell_type": "code",
   "execution_count": 15,
   "id": "09fcfea7-a364-4574-ab8d-15920aa31c99",
   "metadata": {},
   "outputs": [
    {
     "data": {
      "text/plain": [
       "0       [1, 0, 0, 0, 0, 0, 0, 0, 0, 0]\n",
       "1       [1, 0, 0, 0, 0, 0, 0, 0, 0, 0]\n",
       "2       [1, 0, 0, 0, 0, 0, 0, 0, 0, 0]\n",
       "3       [0, 0, 0, 0, 1, 0, 0, 0, 0, 0]\n",
       "4       [0, 0, 0, 0, 1, 0, 0, 0, 0, 0]\n",
       "                     ...              \n",
       "2605    [0, 0, 0, 0, 1, 0, 0, 0, 0, 0]\n",
       "2606    [0, 0, 0, 0, 0, 0, 0, 0, 0, 1]\n",
       "2607    [1, 0, 0, 0, 0, 0, 0, 0, 0, 0]\n",
       "2608    [0, 0, 0, 0, 0, 1, 0, 0, 0, 0]\n",
       "2609    [1, 0, 0, 0, 0, 0, 0, 0, 0, 0]\n",
       "Name: 対話行為list, Length: 2610, dtype: object"
      ]
     },
     "execution_count": 15,
     "metadata": {},
     "output_type": "execute_result"
    }
   ],
   "source": [
    "val = pd.DataFrame()\n",
    "df_val[\"対話行為list\"] = val_labels\n",
    "val = pd.concat([df_val[\"発話者\"].astype(str), df_val[\"応答者\"].astype(str)], axis = 1)\n",
    "val = pd.concat([val, df_val[\"対話行為list\"]], axis = 1)\n",
    "val[\"対話行為list\"]"
   ]
  },
  {
   "cell_type": "code",
   "execution_count": 16,
   "id": "567796b6-23ea-443b-9b91-e8ea49a0cf63",
   "metadata": {},
   "outputs": [
    {
     "data": {
      "text/plain": [
       "0       [1, 0, 0, 0, 0, 0, 0, 0, 0, 0]\n",
       "1       [1, 0, 0, 0, 0, 0, 0, 0, 0, 0]\n",
       "2       [0, 0, 0, 0, 1, 0, 0, 0, 0, 0]\n",
       "3       [1, 0, 0, 0, 0, 0, 0, 0, 0, 0]\n",
       "4       [1, 0, 0, 0, 0, 0, 0, 0, 0, 0]\n",
       "                     ...              \n",
       "2606    [0, 0, 0, 0, 0, 0, 0, 1, 0, 0]\n",
       "2607    [0, 0, 1, 0, 0, 0, 0, 0, 0, 0]\n",
       "2608    [0, 1, 0, 0, 0, 0, 0, 0, 0, 0]\n",
       "2609    [0, 0, 0, 0, 0, 0, 1, 0, 0, 0]\n",
       "2610    [1, 0, 0, 0, 0, 0, 0, 0, 0, 0]\n",
       "Name: 対話行為list, Length: 2611, dtype: object"
      ]
     },
     "execution_count": 16,
     "metadata": {},
     "output_type": "execute_result"
    }
   ],
   "source": [
    "test = pd.DataFrame()\n",
    "df_test[\"対話行為list\"] = test_labels\n",
    "test = pd.concat([df_test[\"発話者\"].astype(str), df_test[\"応答者\"].astype(str)], axis = 1)\n",
    "test = pd.concat([test, df_test[\"対話行為list\"]], axis = 1)\n",
    "test[\"対話行為list\"]"
   ]
  },
  {
   "cell_type": "code",
   "execution_count": 17,
   "id": "a42ce99c-85f9-4526-8a2c-2b0009d9990b",
   "metadata": {},
   "outputs": [
    {
     "data": {
      "text/plain": [
       "'cuda:0'"
      ]
     },
     "execution_count": 17,
     "metadata": {},
     "output_type": "execute_result"
    }
   ],
   "source": [
    "device = \"cuda:0\" if torch.cuda.is_available() else \"cpu\"\n",
    "device"
   ]
  },
  {
   "cell_type": "code",
   "execution_count": 18,
   "id": "bc1afbd8-d2d4-4417-921a-0dca273c2300",
   "metadata": {},
   "outputs": [],
   "source": [
    "checkpoint = 'cl-tohoku/bert-base-japanese-whole-word-masking'\n",
    "tokenizer = AutoTokenizer.from_pretrained(checkpoint)"
   ]
  },
  {
   "cell_type": "code",
   "execution_count": 19,
   "id": "f9e4c479-2ea1-4e70-b27a-eb995d8dfc57",
   "metadata": {},
   "outputs": [
    {
     "data": {
      "application/vnd.jupyter.widget-view+json": {
       "model_id": "6e0aed3f1fec42dba1676f985d393dab",
       "version_major": 2,
       "version_minor": 0
      },
      "text/plain": [
       "  0%|          | 0/21 [00:00<?, ?ba/s]"
      ]
     },
     "metadata": {},
     "output_type": "display_data"
    },
    {
     "name": "stderr",
     "output_type": "stream",
     "text": [
      "Be aware, overflowing tokens are not returned for the setting you have chosen, i.e. sequence pairs with the 'longest_first' truncation strategy. So the returned list will always be empty even if some tokens have been removed.\n",
      "Be aware, overflowing tokens are not returned for the setting you have chosen, i.e. sequence pairs with the 'longest_first' truncation strategy. So the returned list will always be empty even if some tokens have been removed.\n",
      "Be aware, overflowing tokens are not returned for the setting you have chosen, i.e. sequence pairs with the 'longest_first' truncation strategy. So the returned list will always be empty even if some tokens have been removed.\n"
     ]
    },
    {
     "data": {
      "application/vnd.jupyter.widget-view+json": {
       "model_id": "691048d08e4b4a94899c93a24be2be05",
       "version_major": 2,
       "version_minor": 0
      },
      "text/plain": [
       "  0%|          | 0/3 [00:00<?, ?ba/s]"
      ]
     },
     "metadata": {},
     "output_type": "display_data"
    },
    {
     "data": {
      "application/vnd.jupyter.widget-view+json": {
       "model_id": "dc19c32a87b049adafa263674c527b80",
       "version_major": 2,
       "version_minor": 0
      },
      "text/plain": [
       "  0%|          | 0/3 [00:00<?, ?ba/s]"
      ]
     },
     "metadata": {},
     "output_type": "display_data"
    }
   ],
   "source": [
    "# 前処理関数: tokenize_function\n",
    "import numpy as np\n",
    "from datasets import Dataset\n",
    "def tokenize_function(batch):\n",
    "    tokenized_batch = tokenizer(batch['発話者'], batch['応答者'], truncation=True, padding='max_length')\n",
    "    #tokenized_batch['labels'] = batch['対話行為list']\n",
    "    tokenized_batch['labels'] = np.argmax(batch['対話行為list'], axis=-1)\n",
    "    return tokenized_batch\n",
    "\n",
    "# Transformers用のデータセット形式に変換\n",
    "# pandas.DataFrame -> datasets.Dataset\n",
    "target_columns = ['発話者', \"応答者\",\"対話行為list\"]\n",
    "\n",
    "train_dataset = Dataset.from_pandas(train[target_columns])\n",
    "val_dataset = Dataset.from_pandas(val[target_columns])\n",
    "test_dataset = Dataset.from_pandas(test[target_columns])\n",
    "batch_size = 10\n",
    "# 前処理（tokenize_function） を適用\n",
    "train_tokenized_dataset = train_dataset.map(tokenize_function, batched=True)\n",
    "val_tokenized_dataset = val_dataset.map(tokenize_function, batched=True)\n",
    "test_tokenized_dataset = test_dataset.map(tokenize_function, batched=True)\n",
    "\n",
    "#train_tokenized_dataset.set_format(\"torch\")\n",
    "#test_tokenized_dataset.set_format(\"torch\")\n",
    "#print(train_tokenized_dataset[\"labels\"])"
   ]
  },
  {
   "cell_type": "code",
   "execution_count": 20,
   "id": "aca837f3-8a98-45a2-85ad-92abb838f9dc",
   "metadata": {},
   "outputs": [
    {
     "name": "stderr",
     "output_type": "stream",
     "text": [
      "Some weights of the model checkpoint at cl-tohoku/bert-base-japanese-whole-word-masking were not used when initializing BertForSequenceClassification: ['cls.seq_relationship.bias', 'cls.predictions.decoder.weight', 'cls.predictions.transform.LayerNorm.weight', 'cls.seq_relationship.weight', 'cls.predictions.bias', 'cls.predictions.transform.LayerNorm.bias', 'cls.predictions.transform.dense.bias', 'cls.predictions.transform.dense.weight']\n",
      "- This IS expected if you are initializing BertForSequenceClassification from the checkpoint of a model trained on another task or with another architecture (e.g. initializing a BertForSequenceClassification model from a BertForPreTraining model).\n",
      "- This IS NOT expected if you are initializing BertForSequenceClassification from the checkpoint of a model that you expect to be exactly identical (initializing a BertForSequenceClassification model from a BertForSequenceClassification model).\n",
      "Some weights of BertForSequenceClassification were not initialized from the model checkpoint at cl-tohoku/bert-base-japanese-whole-word-masking and are newly initialized: ['classifier.bias', 'classifier.weight']\n",
      "You should probably TRAIN this model on a down-stream task to be able to use it for predictions and inference.\n"
     ]
    }
   ],
   "source": [
    "\n",
    "model = AutoModelForSequenceClassification.from_pretrained(checkpoint, num_labels=10)\n"
   ]
  },
  {
   "cell_type": "code",
   "execution_count": 21,
   "id": "361ea643-43ae-4b84-8d77-37601301d177",
   "metadata": {},
   "outputs": [
    {
     "name": "stdout",
     "output_type": "stream",
     "text": [
      "0    0.545903\n",
      "1    0.091423\n",
      "2    0.053350\n",
      "3    0.017001\n",
      "4    0.082467\n",
      "5    0.076912\n",
      "6    0.037259\n",
      "7    0.052392\n",
      "8    0.008429\n",
      "9    0.034864\n",
      "dtype: float64\n"
     ]
    }
   ],
   "source": [
    "labe = pd.DataFrame(train_tokenized_dataset[\"labels\"])\n",
    "label_ratio =labe.value_counts(sort=False, normalize=True)\n",
    "print(label_ratio)"
   ]
  },
  {
   "cell_type": "code",
   "execution_count": 22,
   "id": "03c5f1e8-b599-4c57-85ee-0c802e2e688e",
   "metadata": {},
   "outputs": [
    {
     "data": {
      "text/plain": [
       "tensor([  1.8318,  10.9382,  18.7442,  58.8197,  12.1260,  13.0019,  26.8393,\n",
       "         19.0868, 118.6420,  28.6827], device='cuda:0')"
      ]
     },
     "execution_count": 22,
     "metadata": {},
     "output_type": "execute_result"
    }
   ],
   "source": [
    "import torch\n",
    "class_weight = torch.tensor(1/label_ratio).clone().to(device, torch.float32)\n",
    "class_weight"
   ]
  },
  {
   "cell_type": "code",
   "execution_count": 23,
   "id": "c0889afd-64ff-44f2-b973-df8fbb600c49",
   "metadata": {},
   "outputs": [],
   "source": [
    "#https://qiita.com/nipo/items/44ce3aaf6acd4e2649d1\n",
    "#https://qiita.com/m__k/items/2c4e476d7ac81a3a44af\n",
    "from transformers import TrainingArguments, Trainer, EarlyStoppingCallback\n",
    "from datasets import load_metric\n",
    "from sklearn.metrics import accuracy_score, precision_recall_fscore_support\n",
    "# 評価指標を定義\n",
    "# https://huggingface.co/docs/transformers/training\n",
    "#metric = load_metric(\"accuracy\")\n",
    "\n",
    "def compute_metrics(pred):\n",
    "    labels = pred.label_ids\n",
    "    preds = pred.predictions.argmax(-1)\n",
    "    precision, recall, f1, _ = precision_recall_fscore_support(labels, preds, average='macro')\n",
    "    acc = accuracy_score(labels, preds)\n",
    "    return {\n",
    "        'accuracy': acc,\n",
    "        'f1': f1,\n",
    "        'precision': precision,\n",
    "        'recall': recall\n",
    "    }\n",
    "\n",
    "\n",
    "# def compute_metrics(eval_pred):\n",
    "#     logits, labels = eval_pred\n",
    "#     predictions = np.argmax(logits, axis=-1)\n",
    "#     label_ids = np.argmax(labels, axis=-1)\n",
    "#     return metric.compute(predictions=predictions, references=label_ids)\n",
    "\n",
    "# 訓練時の設定\n",
    "# https://huggingface.co/docs/transformers/v4.21.1/en/main_classes/trainer#transformers.TrainingArguments\n",
    "training_args = TrainingArguments(\n",
    "    output_dir=\"weight_result_kyoukan\",\n",
    "    per_device_train_batch_size=8,\n",
    "    per_device_eval_batch_size=8,\n",
    "    num_train_epochs=3.0,\n",
    "    learning_rate=2e-5,\n",
    "    evaluation_strategy=\"steps\",\n",
    "    save_strategy=\"steps\",\n",
    "    #logging_strategy=\"steps\"\n",
    "    eval_steps=500,\n",
    "    load_best_model_at_end=True\n",
    ")  # 200ステップ毎にテストデータで評価する\n",
    "\n",
    "# Trainerを生成\n"
   ]
  },
  {
   "cell_type": "code",
   "execution_count": 24,
   "id": "d3f5a9c3-5dd8-47fb-8e3e-b5f8828c8521",
   "metadata": {},
   "outputs": [],
   "source": [
    "#https://dev.classmethod.jp/articles/huggingface-usage-custom-loss-func/\n",
    "\n",
    "from torch import nn\n",
    "\n",
    "class CustomTrainer(Trainer):\n",
    "    def compute_loss(self, model, inputs, return_outputs=False):\n",
    "        labels = inputs.get(\"labels\")\n",
    "        # forward pass\n",
    "        outputs = model(**inputs)\n",
    "        logits = outputs.get(\"logits\")\n",
    "        # compute custom loss (suppose one has 3 labels with different weights)\n",
    "        loss_fct = nn.CrossEntropyLoss(weight=class_weight)\n",
    "        loss = loss_fct(logits.view(-1, self.model.config.num_labels), labels.view(-1))\n",
    "        #loss = loss_fct(logits, labels)\n",
    "        return (loss, outputs) if return_outputs else loss\n",
    "    \n",
    "# class CustomTrainer(Trainer):\n",
    "#     def compute_loss(self, model, inputs, return_outputs=False):\n",
    "#         labels = inputs.get(\"labels\").to(\"cpu\")\n",
    "\n",
    "#         # forward pass\n",
    "#         outputs = model(**inputs)\n",
    "#         logits = outputs.get(\"logits\").to(\"cpu\")\n",
    "\n",
    "        \n",
    "#         # compute custom loss (suppose one has 3 labels with different weights)\n",
    "#         pos_weight = torch.tensor([28804/14396,30633/12567, 30176/13024, 34078/9122, 39131/4069, 37547/5653, 36426/6774, 36746/6454])\n",
    "#         loss_fct = nn.BCEWithLogitsLoss(pos_weight=pos_weight)\n",
    "#         #loss_fct = nn.BCEWithLogitsLoss()\n",
    "#         loss = loss_fct(logits, labels)\n",
    "      \n",
    "#         return (loss, outputs) if return_outputs else loss\n",
    "    \n",
    "    \n",
    "\n"
   ]
  },
  {
   "cell_type": "code",
   "execution_count": 25,
   "id": "abc991c0-f492-4961-83c1-33b493d1555f",
   "metadata": {},
   "outputs": [
    {
     "name": "stderr",
     "output_type": "stream",
     "text": [
      "/usr/local/lib/python3.8/dist-packages/accelerate/utils/imports.py:197: UserWarning: Intel Extension for PyTorch 1.11 needs to work with PyTorch 1.11.*, but PyTorch 1.12.1+cu113 is found. Please switch to the matching version and run again.\n",
      "  warnings.warn(\n"
     ]
    }
   ],
   "source": [
    "trainer = CustomTrainer(\n",
    "    model=model,\n",
    "    args=training_args,\n",
    "    compute_metrics=compute_metrics,\n",
    "    train_dataset=train_tokenized_dataset,\n",
    "    eval_dataset=val_tokenized_dataset,\n",
    "    tokenizer=tokenizer,\n",
    "    callbacks=[EarlyStoppingCallback(early_stopping_patience=2)]\n",
    ")\n",
    "\n",
    "# trainer = Trainer(\n",
    "#     model=model,\n",
    "#     args=training_args,\n",
    "#     train_dataset=train_tokenized_dataset,\n",
    "#     eval_dataset=val_tokenized_dataset,\n",
    "#     compute_metrics=compute_metrics,\n",
    "#     callbacks=[EarlyStoppingCallback(early_stopping_patience=3)]\n",
    "# )\n"
   ]
  },
  {
   "cell_type": "code",
   "execution_count": 26,
   "id": "a5a81502-d4ce-4c77-8fef-637d600a92e4",
   "metadata": {},
   "outputs": [],
   "source": [
    "# trainer = Trainer(\n",
    "#     model=model,\n",
    "#     args=training_args,\n",
    "#     train_dataset=train_tokenized_dataset,\n",
    "#     eval_dataset=val_tokenized_dataset,\n",
    "#     compute_metrics=compute_metrics,\n",
    "#     callbacks=[EarlyStoppingCallback(early_stopping_patience=3)]\n",
    "# )\n"
   ]
  },
  {
   "cell_type": "code",
   "execution_count": 27,
   "id": "a9363000-c25c-40d0-8ba5-cd77dd5adec9",
   "metadata": {},
   "outputs": [
    {
     "name": "stderr",
     "output_type": "stream",
     "text": [
      "/usr/local/lib/python3.8/dist-packages/accelerate/utils/imports.py:197: UserWarning: Intel Extension for PyTorch 1.11 needs to work with PyTorch 1.11.*, but PyTorch 1.12.1+cu113 is found. Please switch to the matching version and run again.\n",
      "  warnings.warn(\n",
      "/usr/local/lib/python3.8/dist-packages/transformers/optimization.py:411: FutureWarning: This implementation of AdamW is deprecated and will be removed in a future version. Use the PyTorch implementation torch.optim.AdamW instead, or set `no_deprecation_warning=True` to disable this warning\n",
      "  warnings.warn(\n"
     ]
    },
    {
     "data": {
      "text/html": [
       "\n",
       "    <div>\n",
       "      \n",
       "      <progress value='4000' max='7833' style='width:300px; height:20px; vertical-align: middle;'></progress>\n",
       "      [4000/7833 16:32 < 15:51, 4.03 it/s, Epoch 1/3]\n",
       "    </div>\n",
       "    <table border=\"1\" class=\"dataframe\">\n",
       "  <thead>\n",
       " <tr style=\"text-align: left;\">\n",
       "      <th>Step</th>\n",
       "      <th>Training Loss</th>\n",
       "      <th>Validation Loss</th>\n",
       "      <th>Accuracy</th>\n",
       "      <th>F1</th>\n",
       "      <th>Precision</th>\n",
       "      <th>Recall</th>\n",
       "    </tr>\n",
       "  </thead>\n",
       "  <tbody>\n",
       "    <tr>\n",
       "      <td>500</td>\n",
       "      <td>1.845500</td>\n",
       "      <td>1.400848</td>\n",
       "      <td>0.622605</td>\n",
       "      <td>0.421229</td>\n",
       "      <td>0.424148</td>\n",
       "      <td>0.483323</td>\n",
       "    </tr>\n",
       "    <tr>\n",
       "      <td>1000</td>\n",
       "      <td>1.340400</td>\n",
       "      <td>1.246265</td>\n",
       "      <td>0.570881</td>\n",
       "      <td>0.477536</td>\n",
       "      <td>0.462440</td>\n",
       "      <td>0.560498</td>\n",
       "    </tr>\n",
       "    <tr>\n",
       "      <td>1500</td>\n",
       "      <td>1.229800</td>\n",
       "      <td>1.284326</td>\n",
       "      <td>0.598851</td>\n",
       "      <td>0.473689</td>\n",
       "      <td>0.474266</td>\n",
       "      <td>0.556519</td>\n",
       "    </tr>\n",
       "    <tr>\n",
       "      <td>2000</td>\n",
       "      <td>1.176200</td>\n",
       "      <td>1.140557</td>\n",
       "      <td>0.668966</td>\n",
       "      <td>0.555737</td>\n",
       "      <td>0.550582</td>\n",
       "      <td>0.612765</td>\n",
       "    </tr>\n",
       "    <tr>\n",
       "      <td>2500</td>\n",
       "      <td>1.057000</td>\n",
       "      <td>1.118150</td>\n",
       "      <td>0.668199</td>\n",
       "      <td>0.541293</td>\n",
       "      <td>0.519470</td>\n",
       "      <td>0.624430</td>\n",
       "    </tr>\n",
       "    <tr>\n",
       "      <td>3000</td>\n",
       "      <td>0.932200</td>\n",
       "      <td>1.063518</td>\n",
       "      <td>0.648659</td>\n",
       "      <td>0.567813</td>\n",
       "      <td>0.534864</td>\n",
       "      <td>0.641666</td>\n",
       "    </tr>\n",
       "    <tr>\n",
       "      <td>3500</td>\n",
       "      <td>0.901000</td>\n",
       "      <td>1.103967</td>\n",
       "      <td>0.695785</td>\n",
       "      <td>0.588643</td>\n",
       "      <td>0.575568</td>\n",
       "      <td>0.636938</td>\n",
       "    </tr>\n",
       "    <tr>\n",
       "      <td>4000</td>\n",
       "      <td>0.887900</td>\n",
       "      <td>1.092577</td>\n",
       "      <td>0.672797</td>\n",
       "      <td>0.566891</td>\n",
       "      <td>0.537663</td>\n",
       "      <td>0.630239</td>\n",
       "    </tr>\n",
       "  </tbody>\n",
       "</table><p>"
      ],
      "text/plain": [
       "<IPython.core.display.HTML object>"
      ]
     },
     "metadata": {},
     "output_type": "display_data"
    },
    {
     "name": "stderr",
     "output_type": "stream",
     "text": [
      "/usr/local/lib/python3.8/dist-packages/sklearn/metrics/_classification.py:1334: UndefinedMetricWarning: Precision and F-score are ill-defined and being set to 0.0 in labels with no predicted samples. Use `zero_division` parameter to control this behavior.\n",
      "  _warn_prf(average, modifier, msg_start, len(result))\n"
     ]
    },
    {
     "data": {
      "text/plain": [
       "TrainOutput(global_step=4000, training_loss=1.1712560195922852, metrics={'train_runtime': 989.9015, 'train_samples_per_second': 63.282, 'train_steps_per_second': 7.913, 'total_flos': 8418316628047872.0, 'train_loss': 1.1712560195922852, 'epoch': 1.53})"
      ]
     },
     "execution_count": 27,
     "metadata": {},
     "output_type": "execute_result"
    }
   ],
   "source": [
    "# 訓練を実行\n",
    "trainer.train()\n"
   ]
  },
  {
   "cell_type": "code",
   "execution_count": 28,
   "id": "507a709a-a9e8-4f76-b6d7-b4e0add28afd",
   "metadata": {},
   "outputs": [
    {
     "data": {
      "text/html": [],
      "text/plain": [
       "<IPython.core.display.HTML object>"
      ]
     },
     "metadata": {},
     "output_type": "display_data"
    },
    {
     "data": {
      "text/plain": [
       "{'eval_loss': 1.0635179281234741,\n",
       " 'eval_accuracy': 0.6486590038314176,\n",
       " 'eval_f1': 0.5678130479972187,\n",
       " 'eval_precision': 0.5348643952235619,\n",
       " 'eval_recall': 0.6416658447560837,\n",
       " 'eval_runtime': 21.0545,\n",
       " 'eval_samples_per_second': 123.964,\n",
       " 'eval_steps_per_second': 15.531,\n",
       " 'epoch': 1.53}"
      ]
     },
     "execution_count": 28,
     "metadata": {},
     "output_type": "execute_result"
    }
   ],
   "source": [
    "\n",
    "trainer.evaluate()"
   ]
  },
  {
   "cell_type": "code",
   "execution_count": 23,
   "id": "bf0113a8-e63f-4794-92ef-ac833c6e61c5",
   "metadata": {},
   "outputs": [],
   "source": [
    "trainer.save_state()\n",
    "trainer.save_model()"
   ]
  },
  {
   "cell_type": "code",
   "execution_count": 29,
   "id": "3b3eb5b8-e320-4650-8111-5502f8e3e526",
   "metadata": {},
   "outputs": [],
   "source": [
    "torch.save(model, 'dialogueact_class_weight_kyoukan.pth')"
   ]
  },
  {
   "cell_type": "code",
   "execution_count": 30,
   "id": "065a1182-37d6-463a-8e0b-a1a3d488f441",
   "metadata": {},
   "outputs": [
    {
     "data": {
      "text/plain": [
       "PredictionOutput(predictions=array([[ 3.4604042 ,  0.53413355, -0.3959882 , ...,  1.1125307 ,\n",
       "         0.14392059, -0.41615275],\n",
       "       [ 2.6227355 ,  1.0473545 , -0.20428993, ...,  0.95821416,\n",
       "        -1.6831961 ,  1.8596929 ],\n",
       "       [ 1.9883375 , -1.1851453 , -1.2121696 , ...,  0.2732416 ,\n",
       "        -0.5630293 , -1.2716107 ],\n",
       "       ...,\n",
       "       [-0.7620207 ,  5.2692704 ,  1.8902054 , ...,  2.3444912 ,\n",
       "        -0.59800977, -1.0128185 ],\n",
       "       [-0.563288  , -2.1046448 , -2.0943067 , ..., -1.6607032 ,\n",
       "        -2.038027  ,  1.3583815 ],\n",
       "       [ 0.63813144, -1.3676664 , -1.4800135 , ..., -1.3421042 ,\n",
       "        -2.3201094 ,  1.5318048 ]], dtype=float32), label_ids=array([0, 0, 4, ..., 1, 6, 0]), metrics={'test_loss': 0.9957690834999084, 'test_accuracy': 0.658751436231329, 'test_f1': 0.5796721529069087, 'test_precision': 0.539206947882968, 'test_recall': 0.6757145944968592, 'test_runtime': 21.0895, 'test_samples_per_second': 123.806, 'test_steps_per_second': 15.505})"
      ]
     },
     "execution_count": 30,
     "metadata": {},
     "output_type": "execute_result"
    }
   ],
   "source": [
    "pred_result = trainer.predict(test_tokenized_dataset)\n",
    "pred_result"
   ]
  },
  {
   "cell_type": "code",
   "execution_count": 31,
   "id": "9fe8aca5-7b2e-4876-a07f-ae792446164f",
   "metadata": {},
   "outputs": [],
   "source": [
    "import numpy as np\n",
    "\n",
    "y_preds = np.argmax(pred_result.predictions, axis=1)\n",
    "y_pred_hozon = pd.DataFrame(y_preds, columns = [\"y_pred\"])\n",
    "y_test = np.array(test_tokenized_dataset[\"labels\"])\n",
    "y_test_hozon = pd.DataFrame(y_test, columns = [\"y_test\"])\n",
    "\n",
    "y_pred_hozon.to_csv('y_pred_hozon2.csv')\n",
    "y_test_hozon.to_csv('y_test_hozon2.csv')"
   ]
  },
  {
   "cell_type": "code",
   "execution_count": null,
   "id": "4a2a9dd7-9da2-4c10-a003-aa73af622095",
   "metadata": {},
   "outputs": [],
   "source": []
  },
  {
   "cell_type": "code",
   "execution_count": 32,
   "id": "58d96af6-de9b-4efd-ac91-a85a53550445",
   "metadata": {},
   "outputs": [],
   "source": [
    "dialogue_labels = ['自己開示', '質問(YesNo)', '質問(What)', '応答(YesNo)', '応答(平叙)', 'あいづち', 'フィラー', '確認', '要求',\"共感\"]"
   ]
  },
  {
   "cell_type": "code",
   "execution_count": 33,
   "id": "4112026e-3bfd-4209-91ae-c93ff85e00db",
   "metadata": {},
   "outputs": [
    {
     "data": {
      "text/plain": [
       "{'自己開示': 0.61384344,\n",
       " '質問(YesNo)': 0.0150091825,\n",
       " '質問(What)': 0.0062495926,\n",
       " '応答(YesNo)': 0.0030195417,\n",
       " '応答(平叙)': 0.2923636,\n",
       " 'あいづち': 0.0050599575,\n",
       " 'フィラー': 0.016880311,\n",
       " '確認': 0.025651598,\n",
       " '要求': 0.0053473846,\n",
       " '共感': 0.016575359}"
      ]
     },
     "execution_count": 33,
     "metadata": {},
     "output_type": "execute_result"
    }
   ],
   "source": [
    "def np_softmax(x):\n",
    "    f_x = np.exp(x) / np.sum(np.exp(x))\n",
    "    return f_x\n",
    "\n",
    "#def analyze_emotion(text, show_fig=False, ret_prob=False):\n",
    "def analyze_emotion(text1, text2):\n",
    "    # 推論モードを有効か\n",
    "    model.eval()\n",
    "\n",
    "    # 入力データ変換 + 推論\n",
    "    tokens = tokenizer(text1, text2, truncation=True, return_tensors=\"pt\")\n",
    "    tokens.to(model.device)\n",
    "    preds = model(**tokens)\n",
    "    #print(preds)\n",
    "    prob = np_softmax(preds.logits.cpu().detach().numpy()[0])\n",
    "    out_dict = {n: p for n, p in zip(dialogue_labels, prob)}\n",
    "    \n",
    "    \n",
    "\n",
    "    # 棒グラフを描画\n",
    "    #if show_fig:\n",
    "        #plt.figure(figsize=(8, 3))\n",
    "        #df = pd.DataFrame(out_dict.items(), columns=['name', 'prob'])\n",
    "        #sns.barplot(x='name', y='prob', data=df)\n",
    "        #plt.title('入力文 : ' + text, fontsize=15)\n",
    "\n",
    "    #if ret_prob:\n",
    "        #return out_dict\n",
    "    return out_dict\n",
    "\n",
    "# 動作確認\n",
    "analyze_emotion(\"そうなの！チラッと見たら全然移りが違うの。真剣な表情くっきり！\",\"Aも買っちゃえば？高いかもしれないけど\")"
   ]
  },
  {
   "cell_type": "code",
   "execution_count": 35,
   "id": "81b14223-df77-4448-b3ef-233bdb776143",
   "metadata": {},
   "outputs": [
    {
     "data": {
      "text/plain": [
       "<Figure size 640x480 with 0 Axes>"
      ]
     },
     "metadata": {},
     "output_type": "display_data"
    },
    {
     "data": {
      "image/png": "[encoded data removed]",
      "text/plain": [
       "<Figure size 1000x1000 with 1 Axes>"
      ]
     },
     "metadata": {},
     "output_type": "display_data"
    }
   ],
   "source": [
    "import numpy as np\n",
    "import matplotlib.pyplot as plt\n",
    "from sklearn.metrics import ConfusionMatrixDisplay, confusion_matrix\n",
    "fig=plt.figure()\n",
    "\n",
    "y_preds = np.argmax(pred_result.predictions, axis=1)\n",
    "dk = pd.DataFrame(y_preds)\n",
    "y_test = np.array(test_tokenized_dataset[\"labels\"])\n",
    "dk2 = pd.DataFrame(y_test)\n",
    "labels = ['Self-disclosure', 'question(YesNo)', 'question(What)', 'response(YesNo)', \n",
    "                   'response(Declarative)', 'Backchannel', ' Filler', 'Confirmation', 'Request',\"empathcy\"]\n",
    "\n",
    "def plot_confusion_matrix(y_preds, y_true, labels):\n",
    "    cm = confusion_matrix(y_true, y_preds, normalize=\"true\")\n",
    "    fig, ax = plt.subplots(figsize=(10, 10))\n",
    "    disp = ConfusionMatrixDisplay(confusion_matrix=cm, display_labels=labels)\n",
    "    disp.plot(cmap=\"Blues\", values_format=\".2f\", ax=ax, colorbar=False)\n",
    "    ax.xaxis.set_tick_params(labelsize=10)\n",
    "    ax.yaxis.set_tick_params(labelsize=10)\n",
    "\n",
    "    plt.yticks(fontsize=10)\n",
    "    \n",
    "    plt.xticks(rotation=20, fontsize = 10)\n",
    "    plt.title(\"Normalized confusion matrix\", fontsize = 10)\n",
    "    plt.show()\n",
    "    fig.savefig(f\"Normalized confusion matrix_weight.png\")\n",
    "\n",
    "plot_confusion_matrix(y_preds, y_test, labels)\n",
    "\n",
    "\n",
    "\n",
    "\n"
   ]
  },
  {
   "cell_type": "code",
   "execution_count": 77,
   "id": "701ef901-2f7b-4ff7-8d9b-41668dc504ab",
   "metadata": {},
   "outputs": [
    {
     "name": "stdout",
     "output_type": "stream",
     "text": [
      "1236\n",
      "248\n",
      "121\n",
      "87\n",
      "302\n",
      "437\n",
      "60\n",
      "64\n",
      "29\n"
     ]
    }
   ],
   "source": [
    "#data = pd.concat([dk, dk2], axis = 1)\n",
    "dk.columns = ['label']\n",
    "dk2.columns = ['label']\n",
    "print(len(dk[dk[\"label\"] == 0]))\n",
    "print(len(dk[dk[\"label\"] == 1]))\n",
    "print(len(dk[dk[\"label\"] == 2]))\n",
    "print(len(dk[dk[\"label\"] == 3]))\n",
    "print(len(dk[dk[\"label\"] == 4]))\n",
    "print(len(dk[dk[\"label\"] == 5]))\n",
    "print(len(dk[dk[\"label\"] == 6]))\n",
    "print(len(dk[dk[\"label\"] == 7]))\n",
    "print(len(dk[dk[\"label\"] == 8]))"
   ]
  },
  {
   "cell_type": "code",
   "execution_count": 40,
   "id": "3f831a59-8c9a-4617-bfdb-f59ab707ed79",
   "metadata": {},
   "outputs": [],
   "source": [
    "#data.to_csv(\"kyoukanreituika.csv\", index = False, encoding = \"UTF-8\")"
   ]
  },
  {
   "cell_type": "code",
   "execution_count": 78,
   "id": "7ac14824-8208-4925-9a87-dff1ddc55522",
   "metadata": {},
   "outputs": [
    {
     "name": "stdout",
     "output_type": "stream",
     "text": [
      "1187\n",
      "192\n",
      "130\n",
      "97\n",
      "344\n",
      "390\n",
      "95\n",
      "128\n",
      "21\n"
     ]
    }
   ],
   "source": [
    "print(len(dk2[dk2[\"label\"] == 0]))\n",
    "print(len(dk2[dk2[\"label\"] == 1]))\n",
    "print(len(dk2[dk2[\"label\"] == 2]))\n",
    "print(len(dk2[dk2[\"label\"] == 3]))\n",
    "print(len(dk2[dk2[\"label\"] == 4]))\n",
    "print(len(dk2[dk2[\"label\"] == 5]))\n",
    "print(len(dk2[dk2[\"label\"] == 6]))\n",
    "print(len(dk2[dk2[\"label\"] == 7]))\n",
    "print(len(dk2[dk2[\"label\"] == 8]))"
   ]
  },
  {
   "cell_type": "code",
   "execution_count": null,
   "id": "e9d20d38-4edf-4bac-b748-d87487ec82e6",
   "metadata": {},
   "outputs": [],
   "source": []
  }
 ],
 "metadata": {
  "kernelspec": {
   "display_name": "Python 3 (ipykernel)",
   "language": "python",
   "name": "python3"
  },
  "language_info": {
   "codemirror_mode": {
    "name": "ipython",
    "version": 3
   },
   "file_extension": ".py",
   "mimetype": "text/x-python",
   "name": "python",
   "nbconvert_exporter": "python",
   "pygments_lexer": "ipython3",
   "version": "3.8.10"
  }
 },
 "nbformat": 4,
 "nbformat_minor": 5
}
