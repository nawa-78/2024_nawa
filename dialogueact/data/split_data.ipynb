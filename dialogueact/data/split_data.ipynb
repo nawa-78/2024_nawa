{
 "cells": [
  {
   "cell_type": "code",
   "execution_count": 1,
   "id": "42c84ac8-be74-4e04-b594-7c04e29eac00",
   "metadata": {},
   "outputs": [],
   "source": [
    "import pandas as pd\n",
    "from sklearn.model_selection import train_test_split\n",
    "\n",
    "df = pd.read_excel(\"ketugou_hajime_all.xlsx\",engine = \"openpyxl\")\n",
    "# df = pd.read_excel(\"taiwakoui_saigo.xlsx\",engine = \"openpyxl\")    \n",
    "x = df\n",
    "# 訓練データとバリデーションデータの分割\n",
    "x_train, x_val = train_test_split(x, test_size=0.2, random_state=42)\n",
    "\n",
    "x_train.to_excel(\"dialogueact_data_train.xlsx\", index = False, encoding='utf-8')\n",
    "x_val.to_excel(\"dialogueact_data_val.xlsx\", index = False, encoding='utf-8')"
   ]
  },
  {
   "cell_type": "code",
   "execution_count": 9,
   "id": "04251241-4535-406f-a28c-a33589f0754b",
   "metadata": {},
   "outputs": [
    {
     "name": "stdout",
     "output_type": "stream",
     "text": [
      "25830\n"
     ]
    }
   ],
   "source": [
    "df = pd.read_excel(\"ketugou_all.xlsx\",engine = \"openpyxl\")\n",
    "a = df[\"発話者\"]\n",
    "print(len(a))"
   ]
  },
  {
   "cell_type": "code",
   "execution_count": 2,
   "id": "a0c1773d-ccd3-4284-96b6-e6c657eb56fc",
   "metadata": {},
   "outputs": [],
   "source": [
    "import pandas as pd\n",
    "from sklearn.model_selection import train_test_split\n",
    "\n",
    "df1 = pd.read_excel(\"dialogueact_data_val.xlsx\",engine = \"openpyxl\")\n",
    "    \n",
    "x = df1\n",
    "# 訓練データとバリデーションデータの分割\n",
    "x_train, x_val = train_test_split(x, test_size=0.5, random_state=42)\n",
    "\n",
    "x_train.to_excel(\"dialogueact_data_val.xlsx\", index = False, encoding='utf-8')\n",
    "x_val.to_excel(\"dialogueact_data_test.xlsx\", index = False, encoding='utf-8')"
   ]
  },
  {
   "cell_type": "code",
   "execution_count": 3,
   "id": "d92f853d-8cf0-4dd0-8968-6927b9b89d14",
   "metadata": {},
   "outputs": [],
   "source": [
    "import pandas as pd\n",
    "from sklearn.model_selection import train_test_split\n",
    "\n",
    "#df = pd.read_excel(\"ketugou_hajime_all.xlsx\",engine = \"openpyxl\")\n",
    "df = pd.read_excel(\"taiwakoui_saigo.xlsx\",engine = \"openpyxl\")    \n",
    "x = df\n",
    "\n",
    "# 訓練データとバリデーションデータの分割\n",
    "x_train, x_val = train_test_split(x, test_size=0.2, random_state=42)\n",
    "\n",
    "y = x_val\n",
    "\n",
    "y_val, y_test = train_test_split(y, test_size=0.5, random_state=42)\n",
    "\n",
    "x_train.to_excel(\"2_dialogueact_data_train.xlsx\", index = False, encoding='utf-8')\n",
    "y_val.to_excel(\"2_dialogueact_data_val.xlsx\", index = False, encoding='utf-8')\n",
    "y_test.to_excel(\"2_dialogueact_data_test.xlsx\", index = False, encoding='utf-8')\n",
    "# x_val.to_excel(\"dialogueact_data_val.xlsx\", index = False, encoding='utf-8')"
   ]
  },
  {
   "cell_type": "code",
   "execution_count": null,
   "id": "4d9b083b-2069-4d27-ae0f-6a1d13cdd65b",
   "metadata": {},
   "outputs": [],
   "source": []
  }
 ],
 "metadata": {
  "kernelspec": {
   "display_name": "Python 3 (ipykernel)",
   "language": "python",
   "name": "python3"
  },
  "language_info": {
   "codemirror_mode": {
    "name": "ipython",
    "version": 3
   },
   "file_extension": ".py",
   "mimetype": "text/x-python",
   "name": "python",
   "nbconvert_exporter": "python",
   "pygments_lexer": "ipython3",
   "version": "3.8.10"
  }
 },
 "nbformat": 4,
 "nbformat_minor": 5
}
