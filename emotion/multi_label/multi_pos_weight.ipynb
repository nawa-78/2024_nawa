{
 "cells": [
  {
   "cell_type": "code",
   "execution_count": 2,
   "id": "f75f9ee2-fda7-43b4-a59c-1b5d5fe03918",
   "metadata": {},
   "outputs": [
    {
     "data": {
      "text/html": [
       "<div>\n",
       "<style scoped>\n",
       "    .dataframe tbody tr th:only-of-type {\n",
       "        vertical-align: middle;\n",
       "    }\n",
       "\n",
       "    .dataframe tbody tr th {\n",
       "        vertical-align: top;\n",
       "    }\n",
       "\n",
       "    .dataframe thead th {\n",
       "        text-align: right;\n",
       "    }\n",
       "</style>\n",
       "<table border=\"1\" class=\"dataframe\">\n",
       "  <thead>\n",
       "    <tr style=\"text-align: right;\">\n",
       "      <th></th>\n",
       "      <th>Sentence</th>\n",
       "      <th>UserID</th>\n",
       "      <th>Train/Dev/Test</th>\n",
       "      <th>Writer_Joy</th>\n",
       "      <th>Writer_Sadness</th>\n",
       "      <th>Writer_Anticipation</th>\n",
       "      <th>Writer_Surprise</th>\n",
       "      <th>Writer_Anger</th>\n",
       "      <th>Writer_Fear</th>\n",
       "      <th>Writer_Disgust</th>\n",
       "      <th>Writer_Trust</th>\n",
       "    </tr>\n",
       "  </thead>\n",
       "  <tbody>\n",
       "    <tr>\n",
       "      <th>0</th>\n",
       "      <td>ぼけっとしてたらこんな時間｡チャリあるから食べにでたいのに…</td>\n",
       "      <td>1</td>\n",
       "      <td>train</td>\n",
       "      <td>0</td>\n",
       "      <td>0</td>\n",
       "      <td>1</td>\n",
       "      <td>0</td>\n",
       "      <td>0</td>\n",
       "      <td>0</td>\n",
       "      <td>0</td>\n",
       "      <td>0</td>\n",
       "    </tr>\n",
       "    <tr>\n",
       "      <th>1</th>\n",
       "      <td>今日の月も白くて明るい。昨日より雲が少なくてキレイな? と立ち止まる帰り道｡チャリなし生活も...</td>\n",
       "      <td>1</td>\n",
       "      <td>train</td>\n",
       "      <td>1</td>\n",
       "      <td>0</td>\n",
       "      <td>1</td>\n",
       "      <td>0</td>\n",
       "      <td>0</td>\n",
       "      <td>0</td>\n",
       "      <td>0</td>\n",
       "      <td>1</td>\n",
       "    </tr>\n",
       "    <tr>\n",
       "      <th>2</th>\n",
       "      <td>早寝するつもりが飲み物がなくなりコンビニへ｡ん､今日、風が涼しいな。</td>\n",
       "      <td>1</td>\n",
       "      <td>train</td>\n",
       "      <td>0</td>\n",
       "      <td>0</td>\n",
       "      <td>0</td>\n",
       "      <td>0</td>\n",
       "      <td>0</td>\n",
       "      <td>0</td>\n",
       "      <td>0</td>\n",
       "      <td>1</td>\n",
       "    </tr>\n",
       "    <tr>\n",
       "      <th>3</th>\n",
       "      <td>眠い、眠れない。</td>\n",
       "      <td>1</td>\n",
       "      <td>train</td>\n",
       "      <td>0</td>\n",
       "      <td>1</td>\n",
       "      <td>0</td>\n",
       "      <td>0</td>\n",
       "      <td>0</td>\n",
       "      <td>0</td>\n",
       "      <td>0</td>\n",
       "      <td>0</td>\n",
       "    </tr>\n",
       "    <tr>\n",
       "      <th>4</th>\n",
       "      <td>ただいま? って新体操してるやん!外食する気満々で家に何もないのに!テレビから離れられない…!</td>\n",
       "      <td>1</td>\n",
       "      <td>train</td>\n",
       "      <td>0</td>\n",
       "      <td>0</td>\n",
       "      <td>1</td>\n",
       "      <td>0</td>\n",
       "      <td>0</td>\n",
       "      <td>0</td>\n",
       "      <td>0</td>\n",
       "      <td>0</td>\n",
       "    </tr>\n",
       "    <tr>\n",
       "      <th>...</th>\n",
       "      <td>...</td>\n",
       "      <td>...</td>\n",
       "      <td>...</td>\n",
       "      <td>...</td>\n",
       "      <td>...</td>\n",
       "      <td>...</td>\n",
       "      <td>...</td>\n",
       "      <td>...</td>\n",
       "      <td>...</td>\n",
       "      <td>...</td>\n",
       "      <td>...</td>\n",
       "    </tr>\n",
       "    <tr>\n",
       "      <th>43195</th>\n",
       "      <td>真夜中にふと思い立ち、ノートPCを持って部屋を出て、ダイニングで仕事したらすんごい捗った。\\...</td>\n",
       "      <td>80</td>\n",
       "      <td>train</td>\n",
       "      <td>0</td>\n",
       "      <td>0</td>\n",
       "      <td>1</td>\n",
       "      <td>0</td>\n",
       "      <td>0</td>\n",
       "      <td>0</td>\n",
       "      <td>0</td>\n",
       "      <td>1</td>\n",
       "    </tr>\n",
       "    <tr>\n",
       "      <th>43196</th>\n",
       "      <td>ぐっどこんでぃしょん。\\n心も頭もクリア。\\n秋分の日のおかげかな？\\n人と自然としっとり過...</td>\n",
       "      <td>80</td>\n",
       "      <td>train</td>\n",
       "      <td>0</td>\n",
       "      <td>0</td>\n",
       "      <td>0</td>\n",
       "      <td>0</td>\n",
       "      <td>0</td>\n",
       "      <td>0</td>\n",
       "      <td>0</td>\n",
       "      <td>1</td>\n",
       "    </tr>\n",
       "    <tr>\n",
       "      <th>43197</th>\n",
       "      <td>朝から免許の更新へ。\\n90分で終わり、出口へ向かうと献血の呼びかけが。\\nみんな通り過ぎて...</td>\n",
       "      <td>80</td>\n",
       "      <td>train</td>\n",
       "      <td>1</td>\n",
       "      <td>0</td>\n",
       "      <td>1</td>\n",
       "      <td>0</td>\n",
       "      <td>0</td>\n",
       "      <td>0</td>\n",
       "      <td>0</td>\n",
       "      <td>1</td>\n",
       "    </tr>\n",
       "    <tr>\n",
       "      <th>43198</th>\n",
       "      <td>夜も更けて参りましたが、食後のコーヒーが飲みたいのでドリップ開始…\\n\\nぼんやり秋の夜長を...</td>\n",
       "      <td>80</td>\n",
       "      <td>train</td>\n",
       "      <td>1</td>\n",
       "      <td>0</td>\n",
       "      <td>0</td>\n",
       "      <td>0</td>\n",
       "      <td>0</td>\n",
       "      <td>0</td>\n",
       "      <td>0</td>\n",
       "      <td>0</td>\n",
       "    </tr>\n",
       "    <tr>\n",
       "      <th>43199</th>\n",
       "      <td>コーヒー休憩（kahavitauko）\\n\\nいつもの豆なのにすごく美味しくできた \\n\\n...</td>\n",
       "      <td>80</td>\n",
       "      <td>train</td>\n",
       "      <td>1</td>\n",
       "      <td>0</td>\n",
       "      <td>0</td>\n",
       "      <td>0</td>\n",
       "      <td>0</td>\n",
       "      <td>0</td>\n",
       "      <td>0</td>\n",
       "      <td>0</td>\n",
       "    </tr>\n",
       "  </tbody>\n",
       "</table>\n",
       "<p>43200 rows × 11 columns</p>\n",
       "</div>"
      ],
      "text/plain": [
       "                                                Sentence  UserID  \\\n",
       "0                         ぼけっとしてたらこんな時間｡チャリあるから食べにでたいのに…       1   \n",
       "1      今日の月も白くて明るい。昨日より雲が少なくてキレイな? と立ち止まる帰り道｡チャリなし生活も...       1   \n",
       "2                     早寝するつもりが飲み物がなくなりコンビニへ｡ん､今日、風が涼しいな。       1   \n",
       "3                                               眠い、眠れない。       1   \n",
       "4        ただいま? って新体操してるやん!外食する気満々で家に何もないのに!テレビから離れられない…!       1   \n",
       "...                                                  ...     ...   \n",
       "43195  真夜中にふと思い立ち、ノートPCを持って部屋を出て、ダイニングで仕事したらすんごい捗った。\\...      80   \n",
       "43196  ぐっどこんでぃしょん。\\n心も頭もクリア。\\n秋分の日のおかげかな？\\n人と自然としっとり過...      80   \n",
       "43197  朝から免許の更新へ。\\n90分で終わり、出口へ向かうと献血の呼びかけが。\\nみんな通り過ぎて...      80   \n",
       "43198  夜も更けて参りましたが、食後のコーヒーが飲みたいのでドリップ開始…\\n\\nぼんやり秋の夜長を...      80   \n",
       "43199  コーヒー休憩（kahavitauko）\\n\\nいつもの豆なのにすごく美味しくできた \\n\\n...      80   \n",
       "\n",
       "      Train/Dev/Test  Writer_Joy  Writer_Sadness  Writer_Anticipation  \\\n",
       "0              train           0               0                    1   \n",
       "1              train           1               0                    1   \n",
       "2              train           0               0                    0   \n",
       "3              train           0               1                    0   \n",
       "4              train           0               0                    1   \n",
       "...              ...         ...             ...                  ...   \n",
       "43195          train           0               0                    1   \n",
       "43196          train           0               0                    0   \n",
       "43197          train           1               0                    1   \n",
       "43198          train           1               0                    0   \n",
       "43199          train           1               0                    0   \n",
       "\n",
       "       Writer_Surprise  Writer_Anger  Writer_Fear  Writer_Disgust  \\\n",
       "0                    0             0            0               0   \n",
       "1                    0             0            0               0   \n",
       "2                    0             0            0               0   \n",
       "3                    0             0            0               0   \n",
       "4                    0             0            0               0   \n",
       "...                ...           ...          ...             ...   \n",
       "43195                0             0            0               0   \n",
       "43196                0             0            0               0   \n",
       "43197                0             0            0               0   \n",
       "43198                0             0            0               0   \n",
       "43199                0             0            0               0   \n",
       "\n",
       "       Writer_Trust  \n",
       "0                 0  \n",
       "1                 1  \n",
       "2                 1  \n",
       "3                 0  \n",
       "4                 0  \n",
       "...             ...  \n",
       "43195             1  \n",
       "43196             1  \n",
       "43197             1  \n",
       "43198             0  \n",
       "43199             0  \n",
       "\n",
       "[43200 rows x 11 columns]"
      ]
     },
     "execution_count": 2,
     "metadata": {},
     "output_type": "execute_result"
    }
   ],
   "source": [
    "import pandas as pd\n",
    "df = pd.read_excel(\"wrime3.xlsx\",engine = \"openpyxl\")\n",
    "df"
   ]
  },
  {
   "cell_type": "code",
   "execution_count": 3,
   "id": "21514736-74bd-4c38-aa7d-d283c7285706",
   "metadata": {},
   "outputs": [
    {
     "name": "stdout",
     "output_type": "stream",
     "text": [
      "Thu Jan 11 10:04:13 2024       \n",
      "+-----------------------------------------------------------------------------+\n",
      "| NVIDIA-SMI 470.129.06   Driver Version: 470.129.06   CUDA Version: 11.4     |\n",
      "|-------------------------------+----------------------+----------------------+\n",
      "| GPU  Name        Persistence-M| Bus-Id        Disp.A | Volatile Uncorr. ECC |\n",
      "| Fan  Temp  Perf  Pwr:Usage/Cap|         Memory-Usage | GPU-Util  Compute M. |\n",
      "|                               |                      |               MIG M. |\n",
      "|===============================+======================+======================|\n",
      "|   0  NVIDIA GeForce ...  Off  | 00000000:01:00.0 Off |                  N/A |\n",
      "|  0%   37C    P8    21W / 350W |   1086MiB / 24234MiB |      0%      Default |\n",
      "|                               |                      |                  N/A |\n",
      "+-------------------------------+----------------------+----------------------+\n",
      "                                                                               \n",
      "+-----------------------------------------------------------------------------+\n",
      "| Processes:                                                                  |\n",
      "|  GPU   GI   CI        PID   Type   Process name                  GPU Memory |\n",
      "|        ID   ID                                                   Usage      |\n",
      "|=============================================================================|\n",
      "+-----------------------------------------------------------------------------+\n"
     ]
    }
   ],
   "source": [
    "!nvidia-smi"
   ]
  },
  {
   "cell_type": "code",
   "execution_count": 4,
   "id": "2a87b1c2-366c-4046-ac09-33535e8933e4",
   "metadata": {},
   "outputs": [
    {
     "data": {
      "text/plain": [
       "40000"
      ]
     },
     "execution_count": 4,
     "metadata": {},
     "output_type": "execute_result"
    }
   ],
   "source": [
    "df_train = df[(df[\"Train/Dev/Test\"] == \"train\")]\n",
    "\n",
    "train_docs = df_train[\"Sentence\"].tolist()\n",
    "\n",
    "train_label1= df_train[\"Writer_Joy\"].astype(float).tolist()\n",
    "train_label2 = df_train[\"Writer_Sadness\"].astype(float).tolist()\n",
    "train_label3 = df_train[\"Writer_Anticipation\"].astype(float).tolist()\n",
    "train_label4 = df_train[\"Writer_Surprise\"].astype(float).tolist()\n",
    "train_label5 = df_train[\"Writer_Anger\"].astype(float).tolist()\n",
    "train_label6 = df_train[\"Writer_Fear\"].astype(float).tolist()\n",
    "train_label7 = df_train[\"Writer_Disgust\"].astype(float).tolist()\n",
    "train_label8 = df_train[\"Writer_Trust\"].astype(float).tolist()\n",
    "\n",
    "#train_labels=[train_label1, train_label2, train_label3, train_label4, train_label5, train_label6,  train_label7, train_label8]\n",
    "\n",
    "len(train_docs)\n",
    "#print(train_labels)\n"
   ]
  },
  {
   "cell_type": "code",
   "execution_count": 5,
   "id": "233fad95-7359-4a26-89e3-3703ed623334",
   "metadata": {},
   "outputs": [
    {
     "name": "stderr",
     "output_type": "stream",
     "text": [
      "/tmp/ipykernel_444/2337528815.py:3: SettingWithCopyWarning: \n",
      "A value is trying to be set on a copy of a slice from a DataFrame.\n",
      "Try using .loc[row_indexer,col_indexer] = value instead\n",
      "\n",
      "See the caveats in the documentation: https://pandas.pydata.org/pandas-docs/stable/user_guide/indexing.html#returning-a-view-versus-a-copy\n",
      "  df_train[\"labels\"] = train_labels\n"
     ]
    }
   ],
   "source": [
    "train_labels = df_train[['Writer_Joy', 'Writer_Sadness', 'Writer_Anticipation', 'Writer_Surprise', \n",
    "          'Writer_Anger', 'Writer_Fear', 'Writer_Disgust', 'Writer_Trust']].values.astype(float).tolist()\n",
    "df_train[\"labels\"] = train_labels\n",
    "#df_train"
   ]
  },
  {
   "cell_type": "code",
   "execution_count": 6,
   "id": "8df96e1e-8c5b-410e-b2fe-d223f8ebd0e7",
   "metadata": {},
   "outputs": [
    {
     "data": {
      "text/plain": [
       "1200"
      ]
     },
     "execution_count": 6,
     "metadata": {},
     "output_type": "execute_result"
    }
   ],
   "source": [
    "df_dev = df[(df[\"Train/Dev/Test\"] == \"dev\")]\n",
    "\n",
    "dev_docs = df_dev[\"Sentence\"].tolist()\n",
    "\n",
    "dev_label1 = df_dev[\"Writer_Joy\"].astype(float).tolist()\n",
    "dev_label2 = df_dev[\"Writer_Sadness\"].astype(float).tolist()\n",
    "dev_label3 = df_dev[\"Writer_Anticipation\"].astype(float).tolist()\n",
    "dev_label4 = df_dev[\"Writer_Surprise\"].astype(float).tolist()\n",
    "dev_label5 = df_dev[\"Writer_Anger\"].astype(float).tolist()\n",
    "dev_label6 = df_dev[\"Writer_Fear\"].astype(float).tolist()\n",
    "dev_label7 = df_dev[\"Writer_Disgust\"].astype(float).tolist()\n",
    "dev_label8 = df_dev[\"Writer_Trust\"].astype(float).tolist()\n",
    "\n",
    "#train_labels=[train_label1, train_label2, train_label3, train_label4, train_label5, train_label6,  train_label7, train_label8]\n",
    "\n",
    "len(dev_docs)"
   ]
  },
  {
   "cell_type": "code",
   "execution_count": 7,
   "id": "a603852d-af2f-4e7c-b482-7b19ee5e6b20",
   "metadata": {},
   "outputs": [
    {
     "name": "stderr",
     "output_type": "stream",
     "text": [
      "/tmp/ipykernel_444/802474628.py:3: SettingWithCopyWarning: \n",
      "A value is trying to be set on a copy of a slice from a DataFrame.\n",
      "Try using .loc[row_indexer,col_indexer] = value instead\n",
      "\n",
      "See the caveats in the documentation: https://pandas.pydata.org/pandas-docs/stable/user_guide/indexing.html#returning-a-view-versus-a-copy\n",
      "  df_dev[\"labels\"] = dev_labels\n"
     ]
    }
   ],
   "source": [
    "dev_labels = df_dev[['Writer_Joy', 'Writer_Sadness', 'Writer_Anticipation', 'Writer_Surprise', \n",
    "          'Writer_Anger', 'Writer_Fear', 'Writer_Disgust', 'Writer_Trust']].values.astype(float).tolist()\n",
    "df_dev[\"labels\"] = dev_labels"
   ]
  },
  {
   "cell_type": "code",
   "execution_count": 8,
   "id": "fd30e45a-3ee5-4aef-adda-e18700f456d4",
   "metadata": {},
   "outputs": [
    {
     "data": {
      "text/plain": [
       "2000"
      ]
     },
     "execution_count": 8,
     "metadata": {},
     "output_type": "execute_result"
    }
   ],
   "source": [
    "df_test = df[(df[\"Train/Dev/Test\"] == \"test\")]\n",
    "\n",
    "test_docs = df_test[\"Sentence\"].tolist()\n",
    "\n",
    "test_label1 = df_test[\"Writer_Joy\"].astype(float).tolist()\n",
    "test_label2 = df_test[\"Writer_Sadness\"].astype(float).tolist()\n",
    "test_label3 = df_test[\"Writer_Anticipation\"].astype(float).tolist()\n",
    "test_label4 = df_test[\"Writer_Surprise\"].astype(float).tolist()\n",
    "test_label5 = df_test[\"Writer_Anger\"].astype(float).tolist()\n",
    "test_label6 = df_test[\"Writer_Fear\"].astype(float).tolist()\n",
    "test_label7 = df_test[\"Writer_Disgust\"].astype(float).tolist()\n",
    "test_label8 = df_test[\"Writer_Trust\"].astype(float).tolist()\n",
    "\n",
    "#test_labels=[test_label1, test_label2, test_label3, test_label4, test_label5, test_label6, test_label7, test_label8]\n",
    "\n",
    "\n",
    "\n",
    "len(test_docs)\n",
    "#print(test_labels)"
   ]
  },
  {
   "cell_type": "code",
   "execution_count": 9,
   "id": "6d1516ac-1777-47e4-97d1-7aeefa86c49e",
   "metadata": {},
   "outputs": [
    {
     "name": "stderr",
     "output_type": "stream",
     "text": [
      "/tmp/ipykernel_444/3946297089.py:5: SettingWithCopyWarning: \n",
      "A value is trying to be set on a copy of a slice from a DataFrame.\n",
      "Try using .loc[row_indexer,col_indexer] = value instead\n",
      "\n",
      "See the caveats in the documentation: https://pandas.pydata.org/pandas-docs/stable/user_guide/indexing.html#returning-a-view-versus-a-copy\n",
      "  df_test[\"labels\"] = test_labels\n"
     ]
    },
    {
     "data": {
      "text/plain": [
       "24900    [0.0, 0.0, 0.0, 1.0, 0.0, 0.0, 0.0, 0.0]\n",
       "24901    [0.0, 1.0, 0.0, 1.0, 0.0, 1.0, 0.0, 0.0]\n",
       "24902    [1.0, 0.0, 1.0, 0.0, 0.0, 0.0, 0.0, 0.0]\n",
       "24903    [0.0, 1.0, 0.0, 0.0, 0.0, 0.0, 0.0, 0.0]\n",
       "24904    [0.0, 0.0, 0.0, 1.0, 0.0, 0.0, 0.0, 0.0]\n",
       "                           ...                   \n",
       "40795    [1.0, 0.0, 0.0, 0.0, 0.0, 0.0, 0.0, 0.0]\n",
       "40796    [1.0, 0.0, 0.0, 0.0, 0.0, 0.0, 0.0, 1.0]\n",
       "40797    [1.0, 0.0, 0.0, 0.0, 0.0, 0.0, 0.0, 1.0]\n",
       "40798    [0.0, 0.0, 0.0, 0.0, 0.0, 0.0, 1.0, 0.0]\n",
       "40799    [0.0, 0.0, 1.0, 0.0, 0.0, 0.0, 0.0, 0.0]\n",
       "Name: labels, Length: 2000, dtype: object"
      ]
     },
     "execution_count": 9,
     "metadata": {},
     "output_type": "execute_result"
    }
   ],
   "source": [
    "test_labels = df_test[['Writer_Joy', 'Writer_Sadness', 'Writer_Anticipation', 'Writer_Surprise', \n",
    "          'Writer_Anger', 'Writer_Fear', 'Writer_Disgust', 'Writer_Trust']].values.astype(float).tolist()\n",
    "#test_labels\n",
    "#test_labels = torch.tensor(test_labels)\n",
    "df_test[\"labels\"] = test_labels\n",
    "\n",
    "df_test[\"labels\"]"
   ]
  },
  {
   "cell_type": "code",
   "execution_count": 10,
   "id": "520dcd75-5b3b-4cb8-a8ea-e37811e7fb04",
   "metadata": {},
   "outputs": [
    {
     "name": "stdout",
     "output_type": "stream",
     "text": [
      "Requirement already satisfied: transformers in /usr/local/lib/python3.8/dist-packages (4.30.2)\n",
      "Requirement already satisfied: datasets in /usr/local/lib/python3.8/dist-packages (2.4.0)\n",
      "Requirement already satisfied: packaging>=20.0 in /usr/local/lib/python3.8/dist-packages (from transformers) (21.3)\n",
      "Requirement already satisfied: huggingface-hub<1.0,>=0.14.1 in /usr/local/lib/python3.8/dist-packages (from transformers) (0.14.1)\n",
      "Requirement already satisfied: regex!=2019.12.17 in /usr/local/lib/python3.8/dist-packages (from transformers) (2022.8.17)\n",
      "Requirement already satisfied: pyyaml>=5.1 in /usr/local/lib/python3.8/dist-packages (from transformers) (5.4.1)\n",
      "Requirement already satisfied: tqdm>=4.27 in /usr/local/lib/python3.8/dist-packages (from transformers) (4.66.1)\n",
      "Requirement already satisfied: filelock in /usr/local/lib/python3.8/dist-packages (from transformers) (3.8.0)\n",
      "Requirement already satisfied: tokenizers!=0.11.3,<0.14,>=0.11.1 in /usr/local/lib/python3.8/dist-packages (from transformers) (0.13.3)\n",
      "Requirement already satisfied: numpy>=1.17 in /usr/local/lib/python3.8/dist-packages (from transformers) (1.22.4)\n",
      "Requirement already satisfied: safetensors>=0.3.1 in /usr/local/lib/python3.8/dist-packages (from transformers) (0.3.1)\n",
      "Requirement already satisfied: requests in /usr/local/lib/python3.8/dist-packages (from transformers) (2.28.1)\n",
      "Requirement already satisfied: responses<0.19 in /usr/local/lib/python3.8/dist-packages (from datasets) (0.18.0)\n",
      "Requirement already satisfied: dill<0.3.6 in /usr/local/lib/python3.8/dist-packages (from datasets) (0.3.4)\n",
      "Requirement already satisfied: multiprocess in /usr/local/lib/python3.8/dist-packages (from datasets) (0.70.12.2)\n",
      "Requirement already satisfied: xxhash in /usr/local/lib/python3.8/dist-packages (from datasets) (3.0.0)\n",
      "Requirement already satisfied: fsspec[http]>=2021.11.1 in /usr/local/lib/python3.8/dist-packages (from datasets) (2022.7.1)\n",
      "Requirement already satisfied: aiohttp in /usr/local/lib/python3.8/dist-packages (from datasets) (3.8.5)\n",
      "Requirement already satisfied: pyarrow>=6.0.0 in /usr/local/lib/python3.8/dist-packages (from datasets) (9.0.0)\n",
      "Requirement already satisfied: pandas in /usr/local/lib/python3.8/dist-packages (from datasets) (1.4.3)\n",
      "Requirement already satisfied: typing-extensions>=3.7.4.3 in /usr/local/lib/python3.8/dist-packages (from huggingface-hub<1.0,>=0.14.1->transformers) (4.7.1)\n",
      "Requirement already satisfied: pyparsing!=3.0.5,>=2.0.2 in /usr/local/lib/python3.8/dist-packages (from packaging>=20.0->transformers) (3.0.9)\n",
      "Requirement already satisfied: urllib3<1.27,>=1.21.1 in /usr/local/lib/python3.8/dist-packages (from requests->transformers) (1.26.11)\n",
      "Requirement already satisfied: certifi>=2017.4.17 in /usr/local/lib/python3.8/dist-packages (from requests->transformers) (2022.6.15)\n",
      "Requirement already satisfied: charset-normalizer<3,>=2 in /usr/local/lib/python3.8/dist-packages (from requests->transformers) (2.1.1)\n",
      "Requirement already satisfied: idna<4,>=2.5 in /usr/local/lib/python3.8/dist-packages (from requests->transformers) (3.3)\n",
      "Requirement already satisfied: async-timeout<5.0,>=4.0.0a3 in /usr/local/lib/python3.8/dist-packages (from aiohttp->datasets) (4.0.2)\n",
      "Requirement already satisfied: frozenlist>=1.1.1 in /usr/local/lib/python3.8/dist-packages (from aiohttp->datasets) (1.3.1)\n",
      "Requirement already satisfied: yarl<2.0,>=1.0 in /usr/local/lib/python3.8/dist-packages (from aiohttp->datasets) (1.8.1)\n",
      "Requirement already satisfied: aiosignal>=1.1.2 in /usr/local/lib/python3.8/dist-packages (from aiohttp->datasets) (1.2.0)\n",
      "Requirement already satisfied: attrs>=17.3.0 in /usr/local/lib/python3.8/dist-packages (from aiohttp->datasets) (22.1.0)\n",
      "Requirement already satisfied: multidict<7.0,>=4.5 in /usr/local/lib/python3.8/dist-packages (from aiohttp->datasets) (6.0.2)\n",
      "Requirement already satisfied: pytz>=2020.1 in /usr/local/lib/python3.8/dist-packages (from pandas->datasets) (2022.2.1)\n",
      "Requirement already satisfied: python-dateutil>=2.8.1 in /usr/local/lib/python3.8/dist-packages (from pandas->datasets) (2.8.2)\n",
      "Requirement already satisfied: six>=1.5 in /usr/local/lib/python3.8/dist-packages (from python-dateutil>=2.8.1->pandas->datasets) (1.16.0)\n",
      "\u001b[33mWARNING: Running pip as the 'root' user can result in broken permissions and conflicting behaviour with the system package manager. It is recommended to use a virtual environment instead: https://pip.pypa.io/warnings/venv\u001b[0m\u001b[33m\n",
      "\u001b[0m\n",
      "\u001b[1m[\u001b[0m\u001b[34;49mnotice\u001b[0m\u001b[1;39;49m]\u001b[0m\u001b[39;49m A new release of pip available: \u001b[0m\u001b[31;49m22.3.1\u001b[0m\u001b[39;49m -> \u001b[0m\u001b[32;49m23.3.2\u001b[0m\n",
      "\u001b[1m[\u001b[0m\u001b[34;49mnotice\u001b[0m\u001b[1;39;49m]\u001b[0m\u001b[39;49m To update, run: \u001b[0m\u001b[32;49mpython3 -m pip install --upgrade pip\u001b[0m\n",
      "Requirement already satisfied: fugashi in /usr/local/lib/python3.8/dist-packages (1.1.0)\n",
      "Requirement already satisfied: ipadic in /usr/local/lib/python3.8/dist-packages (1.0.0)\n",
      "\u001b[33mWARNING: Running pip as the 'root' user can result in broken permissions and conflicting behaviour with the system package manager. It is recommended to use a virtual environment instead: https://pip.pypa.io/warnings/venv\u001b[0m\u001b[33m\n",
      "\u001b[0m\n",
      "\u001b[1m[\u001b[0m\u001b[34;49mnotice\u001b[0m\u001b[1;39;49m]\u001b[0m\u001b[39;49m A new release of pip available: \u001b[0m\u001b[31;49m22.3.1\u001b[0m\u001b[39;49m -> \u001b[0m\u001b[32;49m23.3.2\u001b[0m\n",
      "\u001b[1m[\u001b[0m\u001b[34;49mnotice\u001b[0m\u001b[1;39;49m]\u001b[0m\u001b[39;49m To update, run: \u001b[0m\u001b[32;49mpython3 -m pip install --upgrade pip\u001b[0m\n"
     ]
    }
   ],
   "source": [
    "# HuggingFace Transformers のインストール\n",
    "# - transformers : 主たるモジュール（モデルやトークナイザ)\n",
    "# - datasets : HuggingFaceで、データセットを扱うためのモジュール\n",
    "# cf. https://huggingface.co/docs/transformers/installation\n",
    "! pip install transformers datasets\n",
    "\n",
    "# 東北大学の日本語用BERT使用に必要なパッケージをインストール\n",
    "! pip install fugashi ipadic\n"
   ]
  },
  {
   "cell_type": "code",
   "execution_count": 11,
   "id": "5613a4b1-7ffb-460d-b221-6ba04bb716ad",
   "metadata": {},
   "outputs": [
    {
     "name": "stderr",
     "output_type": "stream",
     "text": [
      "Some weights of the model checkpoint at cl-tohoku/bert-base-japanese-whole-word-masking were not used when initializing BertForSequenceClassification: ['cls.seq_relationship.bias', 'cls.predictions.transform.dense.bias', 'cls.predictions.bias', 'cls.seq_relationship.weight', 'cls.predictions.transform.LayerNorm.weight', 'cls.predictions.transform.LayerNorm.bias', 'cls.predictions.transform.dense.weight', 'cls.predictions.decoder.weight']\n",
      "- This IS expected if you are initializing BertForSequenceClassification from the checkpoint of a model trained on another task or with another architecture (e.g. initializing a BertForSequenceClassification model from a BertForPreTraining model).\n",
      "- This IS NOT expected if you are initializing BertForSequenceClassification from the checkpoint of a model that you expect to be exactly identical (initializing a BertForSequenceClassification model from a BertForSequenceClassification model).\n",
      "Some weights of BertForSequenceClassification were not initialized from the model checkpoint at cl-tohoku/bert-base-japanese-whole-word-masking and are newly initialized: ['classifier.weight', 'classifier.bias']\n",
      "You should probably TRAIN this model on a down-stream task to be able to use it for predictions and inference.\n"
     ]
    }
   ],
   "source": [
    "from transformers import AutoTokenizer, AutoModelForSequenceClassification\n",
    "\n",
    "# 使用するモデルを指定して、トークナイザとモデルを読み込む\n",
    "checkpoint = 'cl-tohoku/bert-base-japanese-whole-word-masking'\n",
    "tokenizer = AutoTokenizer.from_pretrained(checkpoint)\n",
    "model = AutoModelForSequenceClassification.from_pretrained(checkpoint, num_labels=8, problem_type=\"multi_label_classification\")\n"
   ]
  },
  {
   "cell_type": "code",
   "execution_count": null,
   "id": "fe33bb7f-b034-4185-a594-cb9081e04ceb",
   "metadata": {},
   "outputs": [],
   "source": []
  },
  {
   "cell_type": "code",
   "execution_count": 11,
   "id": "61204240-5274-416f-9d5c-e694bc07d526",
   "metadata": {},
   "outputs": [
    {
     "data": {
      "application/vnd.jupyter.widget-view+json": {
       "model_id": "74f4e0f66d834ed9bf533f5ff955dac3",
       "version_major": 2,
       "version_minor": 0
      },
      "text/plain": [
       "  0%|          | 0/40 [00:00<?, ?ba/s]"
      ]
     },
     "metadata": {},
     "output_type": "display_data"
    },
    {
     "data": {
      "application/vnd.jupyter.widget-view+json": {
       "model_id": "ba6de081280d479a88f18dc0612242d3",
       "version_major": 2,
       "version_minor": 0
      },
      "text/plain": [
       "  0%|          | 0/2 [00:00<?, ?ba/s]"
      ]
     },
     "metadata": {},
     "output_type": "display_data"
    },
    {
     "data": {
      "application/vnd.jupyter.widget-view+json": {
       "model_id": "cf0dbe47f13747c4a08e777c5722ac16",
       "version_major": 2,
       "version_minor": 0
      },
      "text/plain": [
       "  0%|          | 0/2 [00:00<?, ?ba/s]"
      ]
     },
     "metadata": {},
     "output_type": "display_data"
    }
   ],
   "source": [
    "from datasets import Dataset\n",
    "import torch\n",
    "# 1. Transformers用のデータセット形式に変換\n",
    "# pandas.DataFrame -> datasets.Dataset\n",
    "target_columns = ['Sentence', 'labels']\n",
    "train_dataset = Dataset.from_pandas(df_train[target_columns])\n",
    "dev_dataset = Dataset.from_pandas(df_dev[target_columns])\n",
    "test_dataset = Dataset.from_pandas(df_test[target_columns])\n",
    "# 2. Tokenizerを適用（モデル入力のための前処理）\n",
    "def tokenize_function(batch):\n",
    "    \"\"\"Tokenizerを適用 （感情強度の正規化も同時に実施する）.\"\"\"\n",
    "    tokenized_batch = tokenizer(batch['Sentence'], truncation=True, padding='max_length')\n",
    "    #tokenized_batch[\"labels\"] = torch.tensor(batch[\"labels\"])\n",
    "    return tokenized_batch\n",
    "\n",
    "\n",
    "train_tokenized_dataset = train_dataset.map(tokenize_function, batched=True)\n",
    "dev_tokenized_dataset = dev_dataset.map(tokenize_function, batched=True)\n",
    "test_tokenized_dataset = test_dataset.map(tokenize_function, batched=True)\n"
   ]
  },
  {
   "cell_type": "code",
   "execution_count": 12,
   "id": "9b9b41ba-7b10-46a4-baca-49612447bb32",
   "metadata": {},
   "outputs": [],
   "source": [
    "train_tokenized_dataset.set_format(\"torch\")\n",
    "dev_tokenized_dataset.set_format(\"torch\")\n",
    "test_tokenized_dataset.set_format(\"torch\")\n"
   ]
  },
  {
   "cell_type": "code",
   "execution_count": 13,
   "id": "30ff86a6-b057-47a1-b1a8-0cd7d2f2d06f",
   "metadata": {},
   "outputs": [],
   "source": [
    "batch_size = 8\n",
    "metric_name = \"f1\""
   ]
  },
  {
   "cell_type": "code",
   "execution_count": 14,
   "id": "c88ca23a-8153-4985-b7d5-e19eddadfe95",
   "metadata": {},
   "outputs": [
    {
     "name": "stderr",
     "output_type": "stream",
     "text": [
      "2023-11-16 00:23:24.875981: I tensorflow/core/util/util.cc:169] oneDNN custom operations are on. You may see slightly different numerical results due to floating-point round-off errors from different computation orders. To turn them off, set the environment variable `TF_ENABLE_ONEDNN_OPTS=0`.\n"
     ]
    }
   ],
   "source": [
    "from transformers import TrainingArguments, Trainer, EarlyStoppingCallback\n",
    "\n",
    "args = TrainingArguments(\n",
    "    output_dir='./result_multi_1', \n",
    "    evaluation_strategy = \"steps\",\n",
    "    save_strategy = \"steps\",\n",
    "    learning_rate=2e-5,#2e-4\n",
    "    per_device_train_batch_size=batch_size,\n",
    "    per_device_eval_batch_size=batch_size,\n",
    "    num_train_epochs=3,\n",
    "    weight_decay=0.01,\n",
    "    load_best_model_at_end=True,\n",
    "    metric_for_best_model=metric_name,\n",
    "    logging_steps=500,\n",
    "    #push_to_hub=True,\n",
    ")"
   ]
  },
  {
   "cell_type": "code",
   "execution_count": 15,
   "id": "bd3c64c9-8693-42b8-9e3b-de4e7b1c3af4",
   "metadata": {},
   "outputs": [],
   "source": [
    "from sklearn.metrics import f1_score, roc_auc_score, accuracy_score, hamming_loss\n",
    "from transformers import EvalPrediction\n",
    "import torch\n",
    "import numpy as np\n",
    "\n",
    "    \n",
    "# source: https://jesusleal.io/2021/04/21/Longformer-multilabel-classification/\n",
    "def multi_label_metrics(predictions, labels, threshold=0.5):\n",
    "    # first, apply sigmoid on predictions which are of shape (batch_size, num_labels)\n",
    "    sigmoid = torch.nn.Sigmoid()\n",
    "    probs = sigmoid(torch.Tensor(predictions))\n",
    "    # next, use threshold to turn them into integer predictions\n",
    "    y_pred = np.zeros(probs.shape)\n",
    "    y_pred[np.where(probs >= threshold)] = 1\n",
    "    #print(y_pred)\n",
    "    # finally, compute metrics\n",
    "    y_true = labels\n",
    "    #print(y_true)\n",
    "    f1_macro_average = f1_score(y_true=y_true, y_pred=y_pred, average='macro')\n",
    "    roc_auc = roc_auc_score(y_true, y_pred, average = 'macro')\n",
    "    accuracy = accuracy_score(y_true, y_pred)\n",
    "    #hammingloss = hamming_loss(y_true, y_pred)\n",
    "  \n",
    "    # return as dictionary\n",
    "    metrics = {'f1': f1_macro_average,\n",
    "               'roc_auc': roc_auc,\n",
    "               'accuracy': accuracy,\n",
    "               #\"hamming_loss\": hammingloss\n",
    "              }\n",
    "    return metrics\n",
    "\n",
    "def compute_metrics(p: EvalPrediction):\n",
    "    preds = p.predictions[0] if isinstance(p.predictions, \n",
    "            tuple) else p.predictions\n",
    "    result = multi_label_metrics(\n",
    "        predictions=preds, \n",
    "        labels=p.label_ids)\n",
    "    return result"
   ]
  },
  {
   "cell_type": "code",
   "execution_count": 16,
   "id": "9bafd56c-87d1-42c8-9f48-682c4df71bb5",
   "metadata": {},
   "outputs": [],
   "source": [
    "#64\n",
    "\n",
    "# from torch import nn\n",
    "\n",
    "# class CustomTrainer(Trainer):\n",
    "#     def compute_loss(self, model, inputs, return_outputs=False):\n",
    "#         labels = inputs.get(\"labels\")\n",
    "#         # forward pass\n",
    "#         outputs = model(**inputs)\n",
    "#         #print(outputs)\n",
    "#         logits = outputs.get(\"logits\")\n",
    "#         logits = logits.view(-1).to(\"cpu\")\n",
    "#         labels = labels.view(-1).to(\"cpu\")\n",
    "        \n",
    "#         # compute custom loss (suppose one has 3 labels with different weights)\n",
    "#         pos_weight = torch.tensor([28804/14396,30633/12567, 30176/13024, 34078/9122, 39131/4069, 37547/5653, 36426/6774, 36746/6454, \n",
    "#                                   28804/14396,30633/12567, 30176/13024, 34078/9122, 39131/4069, 37547/5653, 36426/6774, 36746/6454,\n",
    "#                                   28804/14396,30633/12567, 30176/13024, 34078/9122, 39131/4069, 37547/5653, 36426/6774, 36746/6454,\n",
    "#                                   28804/14396,30633/12567, 30176/13024, 34078/9122, 39131/4069, 37547/5653, 36426/6774, 36746/6454,\n",
    "#                                   28804/14396,30633/12567, 30176/13024, 34078/9122, 39131/4069, 37547/5653, 36426/6774, 36746/6454,\n",
    "#                                   28804/14396,30633/12567, 30176/13024, 34078/9122, 39131/4069, 37547/5653, 36426/6774, 36746/6454,\n",
    "#                                   28804/14396,30633/12567, 30176/13024, 34078/9122, 39131/4069, 37547/5653, 36426/6774, 36746/6454,\n",
    "#                                   28804/14396,30633/12567, 30176/13024, 34078/9122, 39131/4069, 37547/5653, 36426/6774, 36746/6454])\n",
    "#         loss_fct = nn.BCEWithLogitsLoss(pos_weight=pos_weight)\n",
    "\n",
    "#         loss = loss_fct(logits, labels)\n",
    "      \n",
    "#         return (loss, outputs) if return_outputs else loss\n",
    "    \n",
    "    \n"
   ]
  },
  {
   "cell_type": "code",
   "execution_count": 17,
   "id": "866d7618-b184-4bc9-bf65-2f3814fffaf6",
   "metadata": {},
   "outputs": [],
   "source": [
    "from torch import nn\n",
    "\n",
    "class CustomTrainer(Trainer):\n",
    "    def compute_loss(self, model, inputs, return_outputs=False):\n",
    "        labels = inputs.get(\"labels\").to(\"cpu\")\n",
    "\n",
    "        # forward pass\n",
    "        outputs = model(**inputs)\n",
    "        logits = outputs.get(\"logits\").to(\"cpu\")\n",
    "\n",
    "        \n",
    "        # compute custom loss (suppose one has 3 labels with different weights)\n",
    "        pos_weight = torch.tensor([28804/14396,30633/12567, 30176/13024, 34078/9122, 39131/4069, 37547/5653, 36426/6774, 36746/6454])\n",
    "        loss_fct = nn.BCEWithLogitsLoss(pos_weight=pos_weight)\n",
    "        #loss_fct = nn.BCEWithLogitsLoss()\n",
    "        loss = loss_fct(logits, labels)\n",
    "      \n",
    "        return (loss, outputs) if return_outputs else loss\n",
    "    \n",
    "    \n"
   ]
  },
  {
   "cell_type": "code",
   "execution_count": 18,
   "id": "c15c96d7-d804-4c63-98b3-311c3fc0d5e2",
   "metadata": {},
   "outputs": [
    {
     "name": "stderr",
     "output_type": "stream",
     "text": [
      "/usr/local/lib/python3.8/dist-packages/accelerate/utils/imports.py:197: UserWarning: Intel Extension for PyTorch 1.11 needs to work with PyTorch 1.11.*, but PyTorch 1.12.1+cu113 is found. Please switch to the matching version and run again.\n",
      "  warnings.warn(\n"
     ]
    }
   ],
   "source": [
    "trainer = CustomTrainer(\n",
    "    model = model,\n",
    "    args = args,\n",
    "    train_dataset=train_tokenized_dataset ,\n",
    "    eval_dataset=dev_tokenized_dataset ,\n",
    "    tokenizer=tokenizer,\n",
    "    compute_metrics=compute_metrics,\n",
    "    callbacks=[EarlyStoppingCallback(early_stopping_patience=2)]\n",
    ")"
   ]
  },
  {
   "cell_type": "code",
   "execution_count": 19,
   "id": "e3ce8e0b-023d-48f5-b71f-adc0a4364b5d",
   "metadata": {},
   "outputs": [
    {
     "name": "stderr",
     "output_type": "stream",
     "text": [
      "/usr/local/lib/python3.8/dist-packages/accelerate/utils/imports.py:197: UserWarning: Intel Extension for PyTorch 1.11 needs to work with PyTorch 1.11.*, but PyTorch 1.12.1+cu113 is found. Please switch to the matching version and run again.\n",
      "  warnings.warn(\n",
      "/usr/local/lib/python3.8/dist-packages/transformers/optimization.py:411: FutureWarning: This implementation of AdamW is deprecated and will be removed in a future version. Use the PyTorch implementation torch.optim.AdamW instead, or set `no_deprecation_warning=True` to disable this warning\n",
      "  warnings.warn(\n"
     ]
    },
    {
     "data": {
      "text/html": [
       "\n",
       "    <div>\n",
       "      \n",
       "      <progress value='4000' max='15000' style='width:300px; height:20px; vertical-align: middle;'></progress>\n",
       "      [ 4000/15000 15:34 < 42:51, 4.28 it/s, Epoch 0/3]\n",
       "    </div>\n",
       "    <table border=\"1\" class=\"dataframe\">\n",
       "  <thead>\n",
       " <tr style=\"text-align: left;\">\n",
       "      <th>Step</th>\n",
       "      <th>Training Loss</th>\n",
       "      <th>Validation Loss</th>\n",
       "      <th>F1</th>\n",
       "      <th>Roc Auc</th>\n",
       "      <th>Accuracy</th>\n",
       "    </tr>\n",
       "  </thead>\n",
       "  <tbody>\n",
       "    <tr>\n",
       "      <td>500</td>\n",
       "      <td>1.052400</td>\n",
       "      <td>0.951247</td>\n",
       "      <td>0.413073</td>\n",
       "      <td>0.662586</td>\n",
       "      <td>0.051667</td>\n",
       "    </tr>\n",
       "    <tr>\n",
       "      <td>1000</td>\n",
       "      <td>0.994600</td>\n",
       "      <td>0.938912</td>\n",
       "      <td>0.416131</td>\n",
       "      <td>0.659203</td>\n",
       "      <td>0.064167</td>\n",
       "    </tr>\n",
       "    <tr>\n",
       "      <td>1500</td>\n",
       "      <td>0.984100</td>\n",
       "      <td>0.919168</td>\n",
       "      <td>0.430279</td>\n",
       "      <td>0.664332</td>\n",
       "      <td>0.076667</td>\n",
       "    </tr>\n",
       "    <tr>\n",
       "      <td>2000</td>\n",
       "      <td>0.975900</td>\n",
       "      <td>0.913091</td>\n",
       "      <td>0.435158</td>\n",
       "      <td>0.664694</td>\n",
       "      <td>0.067500</td>\n",
       "    </tr>\n",
       "    <tr>\n",
       "      <td>2500</td>\n",
       "      <td>0.963100</td>\n",
       "      <td>0.931217</td>\n",
       "      <td>0.414243</td>\n",
       "      <td>0.671272</td>\n",
       "      <td>0.055000</td>\n",
       "    </tr>\n",
       "    <tr>\n",
       "      <td>3000</td>\n",
       "      <td>0.942200</td>\n",
       "      <td>0.902980</td>\n",
       "      <td>0.448545</td>\n",
       "      <td>0.665182</td>\n",
       "      <td>0.084167</td>\n",
       "    </tr>\n",
       "    <tr>\n",
       "      <td>3500</td>\n",
       "      <td>0.950600</td>\n",
       "      <td>0.910416</td>\n",
       "      <td>0.439764</td>\n",
       "      <td>0.659368</td>\n",
       "      <td>0.102500</td>\n",
       "    </tr>\n",
       "    <tr>\n",
       "      <td>4000</td>\n",
       "      <td>0.939200</td>\n",
       "      <td>0.909260</td>\n",
       "      <td>0.433965</td>\n",
       "      <td>0.676082</td>\n",
       "      <td>0.065000</td>\n",
       "    </tr>\n",
       "  </tbody>\n",
       "</table><p>"
      ],
      "text/plain": [
       "<IPython.core.display.HTML object>"
      ]
     },
     "metadata": {},
     "output_type": "display_data"
    },
    {
     "data": {
      "text/plain": [
       "TrainOutput(global_step=4000, training_loss=0.9752636489868164, metrics={'train_runtime': 931.1686, 'train_samples_per_second': 128.87, 'train_steps_per_second': 16.109, 'total_flos': 8420007346176000.0, 'train_loss': 0.9752636489868164, 'epoch': 0.8})"
      ]
     },
     "execution_count": 19,
     "metadata": {},
     "output_type": "execute_result"
    }
   ],
   "source": [
    "trainer.train()"
   ]
  },
  {
   "cell_type": "code",
   "execution_count": 20,
   "id": "5432bb78-fd00-482e-b391-741cab3ec0f8",
   "metadata": {},
   "outputs": [
    {
     "name": "stdout",
     "output_type": "stream",
     "text": [
      "[28804, 30633, 30176, 34078, 39131, 37547, 36426, 36746]\n",
      "[14396, 12567, 13024, 9122, 4069, 5653, 6774, 6454]\n"
     ]
    }
   ],
   "source": [
    "neg_list = []\n",
    "pos_list = []\n",
    "\n",
    "pos_list.append(len(df[df[\"Writer_Joy\"] == 1]))\n",
    "pos_list.append(len(df[df[\"Writer_Sadness\"] == 1]))\n",
    "pos_list.append(len(df[df[\"Writer_Anticipation\"] == 1]))\n",
    "pos_list.append(len(df[df[\"Writer_Surprise\"] == 1]))\n",
    "pos_list.append(len(df[df[\"Writer_Anger\"] == 1]))\n",
    "pos_list.append(len(df[df[\"Writer_Fear\"] == 1]))\n",
    "pos_list.append(len(df[df[\"Writer_Disgust\"] == 1]))\n",
    "pos_list.append(len(df[df[\"Writer_Trust\"] == 1]))\n",
    "\n",
    "neg_list.append(len(df[df[\"Writer_Joy\"] == 0]))\n",
    "neg_list.append(len(df[df[\"Writer_Sadness\"] == 0]))\n",
    "neg_list.append(len(df[df[\"Writer_Anticipation\"] == 0]))\n",
    "neg_list.append(len(df[df[\"Writer_Surprise\"] == 0]))\n",
    "neg_list.append(len(df[df[\"Writer_Anger\"] == 0]))\n",
    "neg_list.append(len(df[df[\"Writer_Fear\"] == 0]))\n",
    "neg_list.append(len(df[df[\"Writer_Disgust\"] == 0]))\n",
    "neg_list.append(len(df[df[\"Writer_Trust\"] == 0]))\n",
    "\n",
    "print(neg_list)\n",
    "print(pos_list)\n",
    "\n",
    "pos_weight = torch.tensor([28804/14396,30633/12567, 30176/13024, 34078/9122, 39131/4069, 37547/5653, 36426/6774, 36746/6454])"
   ]
  },
  {
   "cell_type": "code",
   "execution_count": 21,
   "id": "c5f9b83f-6a6d-4277-ad29-2d272ca811f0",
   "metadata": {},
   "outputs": [
    {
     "data": {
      "text/html": [],
      "text/plain": [
       "<IPython.core.display.HTML object>"
      ]
     },
     "metadata": {},
     "output_type": "display_data"
    },
    {
     "data": {
      "text/plain": [
       "{'eval_loss': 0.9029801487922668,\n",
       " 'eval_f1': 0.4485453959179223,\n",
       " 'eval_roc_auc': 0.6651819746117964,\n",
       " 'eval_accuracy': 0.08416666666666667,\n",
       " 'eval_runtime': 9.8849,\n",
       " 'eval_samples_per_second': 121.398,\n",
       " 'eval_steps_per_second': 15.175,\n",
       " 'epoch': 0.8}"
      ]
     },
     "execution_count": 21,
     "metadata": {},
     "output_type": "execute_result"
    }
   ],
   "source": [
    "trainer.evaluate()"
   ]
  },
  {
   "cell_type": "code",
   "execution_count": 152,
   "id": "e7f31624-2de1-4945-9095-914e0bbe415c",
   "metadata": {},
   "outputs": [],
   "source": [
    "#torch.save(model, 'multi_pos_weight_.pth')"
   ]
  },
  {
   "cell_type": "code",
   "execution_count": 12,
   "id": "6dd4133b-9ef4-45c0-ab76-4d24112492cf",
   "metadata": {},
   "outputs": [],
   "source": [
    "import torch\n",
    "model = torch.load('multi_pos_weight_.pth')\n"
   ]
  },
  {
   "cell_type": "code",
   "execution_count": 19,
   "id": "6b06b974-dfd1-473d-94f8-c189d915aca8",
   "metadata": {},
   "outputs": [
    {
     "data": {
      "text/html": [
       "<pre style=\"white-space:pre;overflow-x:auto;line-height:normal;font-family:Menlo,'DejaVu Sans Mono',consolas,'Courier New',monospace\"><span style=\"color: #800000; text-decoration-color: #800000\">╭──────────────────────────── </span><span style=\"color: #800000; text-decoration-color: #800000; font-weight: bold\">Traceback </span><span style=\"color: #bf7f7f; text-decoration-color: #bf7f7f; font-weight: bold\">(most recent call last)</span><span style=\"color: #800000; text-decoration-color: #800000\"> ────────────────────────────╮</span>\n",
       "<span style=\"color: #800000; text-decoration-color: #800000\">│</span>                                                                                           <span style=\"color: #800000; text-decoration-color: #800000\">│</span>\n",
       "<span style=\"color: #800000; text-decoration-color: #800000\">│</span> <span style=\"color: #bfbf7f; text-decoration-color: #bfbf7f\">/tmp/ipykernel_2472/</span><span style=\"color: #808000; text-decoration-color: #808000; font-weight: bold\">827558005.py</span>:<span style=\"color: #0000ff; text-decoration-color: #0000ff\">1</span> in <span style=\"color: #00ff00; text-decoration-color: #00ff00\">&lt;cell line: 1&gt;</span>                                      <span style=\"color: #800000; text-decoration-color: #800000\">│</span>\n",
       "<span style=\"color: #800000; text-decoration-color: #800000\">│</span>                                                                                           <span style=\"color: #800000; text-decoration-color: #800000\">│</span>\n",
       "<span style=\"color: #800000; text-decoration-color: #800000\">│</span> <span style=\"color: #800000; text-decoration-color: #800000; font-style: italic\">[Errno 2] No such file or directory: '/tmp/ipykernel_2472/827558005.py'</span>                   <span style=\"color: #800000; text-decoration-color: #800000\">│</span>\n",
       "<span style=\"color: #800000; text-decoration-color: #800000\">╰───────────────────────────────────────────────────────────────────────────────────────────╯</span>\n",
       "<span style=\"color: #ff0000; text-decoration-color: #ff0000; font-weight: bold\">NameError: </span>name <span style=\"color: #008000; text-decoration-color: #008000\">'trainer'</span> is not defined\n",
       "</pre>\n"
      ],
      "text/plain": [
       "\u001b[31m╭─\u001b[0m\u001b[31m─────────────────────────── \u001b[0m\u001b[1;31mTraceback \u001b[0m\u001b[1;2;31m(most recent call last)\u001b[0m\u001b[31m ───────────────────────────\u001b[0m\u001b[31m─╮\u001b[0m\n",
       "\u001b[31m│\u001b[0m                                                                                           \u001b[31m│\u001b[0m\n",
       "\u001b[31m│\u001b[0m \u001b[2;33m/tmp/ipykernel_2472/\u001b[0m\u001b[1;33m827558005.py\u001b[0m:\u001b[94m1\u001b[0m in \u001b[92m<cell line: 1>\u001b[0m                                      \u001b[31m│\u001b[0m\n",
       "\u001b[31m│\u001b[0m                                                                                           \u001b[31m│\u001b[0m\n",
       "\u001b[31m│\u001b[0m \u001b[3;31m[Errno 2] No such file or directory: '/tmp/ipykernel_2472/827558005.py'\u001b[0m                   \u001b[31m│\u001b[0m\n",
       "\u001b[31m╰───────────────────────────────────────────────────────────────────────────────────────────╯\u001b[0m\n",
       "\u001b[1;91mNameError: \u001b[0mname \u001b[32m'trainer'\u001b[0m is not defined\n"
      ]
     },
     "metadata": {},
     "output_type": "display_data"
    }
   ],
   "source": [
    "pred_result = trainer.predict(test_tokenized_dataset)\n",
    "pred_result"
   ]
  },
  {
   "cell_type": "code",
   "execution_count": 202,
   "id": "554be8aa-ca31-48ea-9c82-fa768b8ea6c4",
   "metadata": {},
   "outputs": [],
   "source": [
    "import numpy as np\n",
    "y_preds = pred_result.predictions\n",
    "#dk = pd.DataFrame(y_preds)\n",
    "\n",
    "#dk2 = pd.DataFrame(y_test)\n",
    "sigmoid = torch.nn.Sigmoid()\n",
    "probs = sigmoid(torch.Tensor(y_preds))\n",
    "\n",
    "predictions = np.zeros(probs.shape)\n",
    "predictions[np.where(probs >= 0.5)]= 1\n",
    "\n",
    "predictions = predictions.astype(int)\n",
    "#y_test = y_test.astype(int)\n",
    "y_test = test_labels"
   ]
  },
  {
   "cell_type": "code",
   "execution_count": 203,
   "id": "2667a940-7741-467c-a937-4451f0cda3f9",
   "metadata": {},
   "outputs": [],
   "source": [
    "\n",
    "y_test_hozon = pd.Series(y_test)\n",
    "y_test_hozon = pd.DataFrame(y_test_hozon, columns = [\"y_test\"])\n",
    "predictions = predictions.tolist()\n",
    "\n",
    "\n",
    "y_pred_hozon = pd.Series(predictions)\n",
    "y_pred_hozon = pd.DataFrame(y_pred_hozon, columns = [\"y_pred\"])\n",
    "y_pred_hozon\n",
    "y_pred_hozon.to_csv('y_pred_hozon.csv')\n",
    "y_test_hozon.to_csv('y_test_hozon.csv')\n",
    "# k = h[\"y_test\"].to_list()\n"
   ]
  },
  {
   "cell_type": "code",
   "execution_count": 13,
   "id": "bd1395ca-fb81-44db-933c-71cddb62df9d",
   "metadata": {},
   "outputs": [
    {
     "name": "stderr",
     "output_type": "stream",
     "text": [
      "2024-01-11 10:04:44.920222: I tensorflow/core/util/util.cc:169] oneDNN custom operations are on. You may see slightly different numerical results due to floating-point round-off errors from different computation orders. To turn them off, set the environment variable `TF_ENABLE_ONEDNN_OPTS=0`.\n"
     ]
    }
   ],
   "source": [
    "from transformers import TextClassificationPipeline\n",
    "import torch.nn as nn\n",
    "\n",
    "class TextClassificationPipelineAddOutputs(TextClassificationPipeline):\n",
    "    \n",
    "    def postprocess(self, model_outputs, function_to_apply=None, return_all_scores=False):\n",
    "        # 既存の処理を行います\n",
    "        processed = super().postprocess(model_outputs, function_to_apply, return_all_scores)\n",
    "        \n",
    "        logits = model_outputs['logits']\n",
    "        \n",
    "        logits =torch.sigmoid(logits)\n",
    "        \n",
    "        if return_all_scores:\n",
    "            return [{**proc, **{'logits':logits}} for proc in processed]\n",
    "        else:\n",
    "            #print(processed)\n",
    "            def get_score(data: dict):\n",
    "                return data['score']\n",
    "            if len(processed) > 1:\n",
    "                max_proc = max(processed, key=get_score)\n",
    "            else:\n",
    "                max_proc = processed[0]\n",
    "            return {**max_proc, **{'logits':logits}}\n",
    "            #return [{**proc, **{'logits':logits}} for proc in processed]"
   ]
  },
  {
   "cell_type": "code",
   "execution_count": 14,
   "id": "46d3669f-7c7c-4b6d-95e0-4774af3938e1",
   "metadata": {},
   "outputs": [
    {
     "name": "stderr",
     "output_type": "stream",
     "text": [
      "Xformers is not installed correctly. If you want to use memory_efficient_attention to accelerate training use the following command to install Xformers\n",
      "pip install xformers.\n"
     ]
    }
   ],
   "source": [
    "from transformers import pipeline\n",
    "from transformers import TextClassificationPipeline\n",
    "\n",
    "\n",
    "#sentiment_analyzer = pipeline(\"sentiment-analysis\",model = model.to(\"cpu\"), tokenizer = tokenizer)\n",
    "sentiment_analyzer =TextClassificationPipelineAddOutputs(model = model.to(\"cpu\"), tokenizer = tokenizer)"
   ]
  },
  {
   "cell_type": "code",
   "execution_count": 15,
   "id": "caab7ad7-0352-40ca-933b-02ce8581bf32",
   "metadata": {},
   "outputs": [],
   "source": [
    "num_labels= {\n",
    "        \"LABEL_0\":'喜び',\n",
    "        \"LABEL_1\":'悲しみ',\n",
    "        \"LABEL_2\":'期待',\n",
    "        \"LABEL_3\":'驚き',\n",
    "        \"LABEL_4\":'怒り',\n",
    "        \"LABEL_5\":'恐れ',\n",
    "        \"LABEL_6\":'嫌悪',\n",
    "        \"LABEL_7\":'信頼',\n",
    "}"
   ]
  },
  {
   "cell_type": "code",
   "execution_count": 16,
   "id": "edb2a4c7-0798-4e4a-a3db-876db8a9158e",
   "metadata": {},
   "outputs": [
    {
     "name": "stdout",
     "output_type": "stream",
     "text": [
      "喜び\n"
     ]
    }
   ],
   "source": [
    "\n",
    "result = sentiment_analyzer(\"楽しいね。\")\n",
    "\n",
    "print(num_labels[result[0]['label']])\n"
   ]
  },
  {
   "cell_type": "code",
   "execution_count": 17,
   "id": "8ee67932-48d4-430a-a8a9-94d599b6af5b",
   "metadata": {},
   "outputs": [
    {
     "data": {
      "text/html": [
       "<div>\n",
       "<style scoped>\n",
       "    .dataframe tbody tr th:only-of-type {\n",
       "        vertical-align: middle;\n",
       "    }\n",
       "\n",
       "    .dataframe tbody tr th {\n",
       "        vertical-align: top;\n",
       "    }\n",
       "\n",
       "    .dataframe thead th {\n",
       "        text-align: right;\n",
       "    }\n",
       "</style>\n",
       "<table border=\"1\" class=\"dataframe\">\n",
       "  <thead>\n",
       "    <tr style=\"text-align: right;\">\n",
       "      <th></th>\n",
       "      <th>発話者2</th>\n",
       "      <th>応答者2</th>\n",
       "      <th>対話行為</th>\n",
       "      <th>対話行為2</th>\n",
       "    </tr>\n",
       "  </thead>\n",
       "  <tbody>\n",
       "    <tr>\n",
       "      <th>0</th>\n",
       "      <td>どうよ、調子は。</td>\n",
       "      <td>何かねソービジー。</td>\n",
       "      <td>応答(平叙)</td>\n",
       "      <td>応答(平叙)</td>\n",
       "    </tr>\n",
       "    <tr>\n",
       "      <th>1</th>\n",
       "      <td>そうなん、何で？</td>\n",
       "      <td>大学の先生のお仕事を頼まれたりするんで、それでワープロ打ったりね、今度留学生が小学校で交流会...</td>\n",
       "      <td>応答(平叙)</td>\n",
       "      <td>応答(平叙)</td>\n",
       "    </tr>\n",
       "    <tr>\n",
       "      <th>2</th>\n",
       "      <td>え、留学生の世話をしろって？</td>\n",
       "      <td>違う。小学校で留学生と交流会をしましょうというやつの、その留学生自体が集まらんもんで、呼んで...</td>\n",
       "      <td>自己開示</td>\n",
       "      <td>応答(YesNo)</td>\n",
       "    </tr>\n",
       "    <tr>\n",
       "      <th>3</th>\n",
       "      <td>あー、呼んでこないといけないんだ。</td>\n",
       "      <td>ギャラは出るの？今、食ってるものがギャラなわけ。</td>\n",
       "      <td>質問(YesNo)</td>\n",
       "      <td>質問(YesNo)</td>\n",
       "    </tr>\n",
       "    <tr>\n",
       "      <th>4</th>\n",
       "      <td>そう、そうなんだ。</td>\n",
       "      <td>あんたのことだでそういうことはないと俺は信じとる。</td>\n",
       "      <td>自己開示</td>\n",
       "      <td>自己開示</td>\n",
       "    </tr>\n",
       "  </tbody>\n",
       "</table>\n",
       "</div>"
      ],
      "text/plain": [
       "                発話者2                                               応答者2  \\\n",
       "0           どうよ、調子は。                                          何かねソービジー。   \n",
       "1           そうなん、何で？  大学の先生のお仕事を頼まれたりするんで、それでワープロ打ったりね、今度留学生が小学校で交流会...   \n",
       "2     え、留学生の世話をしろって？  違う。小学校で留学生と交流会をしましょうというやつの、その留学生自体が集まらんもんで、呼んで...   \n",
       "3  あー、呼んでこないといけないんだ。                           ギャラは出るの？今、食ってるものがギャラなわけ。   \n",
       "4          そう、そうなんだ。                          あんたのことだでそういうことはないと俺は信じとる。   \n",
       "\n",
       "        対話行為      対話行為2  \n",
       "0     応答(平叙)     応答(平叙)  \n",
       "1     応答(平叙)     応答(平叙)  \n",
       "2       自己開示  応答(YesNo)  \n",
       "3  質問(YesNo)  質問(YesNo)  \n",
       "4       自己開示       自己開示  "
      ]
     },
     "execution_count": 17,
     "metadata": {},
     "output_type": "execute_result"
    }
   ],
   "source": [
    "import pandas as pd\n",
    "ketugou = pd.read_excel(\"../daialogact/zentai1.xlsx\")\n",
    "ketugou.head()\n"
   ]
  },
  {
   "cell_type": "code",
   "execution_count": 18,
   "id": "8d6a1d83-3097-45ed-b5b4-17788055655a",
   "metadata": {},
   "outputs": [],
   "source": [
    "ketugou = ketugou.dropna(how=\"any\", axis=0)"
   ]
  },
  {
   "cell_type": "code",
   "execution_count": 19,
   "id": "a4bb6a74-e0b7-4254-8e53-f3e31c86dfb2",
   "metadata": {},
   "outputs": [
    {
     "data": {
      "text/html": [
       "<div>\n",
       "<style scoped>\n",
       "    .dataframe tbody tr th:only-of-type {\n",
       "        vertical-align: middle;\n",
       "    }\n",
       "\n",
       "    .dataframe tbody tr th {\n",
       "        vertical-align: top;\n",
       "    }\n",
       "\n",
       "    .dataframe thead th {\n",
       "        text-align: right;\n",
       "    }\n",
       "</style>\n",
       "<table border=\"1\" class=\"dataframe\">\n",
       "  <thead>\n",
       "    <tr style=\"text-align: right;\">\n",
       "      <th></th>\n",
       "      <th>発話者2</th>\n",
       "      <th>応答者2</th>\n",
       "      <th>対話行為</th>\n",
       "      <th>対話行為2</th>\n",
       "    </tr>\n",
       "  </thead>\n",
       "  <tbody>\n",
       "  </tbody>\n",
       "</table>\n",
       "</div>"
      ],
      "text/plain": [
       "Empty DataFrame\n",
       "Columns: [発話者2, 応答者2, 対話行為, 対話行為2]\n",
       "Index: []"
      ]
     },
     "execution_count": 19,
     "metadata": {},
     "output_type": "execute_result"
    }
   ],
   "source": [
    "ketugou[ketugou.isna().any(axis=1)]"
   ]
  },
  {
   "cell_type": "code",
   "execution_count": 20,
   "id": "35b0f015-3399-43db-90f2-46fb093b0133",
   "metadata": {},
   "outputs": [],
   "source": [
    "hatuwasya = ketugou[\"発話者2\"].to_list()\n",
    "kanjyou = []\n",
    "\n",
    "for j in range(len(hatuwasya)):\n",
    "    # print(j)\n",
    "    \n",
    "    result = sentiment_analyzer(hatuwasya[j])\n",
    "    kanjyou.append(num_labels[result[0]['label']])\n",
    "    \n",
    "    \n",
    "#ketugou[\"感情\"] = kanjyou\n",
    "\n",
    "#data.to_excel(r + \"kanjyou.xlsx\", index = False)\n",
    "#data[\"感情\"].head()"
   ]
  },
  {
   "cell_type": "code",
   "execution_count": 22,
   "id": "319840a8-26d3-42f8-98f6-3456b20f90ef",
   "metadata": {},
   "outputs": [
    {
     "data": {
      "text/html": [
       "<div>\n",
       "<style scoped>\n",
       "    .dataframe tbody tr th:only-of-type {\n",
       "        vertical-align: middle;\n",
       "    }\n",
       "\n",
       "    .dataframe tbody tr th {\n",
       "        vertical-align: top;\n",
       "    }\n",
       "\n",
       "    .dataframe thead th {\n",
       "        text-align: right;\n",
       "    }\n",
       "</style>\n",
       "<table border=\"1\" class=\"dataframe\">\n",
       "  <thead>\n",
       "    <tr style=\"text-align: right;\">\n",
       "      <th></th>\n",
       "      <th>発話者2</th>\n",
       "      <th>応答者2</th>\n",
       "      <th>対話行為</th>\n",
       "      <th>対話行為2</th>\n",
       "      <th>感情</th>\n",
       "    </tr>\n",
       "  </thead>\n",
       "  <tbody>\n",
       "    <tr>\n",
       "      <th>0</th>\n",
       "      <td>どうよ、調子は。</td>\n",
       "      <td>何かねソービジー。</td>\n",
       "      <td>応答(平叙)</td>\n",
       "      <td>応答(平叙)</td>\n",
       "      <td>悲しみ</td>\n",
       "    </tr>\n",
       "    <tr>\n",
       "      <th>1</th>\n",
       "      <td>そうなん、何で？</td>\n",
       "      <td>大学の先生のお仕事を頼まれたりするんで、それでワープロ打ったりね、今度留学生が小学校で交流会...</td>\n",
       "      <td>応答(平叙)</td>\n",
       "      <td>応答(平叙)</td>\n",
       "      <td>驚き</td>\n",
       "    </tr>\n",
       "    <tr>\n",
       "      <th>2</th>\n",
       "      <td>え、留学生の世話をしろって？</td>\n",
       "      <td>違う。小学校で留学生と交流会をしましょうというやつの、その留学生自体が集まらんもんで、呼んで...</td>\n",
       "      <td>自己開示</td>\n",
       "      <td>応答(YesNo)</td>\n",
       "      <td>驚き</td>\n",
       "    </tr>\n",
       "    <tr>\n",
       "      <th>3</th>\n",
       "      <td>あー、呼んでこないといけないんだ。</td>\n",
       "      <td>ギャラは出るの？今、食ってるものがギャラなわけ。</td>\n",
       "      <td>質問(YesNo)</td>\n",
       "      <td>質問(YesNo)</td>\n",
       "      <td>悲しみ</td>\n",
       "    </tr>\n",
       "    <tr>\n",
       "      <th>4</th>\n",
       "      <td>そう、そうなんだ。</td>\n",
       "      <td>あんたのことだでそういうことはないと俺は信じとる。</td>\n",
       "      <td>自己開示</td>\n",
       "      <td>自己開示</td>\n",
       "      <td>恐れ</td>\n",
       "    </tr>\n",
       "    <tr>\n",
       "      <th>...</th>\n",
       "      <td>...</td>\n",
       "      <td>...</td>\n",
       "      <td>...</td>\n",
       "      <td>...</td>\n",
       "      <td>...</td>\n",
       "    </tr>\n",
       "    <tr>\n",
       "      <th>26097</th>\n",
       "      <td>Ｏがね、たまにわけわからんこと言うんだよ。</td>\n",
       "      <td>ああ、Ｏわからんなあ。</td>\n",
       "      <td>共感</td>\n",
       "      <td>共感</td>\n",
       "      <td>嫌悪</td>\n",
       "    </tr>\n",
       "    <tr>\n",
       "      <th>26098</th>\n",
       "      <td>夏って窓開けても、熱風が吹いてくるじゃーん。</td>\n",
       "      <td>そうそうそう。そうなんだよね。</td>\n",
       "      <td>共感</td>\n",
       "      <td>共感</td>\n",
       "      <td>恐れ</td>\n",
       "    </tr>\n",
       "    <tr>\n",
       "      <th>26099</th>\n",
       "      <td>あの時のつらい副作用を、忘れなさいって言っても無理。</td>\n",
       "      <td>無理、無理よ、無理。だから。</td>\n",
       "      <td>共感</td>\n",
       "      <td>共感</td>\n",
       "      <td>悲しみ</td>\n",
       "    </tr>\n",
       "    <tr>\n",
       "      <th>26100</th>\n",
       "      <td>だって汽車って、あたしの中では蒸気で走るものっていう認識があるんだけど。</td>\n",
       "      <td>わかるわかる。あれが汽車だよね。</td>\n",
       "      <td>共感</td>\n",
       "      <td>共感</td>\n",
       "      <td>驚き</td>\n",
       "    </tr>\n",
       "    <tr>\n",
       "      <th>26101</th>\n",
       "      <td>なんか、お総菜屋さんとか普通にあってほしいよ、もっと。</td>\n",
       "      <td>少ないねー。お弁当屋さんはあるけど。</td>\n",
       "      <td>共感</td>\n",
       "      <td>共感</td>\n",
       "      <td>期待</td>\n",
       "    </tr>\n",
       "  </tbody>\n",
       "</table>\n",
       "<p>26090 rows × 5 columns</p>\n",
       "</div>"
      ],
      "text/plain": [
       "                                       発話者2  \\\n",
       "0                                  どうよ、調子は。   \n",
       "1                                  そうなん、何で？   \n",
       "2                            え、留学生の世話をしろって？   \n",
       "3                         あー、呼んでこないといけないんだ。   \n",
       "4                                 そう、そうなんだ。   \n",
       "...                                     ...   \n",
       "26097                 Ｏがね、たまにわけわからんこと言うんだよ。   \n",
       "26098                夏って窓開けても、熱風が吹いてくるじゃーん。   \n",
       "26099            あの時のつらい副作用を、忘れなさいって言っても無理。   \n",
       "26100  だって汽車って、あたしの中では蒸気で走るものっていう認識があるんだけど。   \n",
       "26101           なんか、お総菜屋さんとか普通にあってほしいよ、もっと。   \n",
       "\n",
       "                                                    応答者2       対話行為  \\\n",
       "0                                              何かねソービジー。     応答(平叙)   \n",
       "1      大学の先生のお仕事を頼まれたりするんで、それでワープロ打ったりね、今度留学生が小学校で交流会...     応答(平叙)   \n",
       "2      違う。小学校で留学生と交流会をしましょうというやつの、その留学生自体が集まらんもんで、呼んで...       自己開示   \n",
       "3                               ギャラは出るの？今、食ってるものがギャラなわけ。  質問(YesNo)   \n",
       "4                              あんたのことだでそういうことはないと俺は信じとる。       自己開示   \n",
       "...                                                  ...        ...   \n",
       "26097                                        ああ、Ｏわからんなあ。         共感   \n",
       "26098                                    そうそうそう。そうなんだよね。         共感   \n",
       "26099                                     無理、無理よ、無理。だから。         共感   \n",
       "26100                                   わかるわかる。あれが汽車だよね。         共感   \n",
       "26101                                 少ないねー。お弁当屋さんはあるけど。         共感   \n",
       "\n",
       "           対話行為2   感情  \n",
       "0         応答(平叙)  悲しみ  \n",
       "1         応答(平叙)   驚き  \n",
       "2      応答(YesNo)   驚き  \n",
       "3      質問(YesNo)  悲しみ  \n",
       "4           自己開示   恐れ  \n",
       "...          ...  ...  \n",
       "26097         共感   嫌悪  \n",
       "26098         共感   恐れ  \n",
       "26099         共感  悲しみ  \n",
       "26100         共感   驚き  \n",
       "26101         共感   期待  \n",
       "\n",
       "[26090 rows x 5 columns]"
      ]
     },
     "execution_count": 22,
     "metadata": {},
     "output_type": "execute_result"
    }
   ],
   "source": [
    "ketugou[\"感情\"] = kanjyou\n",
    "ketugou"
   ]
  },
  {
   "cell_type": "code",
   "execution_count": 23,
   "id": "4f410542-78fb-4302-bc45-0a3b17979a1a",
   "metadata": {},
   "outputs": [],
   "source": [
    "ketugou.to_csv(\"kanjyou_huyo_multi_weight2.csv\", index = False)"
   ]
  },
  {
   "cell_type": "code",
   "execution_count": 29,
   "id": "6378c2cb-4dbd-4f37-bada-edded03b3349",
   "metadata": {},
   "outputs": [],
   "source": [
    "# from transformers import TrainingArguments, Trainer, EarlyStoppingCallback\n",
    "# from datasets import load_metric\n",
    "# from sklearn.metrics import accuracy_score, precision_recall_fscore_support\n",
    "\n",
    "\n",
    "# def compute_metrics3(true, pred):\n",
    "#     #バイナリ―でもう一度microにしてみる\n",
    "#     #precision, recall, f1, _ = precision_recall_fscore_support(true, pred, average='micro')\n",
    "#     print(precision_recall_fscore_support(true, pred, average=\"micro\"))\n",
    "#     acc = accuracy_score(true, pred)\n",
    "#     #print(true)\n",
    "#     #print(pred)\n",
    "#     return {\n",
    "#         'accuracy': acc,\n",
    "#         'f1': f1,\n",
    "#         'precision': precision,\n",
    "#         'recall': recall\n",
    "#     }\n",
    "\n"
   ]
  },
  {
   "cell_type": "code",
   "execution_count": 34,
   "id": "c29c7d10-e3b4-43cc-b8b7-db2361190f29",
   "metadata": {},
   "outputs": [],
   "source": [
    "# from collections import ChainMap\n",
    "# cm = ChainMap(Joy,Sadness,Anticipation,Surprise,Anger,Fear,Disgust,Trust)"
   ]
  },
  {
   "cell_type": "code",
   "execution_count": 53,
   "id": "0274e3b8-7907-499f-936e-45a648e69d94",
   "metadata": {},
   "outputs": [
    {
     "data": {
      "text/plain": [
       "{'Joy': {'accuracy': 0.691, 'f1': 0.691, 'precision': 0.691, 'recall': 0.691},\n",
       " 'Sadness': {'accuracy': 0.675,\n",
       "  'f1': 0.675,\n",
       "  'precision': 0.675,\n",
       "  'recall': 0.675},\n",
       " 'Anticipation': {'accuracy': 0.636,\n",
       "  'f1': 0.636,\n",
       "  'precision': 0.636,\n",
       "  'recall': 0.636},\n",
       " 'Surprise': {'accuracy': 0.748,\n",
       "  'f1': 0.748,\n",
       "  'precision': 0.748,\n",
       "  'recall': 0.748},\n",
       " 'Anger': {'accuracy': 0.819,\n",
       "  'f1': 0.819,\n",
       "  'precision': 0.819,\n",
       "  'recall': 0.819},\n",
       " 'Fear': {'accuracy': 0.7675,\n",
       "  'f1': 0.7675,\n",
       "  'precision': 0.7675,\n",
       "  'recall': 0.7675},\n",
       " 'Disgust': {'accuracy': 0.7465,\n",
       "  'f1': 0.7465,\n",
       "  'precision': 0.7465,\n",
       "  'recall': 0.7465},\n",
       " 'Trust': {'accuracy': 0.5635,\n",
       "  'f1': 0.5635,\n",
       "  'precision': 0.5635,\n",
       "  'recall': 0.5635}}"
      ]
     },
     "execution_count": 53,
     "metadata": {},
     "output_type": "execute_result"
    }
   ],
   "source": [
    "# d = {\"Joy\":Joy,\"Sadness\":Sadness,\"Anticipation\":Anticipation,\"Surprise\":Surprise,\"Anger\":Anger,\"Fear\":Fear,\"Disgust\":Disgust,\"Trust\":Trust}\n",
    "# d"
   ]
  },
  {
   "cell_type": "code",
   "execution_count": 54,
   "id": "3132da4a-58f2-4270-b9a4-37d2422bdafe",
   "metadata": {},
   "outputs": [
    {
     "data": {
      "text/html": [
       "<div>\n",
       "<style scoped>\n",
       "    .dataframe tbody tr th:only-of-type {\n",
       "        vertical-align: middle;\n",
       "    }\n",
       "\n",
       "    .dataframe tbody tr th {\n",
       "        vertical-align: top;\n",
       "    }\n",
       "\n",
       "    .dataframe thead th {\n",
       "        text-align: right;\n",
       "    }\n",
       "</style>\n",
       "<table border=\"1\" class=\"dataframe\">\n",
       "  <thead>\n",
       "    <tr style=\"text-align: right;\">\n",
       "      <th></th>\n",
       "      <th>Joy</th>\n",
       "      <th>Sadness</th>\n",
       "      <th>Anticipation</th>\n",
       "      <th>Surprise</th>\n",
       "      <th>Anger</th>\n",
       "      <th>Fear</th>\n",
       "      <th>Disgust</th>\n",
       "      <th>Trust</th>\n",
       "    </tr>\n",
       "  </thead>\n",
       "  <tbody>\n",
       "    <tr>\n",
       "      <th>accuracy</th>\n",
       "      <td>0.691</td>\n",
       "      <td>0.675</td>\n",
       "      <td>0.636</td>\n",
       "      <td>0.748</td>\n",
       "      <td>0.819</td>\n",
       "      <td>0.7675</td>\n",
       "      <td>0.7465</td>\n",
       "      <td>0.5635</td>\n",
       "    </tr>\n",
       "    <tr>\n",
       "      <th>f1</th>\n",
       "      <td>0.691</td>\n",
       "      <td>0.675</td>\n",
       "      <td>0.636</td>\n",
       "      <td>0.748</td>\n",
       "      <td>0.819</td>\n",
       "      <td>0.7675</td>\n",
       "      <td>0.7465</td>\n",
       "      <td>0.5635</td>\n",
       "    </tr>\n",
       "    <tr>\n",
       "      <th>precision</th>\n",
       "      <td>0.691</td>\n",
       "      <td>0.675</td>\n",
       "      <td>0.636</td>\n",
       "      <td>0.748</td>\n",
       "      <td>0.819</td>\n",
       "      <td>0.7675</td>\n",
       "      <td>0.7465</td>\n",
       "      <td>0.5635</td>\n",
       "    </tr>\n",
       "    <tr>\n",
       "      <th>recall</th>\n",
       "      <td>0.691</td>\n",
       "      <td>0.675</td>\n",
       "      <td>0.636</td>\n",
       "      <td>0.748</td>\n",
       "      <td>0.819</td>\n",
       "      <td>0.7675</td>\n",
       "      <td>0.7465</td>\n",
       "      <td>0.5635</td>\n",
       "    </tr>\n",
       "  </tbody>\n",
       "</table>\n",
       "</div>"
      ],
      "text/plain": [
       "             Joy  Sadness  Anticipation  Surprise  Anger    Fear  Disgust  \\\n",
       "accuracy   0.691    0.675         0.636     0.748  0.819  0.7675   0.7465   \n",
       "f1         0.691    0.675         0.636     0.748  0.819  0.7675   0.7465   \n",
       "precision  0.691    0.675         0.636     0.748  0.819  0.7675   0.7465   \n",
       "recall     0.691    0.675         0.636     0.748  0.819  0.7675   0.7465   \n",
       "\n",
       "            Trust  \n",
       "accuracy   0.5635  \n",
       "f1         0.5635  \n",
       "precision  0.5635  \n",
       "recall     0.5635  "
      ]
     },
     "execution_count": 54,
     "metadata": {},
     "output_type": "execute_result"
    }
   ],
   "source": [
    "# hyouka = pd.DataFrame(d)\n",
    "# hyouka\n"
   ]
  },
  {
   "cell_type": "code",
   "execution_count": 61,
   "id": "415a430e-e1af-4cc6-a173-5ea4772dde40",
   "metadata": {},
   "outputs": [
    {
     "data": {
      "text/plain": [
       "<Figure size 640x480 with 0 Axes>"
      ]
     },
     "metadata": {},
     "output_type": "display_data"
    },
    {
     "data": {
      "image/png": "[encoded data removed]",
      "text/plain": [
       "<Figure size 1000x1000 with 1 Axes>"
      ]
     },
     "metadata": {},
     "output_type": "display_data"
    }
   ],
   "source": [
    "\n",
    "\n"
   ]
  },
  {
   "cell_type": "code",
   "execution_count": null,
   "id": "dc6eb5e8-f1ca-4aa5-b87f-36a0a6f2f7f2",
   "metadata": {},
   "outputs": [],
   "source": []
  }
 ],
 "metadata": {
  "kernelspec": {
   "display_name": "Python 3 (ipykernel)",
   "language": "python",
   "name": "python3"
  },
  "language_info": {
   "codemirror_mode": {
    "name": "ipython",
    "version": 3
   },
   "file_extension": ".py",
   "mimetype": "text/x-python",
   "name": "python",
   "nbconvert_exporter": "python",
   "pygments_lexer": "ipython3",
   "version": "3.8.10"
  }
 },
 "nbformat": 4,
 "nbformat_minor": 5
}
